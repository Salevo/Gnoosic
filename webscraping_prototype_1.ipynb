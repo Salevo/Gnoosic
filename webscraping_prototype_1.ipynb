{
 "cells": [
  {
   "cell_type": "markdown",
   "metadata": {},
   "source": [
    "## Web Scraping Lab 1:\n",
    "\n",
    "\n",
    "### Prepare your project:\n",
    "\n",
    "#### Business goal:\n",
    "\n",
    "Make sure you've understood the big picture of your project: the goal of the company (Gnod), their current product (Gnoosic), their strategy, and how your project fits into this context. Re-read the business case and the e-mail from the CTO, take a look at the flowchart and create an initial Trello board with the tasks you think you'll have to acomplish.\n",
    "\n",
    "#### Scraping popular songs:\n",
    "\n",
    "Your product will take a song as an input from the user and will output another song (the recommendation). In most cases, the recommended song will have to be similar to the inputed song, but the CTO thinks that if the song is on the top charts at the moment, the user will enjoy more a recommendation of a song that's also popular at the moment.\n",
    "\n",
    "You have find data on the internet about currently popular songs. Billboard mantains a weekly Top 100 of \"hot\" songs here: https://www.billboard.com/charts/hot-100. \n",
    "\n",
    "It's a good place to start! Scrape the current top 100 songs and their respective artists, and put the information into a pandas dataframe."
   ]
  },
  {
   "cell_type": "markdown",
   "metadata": {
    "heading_collapsed": true
   },
   "source": [
    "# Setup"
   ]
  },
  {
   "cell_type": "code",
   "execution_count": 1,
   "metadata": {
    "hidden": true
   },
   "outputs": [],
   "source": [
    "# Import libraries\n",
    "import requests # to download html code\n",
    "from bs4 import BeautifulSoup # to navigate through the html code\n",
    "import pandas as pd\n",
    "import numpy as np\n",
    "import re # for cleanup"
   ]
  },
  {
   "cell_type": "code",
   "execution_count": 2,
   "metadata": {
    "hidden": true
   },
   "outputs": [],
   "source": [
    "# url used\n",
    "url = \"https://www.billboard.com/charts/hot-100\""
   ]
  },
  {
   "cell_type": "code",
   "execution_count": 3,
   "metadata": {
    "hidden": true
   },
   "outputs": [
    {
     "name": "stdout",
     "output_type": "stream",
     "text": [
      "200\n"
     ]
    }
   ],
   "source": [
    "# Download html\n",
    "response = requests.get(url)\n",
    "# 200 status code means OK! response.status_code\n",
    "print(response.status_code)"
   ]
  },
  {
   "cell_type": "code",
   "execution_count": 4,
   "metadata": {
    "hidden": true
   },
   "outputs": [],
   "source": [
    "# Parse html\n",
    "soup = BeautifulSoup(response.text, 'html.parser')\n",
    "# Check up\n",
    "# soup"
   ]
  },
  {
   "cell_type": "markdown",
   "metadata": {
    "heading_collapsed": true
   },
   "source": [
    "# Scraping"
   ]
  },
  {
   "cell_type": "markdown",
   "metadata": {
    "hidden": true
   },
   "source": [
    "## Songname"
   ]
  },
  {
   "cell_type": "code",
   "execution_count": 5,
   "metadata": {
    "hidden": true
   },
   "outputs": [],
   "source": [
    "# charts > div > div.chart-list__wrapper > div > ol > li:nth-child(1) > button > span.chart-element__information > span.chart-element__information__song.text--truncate.color--primary"
   ]
  },
  {
   "cell_type": "code",
   "execution_count": 6,
   "metadata": {
    "hidden": true
   },
   "outputs": [
    {
     "data": {
      "text/plain": [
       "'Peaches'"
      ]
     },
     "execution_count": 6,
     "metadata": {},
     "output_type": "execute_result"
    }
   ],
   "source": [
    "songnametext = soup.select(\"span.chart-element__information__song\")[0].get_text()\n",
    "songnametext"
   ]
  },
  {
   "cell_type": "code",
   "execution_count": 7,
   "metadata": {
    "hidden": true
   },
   "outputs": [
    {
     "name": "stdout",
     "output_type": "stream",
     "text": [
      "['Peaches', 'Up', 'Leave The Door Open', 'Drivers License', 'Save Your Tears', 'Blinding Lights', 'Levitating', \"What's Next\", 'What You Know Bout Love', 'Mood', '34+35', 'Go Crazy', 'Back In Blood', 'Calling My Phone', 'Therefore I Am', 'Anyone', 'Astronaut In The Ocean', \"You're Mines Still\", 'Wants And Needs', 'Hold On', 'Positions', 'You Broke Me First.', 'Beat Box', 'Best Friend', 'On Me', 'Dynamite', 'Streets', 'Dakiti', 'Heartbreak Anniversary', 'No More Parties', \"My Ex's Best Friend\", 'Street Runner', 'For The Night', 'Good Days', \"What's Your Country Song\", 'Without You', 'The Good Ones', 'Whoopty', 'Put Your Records On', 'Beautiful Mistakes', 'Starting Over', 'Headshot', 'As I Am', 'Telepatia', 'Cry Baby', 'Just The Way', 'Better Together', 'My Head And My Heart', 'Good Time', 'Willow', \"We're Good\", 'Lady', 'Track Star', 'Long Live', 'Time Today', 'Lemon Pepper Freestyle', 'Heat Waves', 'Damage', 'Goosebumps', 'Down To One', 'Forever After All', 'Unstable', \"Momma's House\", 'Off My Face', 'Hell Of A View', 'Ghost', 'Somebody Like That', '2 Much', 'Real As It Gets', 'Monsters', 'Body', 'Buss It', 'La Noche de Anoche', 'Masterpiece', 'The Business', 'Deserve You', 'Wasted On You', 'Made For You', \"Breaking Up Was Easy In The 90's\", 'Quicksand', 'Die For You', 'Tombstone', 'Pick Up Your Feelings', 'Love You Different', 'Glad You Exist', 'Almost Maybes', 'Loved By You', 'You Got It', 'Girl Like Me', 'One Too Many', 'Somebody', 'Hello', 'Nobody', 'Famous Friends', 'Settling Down', 'Sand In My Boots', 'Neighbors', 'Bandido', 'Drankin N Smokin', 'Beers And Sunshine']\n"
     ]
    }
   ],
   "source": [
    "Songnames = []\n",
    "for elem in soup.select(\"span.chart-element__information__song\"):\n",
    "    Songnames.append(elem.get_text())\n",
    "\n",
    "print(Songnames)"
   ]
  },
  {
   "cell_type": "markdown",
   "metadata": {
    "hidden": true
   },
   "source": [
    "## Artist"
   ]
  },
  {
   "cell_type": "code",
   "execution_count": 8,
   "metadata": {
    "hidden": true
   },
   "outputs": [],
   "source": [
    "# charts > div > div.chart-list__wrapper > div > ol > li:nth-child(1) > button > span.chart-element__information > span.chart-element__information__artist.text--truncate.color--secondary"
   ]
  },
  {
   "cell_type": "code",
   "execution_count": 9,
   "metadata": {
    "hidden": true
   },
   "outputs": [
    {
     "data": {
      "text/plain": [
       "'Justin Bieber Featuring Daniel Caesar & Giveon'"
      ]
     },
     "execution_count": 9,
     "metadata": {},
     "output_type": "execute_result"
    }
   ],
   "source": [
    "artisttext = soup.select(\"span.chart-element__information__artist\")[0].get_text()\n",
    "artisttext"
   ]
  },
  {
   "cell_type": "code",
   "execution_count": 10,
   "metadata": {
    "hidden": true
   },
   "outputs": [
    {
     "name": "stdout",
     "output_type": "stream",
     "text": [
      "['Justin Bieber Featuring Daniel Caesar & Giveon', 'Cardi B', 'Silk Sonic (Bruno Mars & Anderson .Paak)', 'Olivia Rodrigo', 'The Weeknd', 'The Weeknd', 'Dua Lipa Featuring DaBaby', 'Drake', 'Pop Smoke', '24kGoldn Featuring iann dior', 'Ariana Grande', 'Chris Brown & Young Thug', 'Pooh Shiesty Featuring Lil Durk', 'Lil Tjay Featuring 6LACK', 'Billie Eilish', 'Justin Bieber', 'Masked Wolf', 'Yung Bleu Featuring Drake', 'Drake Featuring Lil Baby', 'Justin Bieber', 'Ariana Grande', 'Tate McRae', 'SpotemGottem Featuring Pooh Shiesty Or DaBaby', 'Saweetie Featuring Doja Cat', 'Lil Baby', 'BTS', 'Doja Cat', 'Bad Bunny & Jhay Cortez', 'Giveon', 'Coi Leray Featuring Lil Durk', 'Machine Gun Kelly X blackbear', 'Rod Wave', 'Pop Smoke Featuring Lil Baby & DaBaby', 'SZA', 'Thomas Rhett', 'The Kid LAROI', 'Gabby Barrett', 'CJ', 'Ritt Momney', 'Maroon 5 Featuring Megan Thee Stallion', 'Chris Stapleton', 'Lil Tjay, Polo G & Fivio Foreign', 'Justin Bieber Featuring Khalid', 'Kali Uchis', 'Megan Thee Stallion Featuring DaBaby', 'Parmalee x Blanco Brown', 'Luke Combs', 'Ava Max', 'Niko Moon', 'Taylor Swift', 'Dua Lipa', 'Brett Young', 'Mooski', 'Florida Georgia Line', 'Moneybagg Yo', 'Drake Featuring Rick Ross', 'Glass Animals', 'H.E.R.', 'Travis Scott & HVME', 'Luke Bryan', 'Luke Combs', 'Justin Bieber Featuring The Kid LAROI', 'Dustin Lynch', 'Justin Bieber', 'Eric Church', 'Justin Bieber', 'Tenille Arts', 'Justin Bieber', 'Lil Baby Featuring EST Gee', 'All Time Low Featuring Demi Lovato & blackbear ', 'Megan Thee Stallion', 'Erica Banks', 'Bad Bunny & Rosalia', 'DaBaby', 'Tiesto', 'Justin Bieber', 'Morgan Wallen', 'Jake Owen', 'Sam Hunt', 'Morray', 'Justin Bieber Featuring Dominic Fike', 'Rod Wave', 'Jazmine Sullivan', 'Justin Bieber Featuring BEAM', 'Dan + Shay', 'Jordan Davis', 'Justin Bieber Featuring Burna Boy', 'VEDO', 'Black Eyed Peas X Shakira', 'Keith Urban Duet With P!nk', 'Justin Bieber', 'Pop Smoke Featuring A Boogie Wit da Hoodie', 'Dylan Scott', 'Chris Young + Kane Brown', 'Miranda Lambert', 'Morgan Wallen', 'Pooh Shiesty Featuring BIG30', 'Myke Towers & Juhn', 'Future & Lil Uzi Vert', 'Darius Rucker']\n"
     ]
    }
   ],
   "source": [
    "Artists = []\n",
    "for elem in soup.select(\"span.chart-element__information__artist\"):\n",
    "    Artists.append(elem.get_text())\n",
    "\n",
    "print(Artists)"
   ]
  },
  {
   "cell_type": "markdown",
   "metadata": {},
   "source": [
    "# Dataframe"
   ]
  },
  {
   "cell_type": "code",
   "execution_count": 11,
   "metadata": {},
   "outputs": [
    {
     "data": {
      "text/html": [
       "<div>\n",
       "<style scoped>\n",
       "    .dataframe tbody tr th:only-of-type {\n",
       "        vertical-align: middle;\n",
       "    }\n",
       "\n",
       "    .dataframe tbody tr th {\n",
       "        vertical-align: top;\n",
       "    }\n",
       "\n",
       "    .dataframe thead th {\n",
       "        text-align: right;\n",
       "    }\n",
       "</style>\n",
       "<table border=\"1\" class=\"dataframe\">\n",
       "  <thead>\n",
       "    <tr style=\"text-align: right;\">\n",
       "      <th></th>\n",
       "      <th>Songtitle</th>\n",
       "      <th>Artist(s)</th>\n",
       "    </tr>\n",
       "  </thead>\n",
       "  <tbody>\n",
       "    <tr>\n",
       "      <th>0</th>\n",
       "      <td>Peaches</td>\n",
       "      <td>Justin Bieber Featuring Daniel Caesar &amp; Giveon</td>\n",
       "    </tr>\n",
       "    <tr>\n",
       "      <th>1</th>\n",
       "      <td>Up</td>\n",
       "      <td>Cardi B</td>\n",
       "    </tr>\n",
       "    <tr>\n",
       "      <th>2</th>\n",
       "      <td>Leave The Door Open</td>\n",
       "      <td>Silk Sonic (Bruno Mars &amp; Anderson .Paak)</td>\n",
       "    </tr>\n",
       "    <tr>\n",
       "      <th>3</th>\n",
       "      <td>Drivers License</td>\n",
       "      <td>Olivia Rodrigo</td>\n",
       "    </tr>\n",
       "    <tr>\n",
       "      <th>4</th>\n",
       "      <td>Save Your Tears</td>\n",
       "      <td>The Weeknd</td>\n",
       "    </tr>\n",
       "    <tr>\n",
       "      <th>...</th>\n",
       "      <td>...</td>\n",
       "      <td>...</td>\n",
       "    </tr>\n",
       "    <tr>\n",
       "      <th>95</th>\n",
       "      <td>Sand In My Boots</td>\n",
       "      <td>Morgan Wallen</td>\n",
       "    </tr>\n",
       "    <tr>\n",
       "      <th>96</th>\n",
       "      <td>Neighbors</td>\n",
       "      <td>Pooh Shiesty Featuring BIG30</td>\n",
       "    </tr>\n",
       "    <tr>\n",
       "      <th>97</th>\n",
       "      <td>Bandido</td>\n",
       "      <td>Myke Towers &amp; Juhn</td>\n",
       "    </tr>\n",
       "    <tr>\n",
       "      <th>98</th>\n",
       "      <td>Drankin N Smokin</td>\n",
       "      <td>Future &amp; Lil Uzi Vert</td>\n",
       "    </tr>\n",
       "    <tr>\n",
       "      <th>99</th>\n",
       "      <td>Beers And Sunshine</td>\n",
       "      <td>Darius Rucker</td>\n",
       "    </tr>\n",
       "  </tbody>\n",
       "</table>\n",
       "<p>100 rows × 2 columns</p>\n",
       "</div>"
      ],
      "text/plain": [
       "              Songtitle                                       Artist(s)\n",
       "0               Peaches  Justin Bieber Featuring Daniel Caesar & Giveon\n",
       "1                    Up                                         Cardi B\n",
       "2   Leave The Door Open        Silk Sonic (Bruno Mars & Anderson .Paak)\n",
       "3       Drivers License                                  Olivia Rodrigo\n",
       "4       Save Your Tears                                      The Weeknd\n",
       "..                  ...                                             ...\n",
       "95     Sand In My Boots                                   Morgan Wallen\n",
       "96            Neighbors                    Pooh Shiesty Featuring BIG30\n",
       "97              Bandido                              Myke Towers & Juhn\n",
       "98     Drankin N Smokin                           Future & Lil Uzi Vert\n",
       "99   Beers And Sunshine                                   Darius Rucker\n",
       "\n",
       "[100 rows x 2 columns]"
      ]
     },
     "execution_count": 11,
     "metadata": {},
     "output_type": "execute_result"
    }
   ],
   "source": [
    "Top_100 = pd.DataFrame({'Songtitle': Songnames, 'Artist(s)': Artists})\n",
    "Top_100"
   ]
  },
  {
   "cell_type": "markdown",
   "metadata": {},
   "source": [
    "# Prototype 1"
   ]
  },
  {
   "cell_type": "markdown",
   "metadata": {},
   "source": [
    "Pseudocode:\n",
    "User inputs song (not lower/uppercase sensitive)\n",
    "Is the song in the Top 100?\n",
    "    NO: Prototype 2\n",
    "    YES: Recommend another Song from the Top 100 list"
   ]
  },
  {
   "cell_type": "code",
   "execution_count": 12,
   "metadata": {},
   "outputs": [],
   "source": [
    "# Songinput (not lower/uppercase sensitive)\n",
    "# Songinput = input(\"To teach Gnod what you are like, please type in 1 Song that you already know and like: \").lower()"
   ]
  },
  {
   "cell_type": "code",
   "execution_count": 13,
   "metadata": {},
   "outputs": [],
   "source": [
    "# Functions\n",
    "\n",
    "# Check if it is in the top 100\n",
    "# Top_100.loc[Top_100['Songtitle'].str.lower() == Songinput]\n",
    "\n",
    "# Songrecommendation\n",
    "\n",
    "def song_recommendation():\n",
    "    Recommendation = Top_100.sample()\n",
    "    return print(\"Songrecommendation: \" + Recommendation.iloc[0,0] + \" by \" + Recommendation.iloc[0,1])\n",
    "\n",
    "\n",
    "# Recommendation\n",
    "\n",
    "def Recommendation():\n",
    "    Match = (Top_100.loc[Top_100['Songtitle'].str.lower() == Songinput])\n",
    "    if Match.shape[0] == 1:\n",
    "        song_recommendation()\n",
    "    else:\n",
    "        print(\"Prototype 2 filler\")\n",
    "\n",
    "# how to get Match\n",
    "# Match = (Top_100.loc[Top_100['Songtitle'].str.lower() == Songinput])\n",
    "# print(Match) > if its's a match it will show 1\n",
    "# Match.shape[0] > so this will be 1 also ergo if Match.shape[0] is not 1 it is not a match"
   ]
  },
  {
   "cell_type": "code",
   "execution_count": 14,
   "metadata": {},
   "outputs": [
    {
     "name": "stdout",
     "output_type": "stream",
     "text": [
      "To teach Gnod what you are like, please type in 1 Song that you already know and like: neighbors\n",
      "Songrecommendation: Heartbreak Anniversary by Giveon\n"
     ]
    }
   ],
   "source": [
    "Songinput  = input(\"To teach Gnod what you are like, please type in 1 Song that you already know and like: \").lower()\n",
    "Recommendation()"
   ]
  },
  {
   "cell_type": "code",
   "execution_count": null,
   "metadata": {},
   "outputs": [],
   "source": []
  },
  {
   "cell_type": "code",
   "execution_count": null,
   "metadata": {},
   "outputs": [],
   "source": []
  },
  {
   "cell_type": "code",
   "execution_count": null,
   "metadata": {},
   "outputs": [],
   "source": []
  },
  {
   "cell_type": "code",
   "execution_count": null,
   "metadata": {},
   "outputs": [],
   "source": []
  },
  {
   "cell_type": "markdown",
   "metadata": {},
   "source": [
    "# Bonus"
   ]
  },
  {
   "cell_type": "markdown",
   "metadata": {},
   "source": [
    "Can you find other websites with lists of \"hot\" songs? What about songs that were popular on a certain decade? \n",
    "\n",
    "You can scrape more lists and add extra features to the project."
   ]
  },
  {
   "cell_type": "code",
   "execution_count": null,
   "metadata": {},
   "outputs": [],
   "source": []
  }
 ],
 "metadata": {
  "kernelspec": {
   "display_name": "Python 3",
   "language": "python",
   "name": "python3"
  },
  "language_info": {
   "codemirror_mode": {
    "name": "ipython",
    "version": 3
   },
   "file_extension": ".py",
   "mimetype": "text/x-python",
   "name": "python",
   "nbconvert_exporter": "python",
   "pygments_lexer": "ipython3",
   "version": "3.8.5"
  },
  "toc": {
   "base_numbering": 1,
   "nav_menu": {},
   "number_sections": true,
   "sideBar": true,
   "skip_h1_title": false,
   "title_cell": "Table of Contents",
   "title_sidebar": "Contents",
   "toc_cell": false,
   "toc_position": {},
   "toc_section_display": true,
   "toc_window_display": false
  },
  "varInspector": {
   "cols": {
    "lenName": 16,
    "lenType": 16,
    "lenVar": 40
   },
   "kernels_config": {
    "python": {
     "delete_cmd_postfix": "",
     "delete_cmd_prefix": "del ",
     "library": "var_list.py",
     "varRefreshCmd": "print(var_dic_list())"
    },
    "r": {
     "delete_cmd_postfix": ") ",
     "delete_cmd_prefix": "rm(",
     "library": "var_list.r",
     "varRefreshCmd": "cat(var_dic_list()) "
    }
   },
   "types_to_exclude": [
    "module",
    "function",
    "builtin_function_or_method",
    "instance",
    "_Feature"
   ],
   "window_display": false
  }
 },
 "nbformat": 4,
 "nbformat_minor": 4
}
