{
 "cells": [
  {
   "cell_type": "markdown",
   "metadata": {
    "heading_collapsed": true
   },
   "source": [
    "# Setup"
   ]
  },
  {
   "cell_type": "code",
   "execution_count": 1,
   "metadata": {
    "hidden": true
   },
   "outputs": [],
   "source": [
    "# Import libraries\n",
    "import requests # to download html code\n",
    "from bs4 import BeautifulSoup # to navigate through the html code\n",
    "import pandas as pd\n",
    "import numpy as np\n",
    "import re # for cleanup\n",
    "import spotipy\n",
    "from config import *\n",
    "import json\n",
    "from spotipy.oauth2 import SpotifyClientCredentials"
   ]
  },
  {
   "cell_type": "code",
   "execution_count": 2,
   "metadata": {
    "hidden": true
   },
   "outputs": [],
   "source": [
    "sp = spotipy.Spotify(auth_manager=SpotifyClientCredentials(client_id= Client_ID, client_secret= Client_Secret))"
   ]
  },
  {
   "cell_type": "markdown",
   "metadata": {
    "heading_collapsed": true,
    "hidden": true
   },
   "source": [
    "## Top 100"
   ]
  },
  {
   "cell_type": "code",
   "execution_count": 3,
   "metadata": {
    "hidden": true
   },
   "outputs": [],
   "source": [
    "# url used for top100\n",
    "url = \"https://www.billboard.com/charts/hot-100\""
   ]
  },
  {
   "cell_type": "code",
   "execution_count": 4,
   "metadata": {
    "hidden": true
   },
   "outputs": [
    {
     "name": "stdout",
     "output_type": "stream",
     "text": [
      "200\n"
     ]
    }
   ],
   "source": [
    "# Download html\n",
    "response = requests.get(url)\n",
    "# 200 status code means OK! response.status_code\n",
    "print(response.status_code)"
   ]
  },
  {
   "cell_type": "code",
   "execution_count": 5,
   "metadata": {
    "hidden": true
   },
   "outputs": [],
   "source": [
    "# Parse html\n",
    "soup = BeautifulSoup(response.text, 'html.parser')\n",
    "# Check up\n",
    "# soup"
   ]
  },
  {
   "cell_type": "code",
   "execution_count": 6,
   "metadata": {
    "hidden": true
   },
   "outputs": [
    {
     "data": {
      "text/plain": [
       "'Montero (Call Me By Your Name)'"
      ]
     },
     "execution_count": 6,
     "metadata": {},
     "output_type": "execute_result"
    }
   ],
   "source": [
    "songnametext = soup.select(\"span.chart-element__information__song\")[0].get_text()\n",
    "songnametext"
   ]
  },
  {
   "cell_type": "code",
   "execution_count": 7,
   "metadata": {
    "hidden": true
   },
   "outputs": [],
   "source": [
    "Songnames = []\n",
    "for elem in soup.select(\"span.chart-element__information__song\"):\n",
    "    Songnames.append(elem.get_text())\n"
   ]
  },
  {
   "cell_type": "code",
   "execution_count": 8,
   "metadata": {
    "hidden": true
   },
   "outputs": [
    {
     "data": {
      "text/plain": [
       "'Lil Nas X'"
      ]
     },
     "execution_count": 8,
     "metadata": {},
     "output_type": "execute_result"
    }
   ],
   "source": [
    "artisttext = soup.select(\"span.chart-element__information__artist\")[0].get_text()\n",
    "artisttext"
   ]
  },
  {
   "cell_type": "code",
   "execution_count": 9,
   "metadata": {
    "hidden": true
   },
   "outputs": [],
   "source": [
    "Artists = []\n",
    "for elem in soup.select(\"span.chart-element__information__artist\"):\n",
    "    Artists.append(elem.get_text())"
   ]
  },
  {
   "cell_type": "code",
   "execution_count": 10,
   "metadata": {
    "hidden": true
   },
   "outputs": [
    {
     "data": {
      "text/html": [
       "<div>\n",
       "<style scoped>\n",
       "    .dataframe tbody tr th:only-of-type {\n",
       "        vertical-align: middle;\n",
       "    }\n",
       "\n",
       "    .dataframe tbody tr th {\n",
       "        vertical-align: top;\n",
       "    }\n",
       "\n",
       "    .dataframe thead th {\n",
       "        text-align: right;\n",
       "    }\n",
       "</style>\n",
       "<table border=\"1\" class=\"dataframe\">\n",
       "  <thead>\n",
       "    <tr style=\"text-align: right;\">\n",
       "      <th></th>\n",
       "      <th>Songtitle</th>\n",
       "      <th>Artist(s)</th>\n",
       "    </tr>\n",
       "  </thead>\n",
       "  <tbody>\n",
       "    <tr>\n",
       "      <th>0</th>\n",
       "      <td>Montero (Call Me By Your Name)</td>\n",
       "      <td>Lil Nas X</td>\n",
       "    </tr>\n",
       "    <tr>\n",
       "      <th>1</th>\n",
       "      <td>Peaches</td>\n",
       "      <td>Justin Bieber Featuring Daniel Caesar &amp; Giveon</td>\n",
       "    </tr>\n",
       "    <tr>\n",
       "      <th>2</th>\n",
       "      <td>Leave The Door Open</td>\n",
       "      <td>Silk Sonic (Bruno Mars &amp; Anderson .Paak)</td>\n",
       "    </tr>\n",
       "    <tr>\n",
       "      <th>3</th>\n",
       "      <td>Up</td>\n",
       "      <td>Cardi B</td>\n",
       "    </tr>\n",
       "    <tr>\n",
       "      <th>4</th>\n",
       "      <td>Drivers License</td>\n",
       "      <td>Olivia Rodrigo</td>\n",
       "    </tr>\n",
       "    <tr>\n",
       "      <th>...</th>\n",
       "      <td>...</td>\n",
       "      <td>...</td>\n",
       "    </tr>\n",
       "    <tr>\n",
       "      <th>95</th>\n",
       "      <td>Shock Da World</td>\n",
       "      <td>Rod Wave</td>\n",
       "    </tr>\n",
       "    <tr>\n",
       "      <th>96</th>\n",
       "      <td>You Got It</td>\n",
       "      <td>VEDO</td>\n",
       "    </tr>\n",
       "    <tr>\n",
       "      <th>97</th>\n",
       "      <td>Sneaky Links</td>\n",
       "      <td>Rod Wave</td>\n",
       "    </tr>\n",
       "    <tr>\n",
       "      <th>98</th>\n",
       "      <td>Nobody</td>\n",
       "      <td>Dylan Scott</td>\n",
       "    </tr>\n",
       "    <tr>\n",
       "      <th>99</th>\n",
       "      <td>Girl Like Me</td>\n",
       "      <td>Black Eyed Peas X Shakira</td>\n",
       "    </tr>\n",
       "  </tbody>\n",
       "</table>\n",
       "<p>100 rows × 2 columns</p>\n",
       "</div>"
      ],
      "text/plain": [
       "                         Songtitle  \\\n",
       "0   Montero (Call Me By Your Name)   \n",
       "1                          Peaches   \n",
       "2              Leave The Door Open   \n",
       "3                               Up   \n",
       "4                  Drivers License   \n",
       "..                             ...   \n",
       "95                  Shock Da World   \n",
       "96                      You Got It   \n",
       "97                    Sneaky Links   \n",
       "98                          Nobody   \n",
       "99                    Girl Like Me   \n",
       "\n",
       "                                         Artist(s)  \n",
       "0                                        Lil Nas X  \n",
       "1   Justin Bieber Featuring Daniel Caesar & Giveon  \n",
       "2         Silk Sonic (Bruno Mars & Anderson .Paak)  \n",
       "3                                          Cardi B  \n",
       "4                                   Olivia Rodrigo  \n",
       "..                                             ...  \n",
       "95                                        Rod Wave  \n",
       "96                                            VEDO  \n",
       "97                                        Rod Wave  \n",
       "98                                     Dylan Scott  \n",
       "99                       Black Eyed Peas X Shakira  \n",
       "\n",
       "[100 rows x 2 columns]"
      ]
     },
     "execution_count": 10,
     "metadata": {},
     "output_type": "execute_result"
    }
   ],
   "source": [
    "Top_100 = pd.DataFrame({'Songtitle': Songnames, 'Artist(s)': Artists})\n",
    "Top_100"
   ]
  },
  {
   "cell_type": "markdown",
   "metadata": {
    "heading_collapsed": true,
    "hidden": true
   },
   "source": [
    "## Spotify"
   ]
  },
  {
   "cell_type": "code",
   "execution_count": 11,
   "metadata": {
    "hidden": true
   },
   "outputs": [
    {
     "data": {
      "text/html": [
       "<div>\n",
       "<style scoped>\n",
       "    .dataframe tbody tr th:only-of-type {\n",
       "        vertical-align: middle;\n",
       "    }\n",
       "\n",
       "    .dataframe tbody tr th {\n",
       "        vertical-align: top;\n",
       "    }\n",
       "\n",
       "    .dataframe thead th {\n",
       "        text-align: right;\n",
       "    }\n",
       "</style>\n",
       "<table border=\"1\" class=\"dataframe\">\n",
       "  <thead>\n",
       "    <tr style=\"text-align: right;\">\n",
       "      <th></th>\n",
       "      <th>Songtitle</th>\n",
       "      <th>Artist(s)</th>\n",
       "      <th>uri</th>\n",
       "      <th>danceability</th>\n",
       "      <th>energy</th>\n",
       "      <th>key</th>\n",
       "      <th>loudness</th>\n",
       "      <th>mode</th>\n",
       "      <th>speechiness</th>\n",
       "      <th>acousticness</th>\n",
       "      <th>instrumentalness</th>\n",
       "      <th>liveness</th>\n",
       "      <th>valence</th>\n",
       "      <th>tempo</th>\n",
       "    </tr>\n",
       "  </thead>\n",
       "  <tbody>\n",
       "    <tr>\n",
       "      <th>0</th>\n",
       "      <td>beverly</td>\n",
       "      <td>Koi</td>\n",
       "      <td>spotify:track:2pTW1GkqQ6dPTBOff2ZqQc</td>\n",
       "      <td>0.735</td>\n",
       "      <td>0.491</td>\n",
       "      <td>0</td>\n",
       "      <td>-7.766</td>\n",
       "      <td>0</td>\n",
       "      <td>0.0427</td>\n",
       "      <td>0.15700</td>\n",
       "      <td>0.000060</td>\n",
       "      <td>0.121</td>\n",
       "      <td>0.5740</td>\n",
       "      <td>167.130</td>\n",
       "    </tr>\n",
       "    <tr>\n",
       "      <th>1</th>\n",
       "      <td>Titanium (feat. Sia)</td>\n",
       "      <td>David Guetta, Sia</td>\n",
       "      <td>spotify:track:47Z5890IcjSed81ldeLgqc</td>\n",
       "      <td>0.602</td>\n",
       "      <td>0.796</td>\n",
       "      <td>0</td>\n",
       "      <td>-3.657</td>\n",
       "      <td>0</td>\n",
       "      <td>0.1030</td>\n",
       "      <td>0.06820</td>\n",
       "      <td>0.120000</td>\n",
       "      <td>0.150</td>\n",
       "      <td>0.2650</td>\n",
       "      <td>126.060</td>\n",
       "    </tr>\n",
       "    <tr>\n",
       "      <th>2</th>\n",
       "      <td>LOVE. FEAT. ZACARI.</td>\n",
       "      <td>Kendrick Lamar, Zacari</td>\n",
       "      <td>spotify:track:6PGoSes0D9eUDeeAafB2As</td>\n",
       "      <td>0.800</td>\n",
       "      <td>0.585</td>\n",
       "      <td>10</td>\n",
       "      <td>-7.343</td>\n",
       "      <td>1</td>\n",
       "      <td>0.0924</td>\n",
       "      <td>0.26400</td>\n",
       "      <td>0.000000</td>\n",
       "      <td>0.153</td>\n",
       "      <td>0.7790</td>\n",
       "      <td>126.058</td>\n",
       "    </tr>\n",
       "    <tr>\n",
       "      <th>3</th>\n",
       "      <td>do re mi</td>\n",
       "      <td>blackbear</td>\n",
       "      <td>spotify:track:3sTCfUmYXSVWDacTd6uMbQ</td>\n",
       "      <td>0.747</td>\n",
       "      <td>0.592</td>\n",
       "      <td>8</td>\n",
       "      <td>-6.334</td>\n",
       "      <td>1</td>\n",
       "      <td>0.0457</td>\n",
       "      <td>0.00517</td>\n",
       "      <td>0.000015</td>\n",
       "      <td>0.124</td>\n",
       "      <td>0.1760</td>\n",
       "      <td>110.991</td>\n",
       "    </tr>\n",
       "    <tr>\n",
       "      <th>4</th>\n",
       "      <td>Lord Of The Rings: The Fellowship Of The Ring ...</td>\n",
       "      <td>Raine, The City of Prague Philharmonic Orchest...</td>\n",
       "      <td>spotify:track:2Twe7p278J2GxzjQZWJZWM</td>\n",
       "      <td>0.341</td>\n",
       "      <td>0.193</td>\n",
       "      <td>2</td>\n",
       "      <td>-16.915</td>\n",
       "      <td>1</td>\n",
       "      <td>0.0364</td>\n",
       "      <td>0.84800</td>\n",
       "      <td>0.923000</td>\n",
       "      <td>0.131</td>\n",
       "      <td>0.0749</td>\n",
       "      <td>104.448</td>\n",
       "    </tr>\n",
       "  </tbody>\n",
       "</table>\n",
       "</div>"
      ],
      "text/plain": [
       "                                           Songtitle  \\\n",
       "0                                            beverly   \n",
       "1                               Titanium (feat. Sia)   \n",
       "2                                LOVE. FEAT. ZACARI.   \n",
       "3                                           do re mi   \n",
       "4  Lord Of The Rings: The Fellowship Of The Ring ...   \n",
       "\n",
       "                                           Artist(s)  \\\n",
       "0                                                Koi   \n",
       "1                                  David Guetta, Sia   \n",
       "2                             Kendrick Lamar, Zacari   \n",
       "3                                          blackbear   \n",
       "4  Raine, The City of Prague Philharmonic Orchest...   \n",
       "\n",
       "                                    uri  danceability  energy  key  loudness  \\\n",
       "0  spotify:track:2pTW1GkqQ6dPTBOff2ZqQc         0.735   0.491    0    -7.766   \n",
       "1  spotify:track:47Z5890IcjSed81ldeLgqc         0.602   0.796    0    -3.657   \n",
       "2  spotify:track:6PGoSes0D9eUDeeAafB2As         0.800   0.585   10    -7.343   \n",
       "3  spotify:track:3sTCfUmYXSVWDacTd6uMbQ         0.747   0.592    8    -6.334   \n",
       "4  spotify:track:2Twe7p278J2GxzjQZWJZWM         0.341   0.193    2   -16.915   \n",
       "\n",
       "   mode  speechiness  acousticness  instrumentalness  liveness  valence  \\\n",
       "0     0       0.0427       0.15700          0.000060     0.121   0.5740   \n",
       "1     0       0.1030       0.06820          0.120000     0.150   0.2650   \n",
       "2     1       0.0924       0.26400          0.000000     0.153   0.7790   \n",
       "3     1       0.0457       0.00517          0.000015     0.124   0.1760   \n",
       "4     1       0.0364       0.84800          0.923000     0.131   0.0749   \n",
       "\n",
       "     tempo  \n",
       "0  167.130  \n",
       "1  126.060  \n",
       "2  126.058  \n",
       "3  110.991  \n",
       "4  104.448  "
      ]
     },
     "execution_count": 11,
     "metadata": {},
     "output_type": "execute_result"
    }
   ],
   "source": [
    "path = '../Gnoosic/Spotify.csv'\n",
    "Spotify =  pd.read_csv(path)\n",
    "Spotify.head()"
   ]
  },
  {
   "cell_type": "code",
   "execution_count": 12,
   "metadata": {
    "hidden": true
   },
   "outputs": [
    {
     "data": {
      "text/plain": [
       "18858"
      ]
     },
     "execution_count": 12,
     "metadata": {},
     "output_type": "execute_result"
    }
   ],
   "source": [
    "len(Spotify)"
   ]
  },
  {
   "cell_type": "markdown",
   "metadata": {
    "heading_collapsed": true,
    "hidden": true
   },
   "source": [
    "### Clustering Spotify"
   ]
  },
  {
   "cell_type": "code",
   "execution_count": 13,
   "metadata": {
    "hidden": true
   },
   "outputs": [],
   "source": [
    "# Import libraries\n",
    "from sklearn.preprocessing import StandardScaler\n",
    "from sklearn.cluster import KMeans\n",
    "from sklearn.metrics import silhouette_score"
   ]
  },
  {
   "cell_type": "code",
   "execution_count": 14,
   "metadata": {
    "hidden": true
   },
   "outputs": [],
   "source": [
    "# spotify df make new df (audio_df) only with the audio features? (only k to columns audiofeatures)\n",
    "# audio_df.describe()\n",
    "# -----making it all neat\n",
    "# audio_df_prep = StandardScaler().fit_transform(audio_df) >>>gives me an array\n",
    "# pd.DataFrame(audio_df_prep, columns=audio_df.columns).head()\n",
    "# pd.DataFrame(audio_df_prep, columns=audio_df.columns).describe()\n",
    "# -----clustering (the more the better)\n",
    "# kmeans = KMeans(n_clusters=8, random_state=1234)  > random_state similar to seed\n",
    "# kmeans.fit(audio_df_prep)\n",
    "# clusters = kmeans.predict(audio_df_prep)\n",
    "# pd.Series(clusters).value_counts().sort_index()\n",
    "# -----which song was assigned which?\n",
    "# Spotify_df = pd.DataFrame(Spotify)\n",
    "# Spotify_df[\"cluster\"] = clusters\n",
    "# Spotify_df.head()"
   ]
  },
  {
   "cell_type": "code",
   "execution_count": 15,
   "metadata": {
    "hidden": true
   },
   "outputs": [],
   "source": [
    "audio_df = Spotify.filter(['danceability','energy','key','loudness','mode','speechiness','acousticness','instrumentalness','liveness','valence','tempo'])"
   ]
  },
  {
   "cell_type": "code",
   "execution_count": 16,
   "metadata": {
    "hidden": true
   },
   "outputs": [
    {
     "data": {
      "text/html": [
       "<div>\n",
       "<style scoped>\n",
       "    .dataframe tbody tr th:only-of-type {\n",
       "        vertical-align: middle;\n",
       "    }\n",
       "\n",
       "    .dataframe tbody tr th {\n",
       "        vertical-align: top;\n",
       "    }\n",
       "\n",
       "    .dataframe thead th {\n",
       "        text-align: right;\n",
       "    }\n",
       "</style>\n",
       "<table border=\"1\" class=\"dataframe\">\n",
       "  <thead>\n",
       "    <tr style=\"text-align: right;\">\n",
       "      <th></th>\n",
       "      <th>danceability</th>\n",
       "      <th>energy</th>\n",
       "      <th>key</th>\n",
       "      <th>loudness</th>\n",
       "      <th>mode</th>\n",
       "      <th>speechiness</th>\n",
       "      <th>acousticness</th>\n",
       "      <th>instrumentalness</th>\n",
       "      <th>liveness</th>\n",
       "      <th>valence</th>\n",
       "      <th>tempo</th>\n",
       "    </tr>\n",
       "  </thead>\n",
       "  <tbody>\n",
       "    <tr>\n",
       "      <th>count</th>\n",
       "      <td>18858.000000</td>\n",
       "      <td>18858.000000</td>\n",
       "      <td>18858.000000</td>\n",
       "      <td>18858.000000</td>\n",
       "      <td>18858.000000</td>\n",
       "      <td>18858.000000</td>\n",
       "      <td>18858.000000</td>\n",
       "      <td>18858.000000</td>\n",
       "      <td>18858.000000</td>\n",
       "      <td>18858.000000</td>\n",
       "      <td>18858.000000</td>\n",
       "    </tr>\n",
       "    <tr>\n",
       "      <th>mean</th>\n",
       "      <td>0.649025</td>\n",
       "      <td>0.628533</td>\n",
       "      <td>5.247004</td>\n",
       "      <td>-6.966681</td>\n",
       "      <td>0.598526</td>\n",
       "      <td>0.113736</td>\n",
       "      <td>0.239950</td>\n",
       "      <td>0.024666</td>\n",
       "      <td>0.175999</td>\n",
       "      <td>0.470652</td>\n",
       "      <td>120.159408</td>\n",
       "    </tr>\n",
       "    <tr>\n",
       "      <th>std</th>\n",
       "      <td>0.144040</td>\n",
       "      <td>0.177064</td>\n",
       "      <td>3.615322</td>\n",
       "      <td>2.814095</td>\n",
       "      <td>0.490210</td>\n",
       "      <td>0.109736</td>\n",
       "      <td>0.250676</td>\n",
       "      <td>0.119904</td>\n",
       "      <td>0.132356</td>\n",
       "      <td>0.218825</td>\n",
       "      <td>28.418088</td>\n",
       "    </tr>\n",
       "    <tr>\n",
       "      <th>min</th>\n",
       "      <td>0.000000</td>\n",
       "      <td>0.005440</td>\n",
       "      <td>0.000000</td>\n",
       "      <td>-35.422000</td>\n",
       "      <td>0.000000</td>\n",
       "      <td>0.000000</td>\n",
       "      <td>0.000001</td>\n",
       "      <td>0.000000</td>\n",
       "      <td>0.016700</td>\n",
       "      <td>0.000000</td>\n",
       "      <td>0.000000</td>\n",
       "    </tr>\n",
       "    <tr>\n",
       "      <th>25%</th>\n",
       "      <td>0.558000</td>\n",
       "      <td>0.515000</td>\n",
       "      <td>2.000000</td>\n",
       "      <td>-8.276000</td>\n",
       "      <td>0.000000</td>\n",
       "      <td>0.039900</td>\n",
       "      <td>0.038825</td>\n",
       "      <td>0.000000</td>\n",
       "      <td>0.097400</td>\n",
       "      <td>0.301000</td>\n",
       "      <td>97.038000</td>\n",
       "    </tr>\n",
       "    <tr>\n",
       "      <th>50%</th>\n",
       "      <td>0.662000</td>\n",
       "      <td>0.643000</td>\n",
       "      <td>5.000000</td>\n",
       "      <td>-6.480000</td>\n",
       "      <td>1.000000</td>\n",
       "      <td>0.062700</td>\n",
       "      <td>0.145000</td>\n",
       "      <td>0.000000</td>\n",
       "      <td>0.123000</td>\n",
       "      <td>0.458000</td>\n",
       "      <td>119.956000</td>\n",
       "    </tr>\n",
       "    <tr>\n",
       "      <th>75%</th>\n",
       "      <td>0.751000</td>\n",
       "      <td>0.758000</td>\n",
       "      <td>8.000000</td>\n",
       "      <td>-5.106000</td>\n",
       "      <td>1.000000</td>\n",
       "      <td>0.149000</td>\n",
       "      <td>0.371000</td>\n",
       "      <td>0.000094</td>\n",
       "      <td>0.210000</td>\n",
       "      <td>0.633000</td>\n",
       "      <td>139.998000</td>\n",
       "    </tr>\n",
       "    <tr>\n",
       "      <th>max</th>\n",
       "      <td>0.979000</td>\n",
       "      <td>0.999000</td>\n",
       "      <td>11.000000</td>\n",
       "      <td>1.762000</td>\n",
       "      <td>1.000000</td>\n",
       "      <td>0.918000</td>\n",
       "      <td>0.996000</td>\n",
       "      <td>0.989000</td>\n",
       "      <td>0.976000</td>\n",
       "      <td>0.993000</td>\n",
       "      <td>220.099000</td>\n",
       "    </tr>\n",
       "  </tbody>\n",
       "</table>\n",
       "</div>"
      ],
      "text/plain": [
       "       danceability        energy           key      loudness          mode  \\\n",
       "count  18858.000000  18858.000000  18858.000000  18858.000000  18858.000000   \n",
       "mean       0.649025      0.628533      5.247004     -6.966681      0.598526   \n",
       "std        0.144040      0.177064      3.615322      2.814095      0.490210   \n",
       "min        0.000000      0.005440      0.000000    -35.422000      0.000000   \n",
       "25%        0.558000      0.515000      2.000000     -8.276000      0.000000   \n",
       "50%        0.662000      0.643000      5.000000     -6.480000      1.000000   \n",
       "75%        0.751000      0.758000      8.000000     -5.106000      1.000000   \n",
       "max        0.979000      0.999000     11.000000      1.762000      1.000000   \n",
       "\n",
       "        speechiness  acousticness  instrumentalness      liveness  \\\n",
       "count  18858.000000  18858.000000      18858.000000  18858.000000   \n",
       "mean       0.113736      0.239950          0.024666      0.175999   \n",
       "std        0.109736      0.250676          0.119904      0.132356   \n",
       "min        0.000000      0.000001          0.000000      0.016700   \n",
       "25%        0.039900      0.038825          0.000000      0.097400   \n",
       "50%        0.062700      0.145000          0.000000      0.123000   \n",
       "75%        0.149000      0.371000          0.000094      0.210000   \n",
       "max        0.918000      0.996000          0.989000      0.976000   \n",
       "\n",
       "            valence         tempo  \n",
       "count  18858.000000  18858.000000  \n",
       "mean       0.470652    120.159408  \n",
       "std        0.218825     28.418088  \n",
       "min        0.000000      0.000000  \n",
       "25%        0.301000     97.038000  \n",
       "50%        0.458000    119.956000  \n",
       "75%        0.633000    139.998000  \n",
       "max        0.993000    220.099000  "
      ]
     },
     "execution_count": 16,
     "metadata": {},
     "output_type": "execute_result"
    }
   ],
   "source": [
    "audio_df.describe()"
   ]
  },
  {
   "cell_type": "markdown",
   "metadata": {
    "heading_collapsed": true,
    "hidden": true
   },
   "source": [
    "#### making the data neat with StandarsScaler"
   ]
  },
  {
   "cell_type": "code",
   "execution_count": 17,
   "metadata": {
    "hidden": true
   },
   "outputs": [],
   "source": [
    "scaler = StandardScaler()\n",
    "audio_df_prep = scaler.fit_transform(audio_df)"
   ]
  },
  {
   "cell_type": "code",
   "execution_count": 18,
   "metadata": {
    "hidden": true
   },
   "outputs": [
    {
     "data": {
      "text/html": [
       "<div>\n",
       "<style scoped>\n",
       "    .dataframe tbody tr th:only-of-type {\n",
       "        vertical-align: middle;\n",
       "    }\n",
       "\n",
       "    .dataframe tbody tr th {\n",
       "        vertical-align: top;\n",
       "    }\n",
       "\n",
       "    .dataframe thead th {\n",
       "        text-align: right;\n",
       "    }\n",
       "</style>\n",
       "<table border=\"1\" class=\"dataframe\">\n",
       "  <thead>\n",
       "    <tr style=\"text-align: right;\">\n",
       "      <th></th>\n",
       "      <th>danceability</th>\n",
       "      <th>energy</th>\n",
       "      <th>key</th>\n",
       "      <th>loudness</th>\n",
       "      <th>mode</th>\n",
       "      <th>speechiness</th>\n",
       "      <th>acousticness</th>\n",
       "      <th>instrumentalness</th>\n",
       "      <th>liveness</th>\n",
       "      <th>valence</th>\n",
       "      <th>tempo</th>\n",
       "    </tr>\n",
       "  </thead>\n",
       "  <tbody>\n",
       "    <tr>\n",
       "      <th>0</th>\n",
       "      <td>0.596899</td>\n",
       "      <td>-0.776762</td>\n",
       "      <td>-1.451362</td>\n",
       "      <td>-0.284049</td>\n",
       "      <td>-1.220991</td>\n",
       "      <td>-0.647351</td>\n",
       "      <td>-0.330915</td>\n",
       "      <td>-0.205221</td>\n",
       "      <td>-0.415548</td>\n",
       "      <td>0.472298</td>\n",
       "      <td>1.652885</td>\n",
       "    </tr>\n",
       "    <tr>\n",
       "      <th>1</th>\n",
       "      <td>-0.326480</td>\n",
       "      <td>0.945827</td>\n",
       "      <td>-1.451362</td>\n",
       "      <td>1.176139</td>\n",
       "      <td>-1.220991</td>\n",
       "      <td>-0.097834</td>\n",
       "      <td>-0.685168</td>\n",
       "      <td>0.795110</td>\n",
       "      <td>-0.196436</td>\n",
       "      <td>-0.939824</td>\n",
       "      <td>0.207641</td>\n",
       "    </tr>\n",
       "    <tr>\n",
       "      <th>2</th>\n",
       "      <td>1.048175</td>\n",
       "      <td>-0.245866</td>\n",
       "      <td>1.314716</td>\n",
       "      <td>-0.133730</td>\n",
       "      <td>0.819007</td>\n",
       "      <td>-0.194432</td>\n",
       "      <td>0.095942</td>\n",
       "      <td>-0.205720</td>\n",
       "      <td>-0.173770</td>\n",
       "      <td>1.409142</td>\n",
       "      <td>0.207570</td>\n",
       "    </tr>\n",
       "    <tr>\n",
       "      <th>3</th>\n",
       "      <td>0.680212</td>\n",
       "      <td>-0.206331</td>\n",
       "      <td>0.761500</td>\n",
       "      <td>0.224832</td>\n",
       "      <td>0.819007</td>\n",
       "      <td>-0.620012</td>\n",
       "      <td>-0.936615</td>\n",
       "      <td>-0.205597</td>\n",
       "      <td>-0.392882</td>\n",
       "      <td>-1.346552</td>\n",
       "      <td>-0.322634</td>\n",
       "    </tr>\n",
       "    <tr>\n",
       "      <th>4</th>\n",
       "      <td>-2.138524</td>\n",
       "      <td>-2.459817</td>\n",
       "      <td>-0.898147</td>\n",
       "      <td>-3.535269</td>\n",
       "      <td>0.819007</td>\n",
       "      <td>-0.704763</td>\n",
       "      <td>2.425709</td>\n",
       "      <td>7.492328</td>\n",
       "      <td>-0.339993</td>\n",
       "      <td>-1.808576</td>\n",
       "      <td>-0.552881</td>\n",
       "    </tr>\n",
       "  </tbody>\n",
       "</table>\n",
       "</div>"
      ],
      "text/plain": [
       "   danceability    energy       key  loudness      mode  speechiness  \\\n",
       "0      0.596899 -0.776762 -1.451362 -0.284049 -1.220991    -0.647351   \n",
       "1     -0.326480  0.945827 -1.451362  1.176139 -1.220991    -0.097834   \n",
       "2      1.048175 -0.245866  1.314716 -0.133730  0.819007    -0.194432   \n",
       "3      0.680212 -0.206331  0.761500  0.224832  0.819007    -0.620012   \n",
       "4     -2.138524 -2.459817 -0.898147 -3.535269  0.819007    -0.704763   \n",
       "\n",
       "   acousticness  instrumentalness  liveness   valence     tempo  \n",
       "0     -0.330915         -0.205221 -0.415548  0.472298  1.652885  \n",
       "1     -0.685168          0.795110 -0.196436 -0.939824  0.207641  \n",
       "2      0.095942         -0.205720 -0.173770  1.409142  0.207570  \n",
       "3     -0.936615         -0.205597 -0.392882 -1.346552 -0.322634  \n",
       "4      2.425709          7.492328 -0.339993 -1.808576 -0.552881  "
      ]
     },
     "execution_count": 18,
     "metadata": {},
     "output_type": "execute_result"
    }
   ],
   "source": [
    "pd.DataFrame(audio_df_prep, columns=audio_df.columns).head()"
   ]
  },
  {
   "cell_type": "code",
   "execution_count": 19,
   "metadata": {
    "hidden": true
   },
   "outputs": [
    {
     "data": {
      "text/html": [
       "<div>\n",
       "<style scoped>\n",
       "    .dataframe tbody tr th:only-of-type {\n",
       "        vertical-align: middle;\n",
       "    }\n",
       "\n",
       "    .dataframe tbody tr th {\n",
       "        vertical-align: top;\n",
       "    }\n",
       "\n",
       "    .dataframe thead th {\n",
       "        text-align: right;\n",
       "    }\n",
       "</style>\n",
       "<table border=\"1\" class=\"dataframe\">\n",
       "  <thead>\n",
       "    <tr style=\"text-align: right;\">\n",
       "      <th></th>\n",
       "      <th>danceability</th>\n",
       "      <th>energy</th>\n",
       "      <th>key</th>\n",
       "      <th>loudness</th>\n",
       "      <th>mode</th>\n",
       "      <th>speechiness</th>\n",
       "      <th>acousticness</th>\n",
       "      <th>instrumentalness</th>\n",
       "      <th>liveness</th>\n",
       "      <th>valence</th>\n",
       "      <th>tempo</th>\n",
       "    </tr>\n",
       "  </thead>\n",
       "  <tbody>\n",
       "    <tr>\n",
       "      <th>count</th>\n",
       "      <td>1.885800e+04</td>\n",
       "      <td>1.885800e+04</td>\n",
       "      <td>1.885800e+04</td>\n",
       "      <td>1.885800e+04</td>\n",
       "      <td>1.885800e+04</td>\n",
       "      <td>1.885800e+04</td>\n",
       "      <td>1.885800e+04</td>\n",
       "      <td>1.885800e+04</td>\n",
       "      <td>1.885800e+04</td>\n",
       "      <td>1.885800e+04</td>\n",
       "      <td>1.885800e+04</td>\n",
       "    </tr>\n",
       "    <tr>\n",
       "      <th>mean</th>\n",
       "      <td>1.340298e-16</td>\n",
       "      <td>6.426966e-16</td>\n",
       "      <td>-3.410839e-16</td>\n",
       "      <td>1.165681e-17</td>\n",
       "      <td>-1.769834e-16</td>\n",
       "      <td>-9.636887e-17</td>\n",
       "      <td>1.418187e-16</td>\n",
       "      <td>-7.270357e-15</td>\n",
       "      <td>1.637605e-16</td>\n",
       "      <td>-1.387985e-16</td>\n",
       "      <td>8.886847e-17</td>\n",
       "    </tr>\n",
       "    <tr>\n",
       "      <th>std</th>\n",
       "      <td>1.000027e+00</td>\n",
       "      <td>1.000027e+00</td>\n",
       "      <td>1.000027e+00</td>\n",
       "      <td>1.000027e+00</td>\n",
       "      <td>1.000027e+00</td>\n",
       "      <td>1.000027e+00</td>\n",
       "      <td>1.000027e+00</td>\n",
       "      <td>1.000027e+00</td>\n",
       "      <td>1.000027e+00</td>\n",
       "      <td>1.000027e+00</td>\n",
       "      <td>1.000027e+00</td>\n",
       "    </tr>\n",
       "    <tr>\n",
       "      <th>min</th>\n",
       "      <td>-4.505984e+00</td>\n",
       "      <td>-3.519125e+00</td>\n",
       "      <td>-1.451362e+00</td>\n",
       "      <td>-1.011198e+01</td>\n",
       "      <td>-1.220991e+00</td>\n",
       "      <td>-1.036479e+00</td>\n",
       "      <td>-9.572349e-01</td>\n",
       "      <td>-2.057199e-01</td>\n",
       "      <td>-1.203596e+00</td>\n",
       "      <td>-2.150867e+00</td>\n",
       "      <td>-4.228384e+00</td>\n",
       "    </tr>\n",
       "    <tr>\n",
       "      <th>25%</th>\n",
       "      <td>-6.319584e-01</td>\n",
       "      <td>-6.412144e-01</td>\n",
       "      <td>-8.981468e-01</td>\n",
       "      <td>-4.652842e-01</td>\n",
       "      <td>-1.220991e+00</td>\n",
       "      <td>-6.728678e-01</td>\n",
       "      <td>-8.023540e-01</td>\n",
       "      <td>-2.057199e-01</td>\n",
       "      <td>-5.938604e-01</td>\n",
       "      <td>-7.753052e-01</td>\n",
       "      <td>-8.136375e-01</td>\n",
       "    </tr>\n",
       "    <tr>\n",
       "      <th>50%</th>\n",
       "      <td>9.008231e-02</td>\n",
       "      <td>8.170847e-02</td>\n",
       "      <td>-6.832322e-02</td>\n",
       "      <td>1.729485e-01</td>\n",
       "      <td>8.190065e-01</td>\n",
       "      <td>-4.650901e-01</td>\n",
       "      <td>-3.787873e-01</td>\n",
       "      <td>-2.057199e-01</td>\n",
       "      <td>-4.004373e-01</td>\n",
       "      <td>-5.781933e-02</td>\n",
       "      <td>-7.157886e-03</td>\n",
       "    </tr>\n",
       "    <tr>\n",
       "      <th>75%</th>\n",
       "      <td>7.079825e-01</td>\n",
       "      <td>7.312095e-01</td>\n",
       "      <td>7.615003e-01</td>\n",
       "      <td>6.612178e-01</td>\n",
       "      <td>8.190065e-01</td>\n",
       "      <td>3.213665e-01</td>\n",
       "      <td>5.228004e-01</td>\n",
       "      <td>-2.049347e-01</td>\n",
       "      <td>2.568989e-01</td>\n",
       "      <td>7.419261e-01</td>\n",
       "      <td>6.981159e-01</td>\n",
       "    </tr>\n",
       "    <tr>\n",
       "      <th>max</th>\n",
       "      <td>2.290918e+00</td>\n",
       "      <td>2.092338e+00</td>\n",
       "      <td>1.591324e+00</td>\n",
       "      <td>3.101854e+00</td>\n",
       "      <td>8.190065e-01</td>\n",
       "      <td>7.329306e+00</td>\n",
       "      <td>3.016129e+00</td>\n",
       "      <td>8.042784e+00</td>\n",
       "      <td>6.044480e+00</td>\n",
       "      <td>2.387117e+00</td>\n",
       "      <td>3.516853e+00</td>\n",
       "    </tr>\n",
       "  </tbody>\n",
       "</table>\n",
       "</div>"
      ],
      "text/plain": [
       "       danceability        energy           key      loudness          mode  \\\n",
       "count  1.885800e+04  1.885800e+04  1.885800e+04  1.885800e+04  1.885800e+04   \n",
       "mean   1.340298e-16  6.426966e-16 -3.410839e-16  1.165681e-17 -1.769834e-16   \n",
       "std    1.000027e+00  1.000027e+00  1.000027e+00  1.000027e+00  1.000027e+00   \n",
       "min   -4.505984e+00 -3.519125e+00 -1.451362e+00 -1.011198e+01 -1.220991e+00   \n",
       "25%   -6.319584e-01 -6.412144e-01 -8.981468e-01 -4.652842e-01 -1.220991e+00   \n",
       "50%    9.008231e-02  8.170847e-02 -6.832322e-02  1.729485e-01  8.190065e-01   \n",
       "75%    7.079825e-01  7.312095e-01  7.615003e-01  6.612178e-01  8.190065e-01   \n",
       "max    2.290918e+00  2.092338e+00  1.591324e+00  3.101854e+00  8.190065e-01   \n",
       "\n",
       "        speechiness  acousticness  instrumentalness      liveness  \\\n",
       "count  1.885800e+04  1.885800e+04      1.885800e+04  1.885800e+04   \n",
       "mean  -9.636887e-17  1.418187e-16     -7.270357e-15  1.637605e-16   \n",
       "std    1.000027e+00  1.000027e+00      1.000027e+00  1.000027e+00   \n",
       "min   -1.036479e+00 -9.572349e-01     -2.057199e-01 -1.203596e+00   \n",
       "25%   -6.728678e-01 -8.023540e-01     -2.057199e-01 -5.938604e-01   \n",
       "50%   -4.650901e-01 -3.787873e-01     -2.057199e-01 -4.004373e-01   \n",
       "75%    3.213665e-01  5.228004e-01     -2.049347e-01  2.568989e-01   \n",
       "max    7.329306e+00  3.016129e+00      8.042784e+00  6.044480e+00   \n",
       "\n",
       "            valence         tempo  \n",
       "count  1.885800e+04  1.885800e+04  \n",
       "mean  -1.387985e-16  8.886847e-17  \n",
       "std    1.000027e+00  1.000027e+00  \n",
       "min   -2.150867e+00 -4.228384e+00  \n",
       "25%   -7.753052e-01 -8.136375e-01  \n",
       "50%   -5.781933e-02 -7.157886e-03  \n",
       "75%    7.419261e-01  6.981159e-01  \n",
       "max    2.387117e+00  3.516853e+00  "
      ]
     },
     "execution_count": 19,
     "metadata": {},
     "output_type": "execute_result"
    }
   ],
   "source": [
    "pd.DataFrame(audio_df_prep, columns=audio_df.columns).describe()"
   ]
  },
  {
   "cell_type": "markdown",
   "metadata": {
    "heading_collapsed": true,
    "hidden": true
   },
   "source": [
    "#### finding the best cluster"
   ]
  },
  {
   "cell_type": "code",
   "execution_count": 20,
   "metadata": {
    "hidden": true
   },
   "outputs": [
    {
     "data": {
      "text/plain": [
       "Text(0.5, 1.0, 'Elbow Method showing the optimal k')"
      ]
     },
     "execution_count": 20,
     "metadata": {},
     "output_type": "execute_result"
    },
    {
     "data": {
      "image/png": "[encoded data removed]",
      "text/plain": [
       "<Figure size 1152x576 with 1 Axes>"
      ]
     },
     "metadata": {
      "needs_background": "light"
     },
     "output_type": "display_data"
    }
   ],
   "source": [
    "K = range(2, 40)\n",
    "inertia = []\n",
    "\n",
    "for k in K:\n",
    "    kmeans = KMeans(n_clusters=k,\n",
    "                    random_state=1234)\n",
    "    kmeans.fit(audio_df_prep)\n",
    "    inertia.append(kmeans.inertia_)\n",
    "\n",
    "import numpy as np\n",
    "import matplotlib.pyplot as plt\n",
    "%matplotlib inline\n",
    "\n",
    "plt.figure(figsize=(16,8))\n",
    "plt.plot(K, inertia, 'bx-')\n",
    "plt.xlabel('k')\n",
    "plt.ylabel('inertia')\n",
    "plt.xticks(np.arange(min(K), max(K)+1, 1.0))\n",
    "plt.title('Elbow Method showing the optimal k')"
   ]
  },
  {
   "cell_type": "code",
   "execution_count": 21,
   "metadata": {
    "hidden": true
   },
   "outputs": [
    {
     "data": {
      "text/plain": [
       "Text(0.5, 1.0, 'Silhouette Method showing the optimal k')"
      ]
     },
     "execution_count": 21,
     "metadata": {},
     "output_type": "execute_result"
    },
    {
     "data": {
      "image/png": "[encoded data removed]",
      "text/plain": [
       "<Figure size 1152x576 with 1 Axes>"
      ]
     },
     "metadata": {
      "needs_background": "light"
     },
     "output_type": "display_data"
    }
   ],
   "source": [
    "K = range(2, 40)\n",
    "silhouette = []\n",
    "\n",
    "for k in K:\n",
    "    kmeans = KMeans(n_clusters=k,\n",
    "                    random_state=1234)\n",
    "    kmeans.fit(audio_df_prep)\n",
    "    silhouette.append(silhouette_score(audio_df_prep, kmeans.predict(audio_df_prep)))\n",
    "\n",
    "\n",
    "plt.figure(figsize=(16,8))\n",
    "plt.plot(K, silhouette, 'bx-')\n",
    "plt.xlabel('k')\n",
    "plt.ylabel('silhouette score')\n",
    "plt.xticks(np.arange(min(K), max(K)+1, 1.0))\n",
    "plt.title('Silhouette Method showing the optimal k')"
   ]
  },
  {
   "cell_type": "code",
   "execution_count": 22,
   "metadata": {
    "hidden": true
   },
   "outputs": [],
   "source": [
    "#Choosing 25"
   ]
  },
  {
   "cell_type": "markdown",
   "metadata": {
    "heading_collapsed": true,
    "hidden": true
   },
   "source": [
    "#### Clustering"
   ]
  },
  {
   "cell_type": "code",
   "execution_count": 23,
   "metadata": {
    "hidden": true
   },
   "outputs": [],
   "source": [
    "kmeans = KMeans(n_clusters=25, random_state=1234)"
   ]
  },
  {
   "cell_type": "code",
   "execution_count": 24,
   "metadata": {
    "hidden": true
   },
   "outputs": [
    {
     "data": {
      "text/plain": [
       "KMeans(n_clusters=25, random_state=1234)"
      ]
     },
     "execution_count": 24,
     "metadata": {},
     "output_type": "execute_result"
    }
   ],
   "source": [
    "kmeans.fit(audio_df_prep)"
   ]
  },
  {
   "cell_type": "code",
   "execution_count": 25,
   "metadata": {
    "hidden": true
   },
   "outputs": [],
   "source": [
    "clusters = kmeans.predict(audio_df_prep)"
   ]
  },
  {
   "cell_type": "code",
   "execution_count": 26,
   "metadata": {
    "hidden": true
   },
   "outputs": [
    {
     "data": {
      "text/plain": [
       "0      895\n",
       "1     1262\n",
       "2      917\n",
       "3      733\n",
       "4      146\n",
       "5      900\n",
       "6      717\n",
       "7     1013\n",
       "8      713\n",
       "9      909\n",
       "10     965\n",
       "11     301\n",
       "12     606\n",
       "13     934\n",
       "14     463\n",
       "15     974\n",
       "16     743\n",
       "17    1240\n",
       "18     661\n",
       "19     460\n",
       "20     476\n",
       "21     726\n",
       "22     807\n",
       "23     641\n",
       "24     656\n",
       "dtype: int64"
      ]
     },
     "execution_count": 26,
     "metadata": {},
     "output_type": "execute_result"
    }
   ],
   "source": [
    "pd.Series(clusters).value_counts().sort_index()"
   ]
  },
  {
   "cell_type": "markdown",
   "metadata": {
    "heading_collapsed": true,
    "hidden": true
   },
   "source": [
    "#### Check cluster assignments?"
   ]
  },
  {
   "cell_type": "code",
   "execution_count": 27,
   "metadata": {
    "hidden": true
   },
   "outputs": [],
   "source": [
    "Spotify_df = pd.DataFrame(Spotify)"
   ]
  },
  {
   "cell_type": "code",
   "execution_count": 28,
   "metadata": {
    "hidden": true
   },
   "outputs": [],
   "source": [
    "Spotify_df[\"cluster\"] = clusters"
   ]
  },
  {
   "cell_type": "code",
   "execution_count": 29,
   "metadata": {
    "hidden": true
   },
   "outputs": [
    {
     "data": {
      "text/html": [
       "<div>\n",
       "<style scoped>\n",
       "    .dataframe tbody tr th:only-of-type {\n",
       "        vertical-align: middle;\n",
       "    }\n",
       "\n",
       "    .dataframe tbody tr th {\n",
       "        vertical-align: top;\n",
       "    }\n",
       "\n",
       "    .dataframe thead th {\n",
       "        text-align: right;\n",
       "    }\n",
       "</style>\n",
       "<table border=\"1\" class=\"dataframe\">\n",
       "  <thead>\n",
       "    <tr style=\"text-align: right;\">\n",
       "      <th></th>\n",
       "      <th>Songtitle</th>\n",
       "      <th>Artist(s)</th>\n",
       "      <th>uri</th>\n",
       "      <th>danceability</th>\n",
       "      <th>energy</th>\n",
       "      <th>key</th>\n",
       "      <th>loudness</th>\n",
       "      <th>mode</th>\n",
       "      <th>speechiness</th>\n",
       "      <th>acousticness</th>\n",
       "      <th>instrumentalness</th>\n",
       "      <th>liveness</th>\n",
       "      <th>valence</th>\n",
       "      <th>tempo</th>\n",
       "      <th>cluster</th>\n",
       "    </tr>\n",
       "  </thead>\n",
       "  <tbody>\n",
       "    <tr>\n",
       "      <th>0</th>\n",
       "      <td>beverly</td>\n",
       "      <td>Koi</td>\n",
       "      <td>spotify:track:2pTW1GkqQ6dPTBOff2ZqQc</td>\n",
       "      <td>0.735</td>\n",
       "      <td>0.491</td>\n",
       "      <td>0</td>\n",
       "      <td>-7.766</td>\n",
       "      <td>0</td>\n",
       "      <td>0.0427</td>\n",
       "      <td>0.15700</td>\n",
       "      <td>0.000060</td>\n",
       "      <td>0.121</td>\n",
       "      <td>0.5740</td>\n",
       "      <td>167.130</td>\n",
       "      <td>13</td>\n",
       "    </tr>\n",
       "    <tr>\n",
       "      <th>1</th>\n",
       "      <td>Titanium (feat. Sia)</td>\n",
       "      <td>David Guetta, Sia</td>\n",
       "      <td>spotify:track:47Z5890IcjSed81ldeLgqc</td>\n",
       "      <td>0.602</td>\n",
       "      <td>0.796</td>\n",
       "      <td>0</td>\n",
       "      <td>-3.657</td>\n",
       "      <td>0</td>\n",
       "      <td>0.1030</td>\n",
       "      <td>0.06820</td>\n",
       "      <td>0.120000</td>\n",
       "      <td>0.150</td>\n",
       "      <td>0.2650</td>\n",
       "      <td>126.060</td>\n",
       "      <td>13</td>\n",
       "    </tr>\n",
       "    <tr>\n",
       "      <th>2</th>\n",
       "      <td>LOVE. FEAT. ZACARI.</td>\n",
       "      <td>Kendrick Lamar, Zacari</td>\n",
       "      <td>spotify:track:6PGoSes0D9eUDeeAafB2As</td>\n",
       "      <td>0.800</td>\n",
       "      <td>0.585</td>\n",
       "      <td>10</td>\n",
       "      <td>-7.343</td>\n",
       "      <td>1</td>\n",
       "      <td>0.0924</td>\n",
       "      <td>0.26400</td>\n",
       "      <td>0.000000</td>\n",
       "      <td>0.153</td>\n",
       "      <td>0.7790</td>\n",
       "      <td>126.058</td>\n",
       "      <td>1</td>\n",
       "    </tr>\n",
       "    <tr>\n",
       "      <th>3</th>\n",
       "      <td>do re mi</td>\n",
       "      <td>blackbear</td>\n",
       "      <td>spotify:track:3sTCfUmYXSVWDacTd6uMbQ</td>\n",
       "      <td>0.747</td>\n",
       "      <td>0.592</td>\n",
       "      <td>8</td>\n",
       "      <td>-6.334</td>\n",
       "      <td>1</td>\n",
       "      <td>0.0457</td>\n",
       "      <td>0.00517</td>\n",
       "      <td>0.000015</td>\n",
       "      <td>0.124</td>\n",
       "      <td>0.1760</td>\n",
       "      <td>110.991</td>\n",
       "      <td>17</td>\n",
       "    </tr>\n",
       "    <tr>\n",
       "      <th>4</th>\n",
       "      <td>Lord Of The Rings: The Fellowship Of The Ring ...</td>\n",
       "      <td>Raine, The City of Prague Philharmonic Orchest...</td>\n",
       "      <td>spotify:track:2Twe7p278J2GxzjQZWJZWM</td>\n",
       "      <td>0.341</td>\n",
       "      <td>0.193</td>\n",
       "      <td>2</td>\n",
       "      <td>-16.915</td>\n",
       "      <td>1</td>\n",
       "      <td>0.0364</td>\n",
       "      <td>0.84800</td>\n",
       "      <td>0.923000</td>\n",
       "      <td>0.131</td>\n",
       "      <td>0.0749</td>\n",
       "      <td>104.448</td>\n",
       "      <td>4</td>\n",
       "    </tr>\n",
       "  </tbody>\n",
       "</table>\n",
       "</div>"
      ],
      "text/plain": [
       "                                           Songtitle  \\\n",
       "0                                            beverly   \n",
       "1                               Titanium (feat. Sia)   \n",
       "2                                LOVE. FEAT. ZACARI.   \n",
       "3                                           do re mi   \n",
       "4  Lord Of The Rings: The Fellowship Of The Ring ...   \n",
       "\n",
       "                                           Artist(s)  \\\n",
       "0                                                Koi   \n",
       "1                                  David Guetta, Sia   \n",
       "2                             Kendrick Lamar, Zacari   \n",
       "3                                          blackbear   \n",
       "4  Raine, The City of Prague Philharmonic Orchest...   \n",
       "\n",
       "                                    uri  danceability  energy  key  loudness  \\\n",
       "0  spotify:track:2pTW1GkqQ6dPTBOff2ZqQc         0.735   0.491    0    -7.766   \n",
       "1  spotify:track:47Z5890IcjSed81ldeLgqc         0.602   0.796    0    -3.657   \n",
       "2  spotify:track:6PGoSes0D9eUDeeAafB2As         0.800   0.585   10    -7.343   \n",
       "3  spotify:track:3sTCfUmYXSVWDacTd6uMbQ         0.747   0.592    8    -6.334   \n",
       "4  spotify:track:2Twe7p278J2GxzjQZWJZWM         0.341   0.193    2   -16.915   \n",
       "\n",
       "   mode  speechiness  acousticness  instrumentalness  liveness  valence  \\\n",
       "0     0       0.0427       0.15700          0.000060     0.121   0.5740   \n",
       "1     0       0.1030       0.06820          0.120000     0.150   0.2650   \n",
       "2     1       0.0924       0.26400          0.000000     0.153   0.7790   \n",
       "3     1       0.0457       0.00517          0.000015     0.124   0.1760   \n",
       "4     1       0.0364       0.84800          0.923000     0.131   0.0749   \n",
       "\n",
       "     tempo  cluster  \n",
       "0  167.130       13  \n",
       "1  126.060       13  \n",
       "2  126.058        1  \n",
       "3  110.991       17  \n",
       "4  104.448        4  "
      ]
     },
     "execution_count": 29,
     "metadata": {},
     "output_type": "execute_result"
    }
   ],
   "source": [
    "Spotify_df.head()"
   ]
  },
  {
   "cell_type": "code",
   "execution_count": null,
   "metadata": {
    "hidden": true
   },
   "outputs": [],
   "source": []
  },
  {
   "cell_type": "code",
   "execution_count": null,
   "metadata": {
    "hidden": true
   },
   "outputs": [],
   "source": []
  },
  {
   "cell_type": "markdown",
   "metadata": {
    "heading_collapsed": true
   },
   "source": [
    "# Prototype"
   ]
  },
  {
   "cell_type": "markdown",
   "metadata": {
    "hidden": true
   },
   "source": [
    "Pseudocode:\n",
    "\n",
    "User inputs song (not lower/uppercase sensitive)\n",
    "\n",
    "Is the song in the Top 100?\n",
    "    \n",
    "    YES: Recommend another Song from the Top 100 list\n",
    "    NO: as k for artist name then Match the song to one of the clusters and recommend a song from that cluster. if there is an index error try and except\n",
    "    \n",
    "note prototype 2: input matching cluster > get input-cluster#, recommend song with same cluster#\n",
    "\n",
    "1)user input song call to spotify api to get audio features (combined search with artist and song?) get uri > get audio feautures\n",
    "\n",
    "2)standart scaler to transform the feautures audio features k.means.predict cluster, then match\n",
    "\n",
    "        "
   ]
  },
  {
   "cell_type": "code",
   "execution_count": 30,
   "metadata": {
    "hidden": true
   },
   "outputs": [],
   "source": [
    "# Songinput (not lower/uppercase sensitive)\n",
    "# Songinput = input(\"To teach Gnod what you are like, please type in 1 Song that you already know and like: \").lower()"
   ]
  },
  {
   "cell_type": "code",
   "execution_count": 31,
   "metadata": {
    "hidden": true
   },
   "outputs": [],
   "source": [
    "# FUNCTIONS Notes\n",
    "\n",
    "# Check if it is in the top 100\n",
    "# Top_100.loc[Top_100['Songtitle'].str.lower() == Songinput]\n",
    "\n",
    "# how to get Match\n",
    "# Match = (Top_100.loc[Top_100['Songtitle'].str.lower() == Songinput])\n",
    "# print(Match) > if its's a match it will show 1\n",
    "# Match.shape[0] > so this will be 1 also ergo if Match.shape[0] is not 1 it is not a match\n",
    "\n",
    "# Songrecommendation Top 100\n",
    "    \n",
    "def song_recommendation():\n",
    "    Recommendation = Top_100.sample()\n",
    "    return print(\"Songrecommendation: \" + Recommendation.iloc[0,0] + \" by \" + Recommendation.iloc[0,1])\n",
    "\n",
    "\n",
    "# Recommendation all\n",
    "\n",
    "def Recommendation():\n",
    "    Songinput  = input(\"To teach Gnod what you are like, please type in 1 Song that you already know and like: \").lower()\n",
    "    Match = (Top_100.loc[Top_100['Songtitle'].str.lower() == Songinput])\n",
    "    if Match.shape[0] == 1:\n",
    "        song_recommendation()\n",
    "    else:\n",
    "        artist = input(\"Please also give us the artist of that song: \")\n",
    "        try:\n",
    "            result = sp.search(q=\"track:\"+Songinput+\" artist:\"+artist,limit=1) #> get a json objects\n",
    "            my_dict = sp.audio_features(result[\"tracks\"][\"items\"][0][\"uri\"])[0]\n",
    "            my_dict_2 = { key: [my_dict[key]] for key in list(my_dict.keys()) }\n",
    "            df_1 = pd.DataFrame(my_dict_2)\n",
    "            df_2 = df_1.drop(['type', 'id', 'uri', 'track_href','analysis_url', 'duration_ms', 'time_signature'], axis=1)\n",
    "            df_2_prep = scaler.transform(df_2)\n",
    "            clusters_1 = kmeans.predict(df_2_prep)\n",
    "            recomm = Spotify_df[Spotify_df['cluster'] == clusters_1[0]].sample()\n",
    "            print('Songrecommendation: ' + recomm.iloc[0,0] + \" by \" + recomm.iloc[0,1])\n",
    "        except IndexError:\n",
    "            print('Sorry, this song seems to be not existent.')\n"
   ]
  },
  {
   "cell_type": "code",
   "execution_count": null,
   "metadata": {
    "hidden": true
   },
   "outputs": [],
   "source": []
  },
  {
   "cell_type": "markdown",
   "metadata": {},
   "source": [
    "# App"
   ]
  },
  {
   "cell_type": "code",
   "execution_count": 33,
   "metadata": {},
   "outputs": [
    {
     "name": "stdout",
     "output_type": "stream",
     "text": [
      "To teach Gnod what you are like, please type in 1 Song that you already know and like: up\n",
      "Songrecommendation: Beat Box by SpotemGottem Featuring Pooh Shiesty Or DaBaby\n"
     ]
    }
   ],
   "source": [
    "Recommendation()"
   ]
  },
  {
   "cell_type": "code",
   "execution_count": null,
   "metadata": {},
   "outputs": [],
   "source": []
  }
 ],
 "metadata": {
  "kernelspec": {
   "display_name": "Python 3",
   "language": "python",
   "name": "python3"
  },
  "language_info": {
   "codemirror_mode": {
    "name": "ipython",
    "version": 3
   },
   "file_extension": ".py",
   "mimetype": "text/x-python",
   "name": "python",
   "nbconvert_exporter": "python",
   "pygments_lexer": "ipython3",
   "version": "3.8.5"
  },
  "toc": {
   "base_numbering": 1,
   "nav_menu": {},
   "number_sections": true,
   "sideBar": true,
   "skip_h1_title": false,
   "title_cell": "Table of Contents",
   "title_sidebar": "Contents",
   "toc_cell": false,
   "toc_position": {},
   "toc_section_display": true,
   "toc_window_display": false
  },
  "varInspector": {
   "cols": {
    "lenName": 16,
    "lenType": 16,
    "lenVar": 40
   },
   "kernels_config": {
    "python": {
     "delete_cmd_postfix": "",
     "delete_cmd_prefix": "del ",
     "library": "var_list.py",
     "varRefreshCmd": "print(var_dic_list())"
    },
    "r": {
     "delete_cmd_postfix": ") ",
     "delete_cmd_prefix": "rm(",
     "library": "var_list.r",
     "varRefreshCmd": "cat(var_dic_list()) "
    }
   },
   "types_to_exclude": [
    "module",
    "function",
    "builtin_function_or_method",
    "instance",
    "_Feature"
   ],
   "window_display": false
  }
 },
 "nbformat": 4,
 "nbformat_minor": 4
}
