{
 "cells": [
  {
   "cell_type": "markdown",
   "metadata": {
    "heading_collapsed": true
   },
   "source": [
    "# Setup"
   ]
  },
  {
   "cell_type": "code",
   "execution_count": null,
   "metadata": {
    "hidden": true
   },
   "outputs": [],
   "source": [
    "# Import libraries\n",
    "import requests # to download html code\n",
    "from bs4 import BeautifulSoup # to navigate through the html code\n",
    "import pandas as pd\n",
    "import numpy as np\n",
    "import re # for cleanup\n",
    "import spotipy\n",
    "from config import *\n",
    "import json\n",
    "from spotipy.oauth2 import SpotifyClientCredentials"
   ]
  },
  {
   "cell_type": "code",
   "execution_count": null,
   "metadata": {
    "hidden": true
   },
   "outputs": [],
   "source": [
    "sp = spotipy.Spotify(auth_manager=SpotifyClientCredentials(client_id= Client_ID, client_secret= Client_Secret))"
   ]
  },
  {
   "cell_type": "markdown",
   "metadata": {
    "heading_collapsed": true,
    "hidden": true
   },
   "source": [
    "## Top 100"
   ]
  },
  {
   "cell_type": "code",
   "execution_count": null,
   "metadata": {
    "hidden": true
   },
   "outputs": [],
   "source": [
    "# url used for top100\n",
    "url = \"https://www.billboard.com/charts/hot-100\""
   ]
  },
  {
   "cell_type": "code",
   "execution_count": null,
   "metadata": {
    "hidden": true
   },
   "outputs": [],
   "source": [
    "# Download html\n",
    "response = requests.get(url)\n",
    "# 200 status code means OK! response.status_code\n",
    "print(response.status_code)"
   ]
  },
  {
   "cell_type": "code",
   "execution_count": null,
   "metadata": {
    "hidden": true
   },
   "outputs": [],
   "source": [
    "# Parse html\n",
    "soup = BeautifulSoup(response.text, 'html.parser')\n",
    "# Check up\n",
    "# soup"
   ]
  },
  {
   "cell_type": "code",
   "execution_count": null,
   "metadata": {
    "hidden": true
   },
   "outputs": [],
   "source": [
    "songnametext = soup.select(\"span.chart-element__information__song\")[0].get_text()\n",
    "songnametext"
   ]
  },
  {
   "cell_type": "code",
   "execution_count": null,
   "metadata": {
    "hidden": true
   },
   "outputs": [],
   "source": [
    "Songnames = []\n",
    "for elem in soup.select(\"span.chart-element__information__song\"):\n",
    "    Songnames.append(elem.get_text())\n"
   ]
  },
  {
   "cell_type": "code",
   "execution_count": null,
   "metadata": {
    "hidden": true
   },
   "outputs": [],
   "source": [
    "artisttext = soup.select(\"span.chart-element__information__artist\")[0].get_text()\n",
    "artisttext"
   ]
  },
  {
   "cell_type": "code",
   "execution_count": null,
   "metadata": {
    "hidden": true
   },
   "outputs": [],
   "source": [
    "Artists = []\n",
    "for elem in soup.select(\"span.chart-element__information__artist\"):\n",
    "    Artists.append(elem.get_text())"
   ]
  },
  {
   "cell_type": "code",
   "execution_count": null,
   "metadata": {
    "hidden": true
   },
   "outputs": [],
   "source": [
    "Top_100 = pd.DataFrame({'Songtitle': Songnames, 'Artist(s)': Artists})\n",
    "Top_100"
   ]
  },
  {
   "cell_type": "markdown",
   "metadata": {
    "heading_collapsed": true,
    "hidden": true
   },
   "source": [
    "## Spotify"
   ]
  },
  {
   "cell_type": "code",
   "execution_count": null,
   "metadata": {
    "hidden": true
   },
   "outputs": [],
   "source": [
    "path = '../Gnoosic/Spotify.csv'\n",
    "Spotify =  pd.read_csv(path)\n",
    "Spotify.head()"
   ]
  },
  {
   "cell_type": "code",
   "execution_count": null,
   "metadata": {
    "hidden": true
   },
   "outputs": [],
   "source": [
    "len(Spotify)"
   ]
  },
  {
   "cell_type": "markdown",
   "metadata": {
    "heading_collapsed": true,
    "hidden": true
   },
   "source": [
    "### Clustering Spotify"
   ]
  },
  {
   "cell_type": "code",
   "execution_count": null,
   "metadata": {
    "hidden": true
   },
   "outputs": [],
   "source": [
    "# Import libraries\n",
    "from sklearn.preprocessing import StandardScaler\n",
    "from sklearn.cluster import KMeans\n",
    "from sklearn.metrics import silhouette_score"
   ]
  },
  {
   "cell_type": "code",
   "execution_count": null,
   "metadata": {
    "hidden": true
   },
   "outputs": [],
   "source": [
    "# spotify df make new df (audio_df) only with the audio features? (only k to columns audiofeatures)\n",
    "# audio_df.describe()\n",
    "# -----making it all neat\n",
    "# audio_df_prep = StandardScaler().fit_transform(audio_df) >>>gives me an array\n",
    "# pd.DataFrame(audio_df_prep, columns=audio_df.columns).head()\n",
    "# pd.DataFrame(audio_df_prep, columns=audio_df.columns).describe()\n",
    "# -----clustering (the more the better)\n",
    "# kmeans = KMeans(n_clusters=8, random_state=1234)  > random_state similar to seed\n",
    "# kmeans.fit(audio_df_prep)\n",
    "# clusters = kmeans.predict(audio_df_prep)\n",
    "# pd.Series(clusters).value_counts().sort_index()\n",
    "# -----which song was assigned which?\n",
    "# Spotify_df = pd.DataFrame(Spotify)\n",
    "# Spotify_df[\"cluster\"] = clusters\n",
    "# Spotify_df.head()"
   ]
  },
  {
   "cell_type": "code",
   "execution_count": null,
   "metadata": {
    "hidden": true
   },
   "outputs": [],
   "source": [
    "audio_df = Spotify.filter(['danceability','energy','key','loudness','mode','speechiness','acousticness','instrumentalness','liveness','valence','tempo'])"
   ]
  },
  {
   "cell_type": "code",
   "execution_count": null,
   "metadata": {
    "hidden": true
   },
   "outputs": [],
   "source": [
    "audio_df.describe()"
   ]
  },
  {
   "cell_type": "markdown",
   "metadata": {
    "hidden": true
   },
   "source": [
    "#### making the data neat with StandarsScaler"
   ]
  },
  {
   "cell_type": "code",
   "execution_count": null,
   "metadata": {
    "hidden": true
   },
   "outputs": [],
   "source": [
    "scaler = StandardScaler()\n",
    "audio_df_prep = scaler.fit_transform(audio_df)"
   ]
  },
  {
   "cell_type": "code",
   "execution_count": null,
   "metadata": {
    "hidden": true
   },
   "outputs": [],
   "source": [
    "pd.DataFrame(audio_df_prep, columns=audio_df.columns).head()"
   ]
  },
  {
   "cell_type": "code",
   "execution_count": null,
   "metadata": {
    "hidden": true
   },
   "outputs": [],
   "source": [
    "pd.DataFrame(audio_df_prep, columns=audio_df.columns).describe()"
   ]
  },
  {
   "cell_type": "markdown",
   "metadata": {
    "hidden": true
   },
   "source": [
    "#### finding the best cluster"
   ]
  },
  {
   "cell_type": "code",
   "execution_count": null,
   "metadata": {
    "hidden": true
   },
   "outputs": [],
   "source": [
    "K = range(2, 40)\n",
    "inertia = []\n",
    "\n",
    "for k in K:\n",
    "    kmeans = KMeans(n_clusters=k,\n",
    "                    random_state=1234)\n",
    "    kmeans.fit(audio_df_prep)\n",
    "    inertia.append(kmeans.inertia_)\n",
    "\n",
    "import numpy as np\n",
    "import matplotlib.pyplot as plt\n",
    "%matplotlib inline\n",
    "\n",
    "plt.figure(figsize=(16,8))\n",
    "plt.plot(K, inertia, 'bx-')\n",
    "plt.xlabel('k')\n",
    "plt.ylabel('inertia')\n",
    "plt.xticks(np.arange(min(K), max(K)+1, 1.0))\n",
    "plt.title('Elbow Method showing the optimal k')"
   ]
  },
  {
   "cell_type": "code",
   "execution_count": null,
   "metadata": {
    "hidden": true
   },
   "outputs": [],
   "source": [
    "K = range(2, 40)\n",
    "silhouette = []\n",
    "\n",
    "for k in K:\n",
    "    kmeans = KMeans(n_clusters=k,\n",
    "                    random_state=1234)\n",
    "    kmeans.fit(audio_df_prep)\n",
    "    silhouette.append(silhouette_score(audio_df_prep, kmeans.predict(audio_df_prep)))\n",
    "\n",
    "\n",
    "plt.figure(figsize=(16,8))\n",
    "plt.plot(K, silhouette, 'bx-')\n",
    "plt.xlabel('k')\n",
    "plt.ylabel('silhouette score')\n",
    "plt.xticks(np.arange(min(K), max(K)+1, 1.0))\n",
    "plt.title('Silhouette Method showing the optimal k')"
   ]
  },
  {
   "cell_type": "code",
   "execution_count": null,
   "metadata": {
    "hidden": true
   },
   "outputs": [],
   "source": [
    "#Choosing 25"
   ]
  },
  {
   "cell_type": "markdown",
   "metadata": {
    "heading_collapsed": true,
    "hidden": true
   },
   "source": [
    "#### Clustering"
   ]
  },
  {
   "cell_type": "code",
   "execution_count": null,
   "metadata": {
    "hidden": true
   },
   "outputs": [],
   "source": [
    "kmeans = KMeans(n_clusters=25, random_state=1234)"
   ]
  },
  {
   "cell_type": "code",
   "execution_count": null,
   "metadata": {
    "hidden": true
   },
   "outputs": [],
   "source": [
    "kmeans.fit(audio_df_prep)"
   ]
  },
  {
   "cell_type": "code",
   "execution_count": null,
   "metadata": {
    "hidden": true
   },
   "outputs": [],
   "source": [
    "clusters = kmeans.predict(audio_df_prep)"
   ]
  },
  {
   "cell_type": "code",
   "execution_count": null,
   "metadata": {
    "hidden": true
   },
   "outputs": [],
   "source": [
    "pd.Series(clusters).value_counts().sort_index()"
   ]
  },
  {
   "cell_type": "markdown",
   "metadata": {
    "heading_collapsed": true,
    "hidden": true
   },
   "source": [
    "#### Check cluster assignments?"
   ]
  },
  {
   "cell_type": "code",
   "execution_count": null,
   "metadata": {
    "hidden": true
   },
   "outputs": [],
   "source": [
    "Spotify_df = pd.DataFrame(Spotify)"
   ]
  },
  {
   "cell_type": "code",
   "execution_count": null,
   "metadata": {
    "hidden": true
   },
   "outputs": [],
   "source": [
    "Spotify_df[\"cluster\"] = clusters"
   ]
  },
  {
   "cell_type": "code",
   "execution_count": null,
   "metadata": {
    "hidden": true
   },
   "outputs": [],
   "source": [
    "Spotify_df.head()"
   ]
  },
  {
   "cell_type": "code",
   "execution_count": null,
   "metadata": {
    "hidden": true
   },
   "outputs": [],
   "source": []
  },
  {
   "cell_type": "code",
   "execution_count": null,
   "metadata": {
    "hidden": true
   },
   "outputs": [],
   "source": []
  },
  {
   "cell_type": "markdown",
   "metadata": {
    "heading_collapsed": true
   },
   "source": [
    "# Prototype"
   ]
  },
  {
   "cell_type": "markdown",
   "metadata": {
    "hidden": true
   },
   "source": [
    "Pseudocode:\n",
    "\n",
    "User inputs song (not lower/uppercase sensitive)\n",
    "\n",
    "Is the song in the Top 100?\n",
    "    \n",
    "    YES: Recommend another Song from the Top 100 list\n",
    "    NO: as k for artist name then Match the song to one of the clusters and recommend a song from that cluster. if there is an index error try and except\n",
    "    \n",
    "note prototype 2: input matching cluster > get input-cluster#, recommend song with same cluster#\n",
    "\n",
    "1)user input song call to spotify api to get audio features (combined search with artist and song?) get uri > get audio feautures\n",
    "\n",
    "2)standart scaler to transform the feautures audio features k.means.predict cluster, then match\n",
    "\n",
    "        "
   ]
  },
  {
   "cell_type": "code",
   "execution_count": null,
   "metadata": {
    "hidden": true
   },
   "outputs": [],
   "source": [
    "# Songinput (not lower/uppercase sensitive)\n",
    "# Songinput = input(\"To teach Gnod what you are like, please type in 1 Song that you already know and like: \").lower()"
   ]
  },
  {
   "cell_type": "code",
   "execution_count": null,
   "metadata": {
    "hidden": true
   },
   "outputs": [],
   "source": [
    "# FUNCTIONS Notes\n",
    "\n",
    "# Check if it is in the top 100\n",
    "# Top_100.loc[Top_100['Songtitle'].str.lower() == Songinput]\n",
    "\n",
    "# how to get Match\n",
    "# Match = (Top_100.loc[Top_100['Songtitle'].str.lower() == Songinput])\n",
    "# print(Match) > if its's a match it will show 1\n",
    "# Match.shape[0] > so this will be 1 also ergo if Match.shape[0] is not 1 it is not a match\n",
    "\n",
    "# Songrecommendation Top 100\n",
    "    \n",
    "def song_recommendation():\n",
    "    Recommendation = Top_100.sample()\n",
    "    return print(\"Songrecommendation: \" + Recommendation.iloc[0,0] + \" by \" + Recommendation.iloc[0,1])\n",
    "\n",
    "\n",
    "# Recommendation all\n",
    "\n",
    "def Recommendation():\n",
    "    Songinput  = input(\"To teach Gnod what you are like, please type in 1 Song that you already know and like: \").lower()\n",
    "    Match = (Top_100.loc[Top_100['Songtitle'].str.lower() == Songinput])\n",
    "    if Match.shape[0] == 1:\n",
    "        song_recommendation()\n",
    "    else:\n",
    "        artist = input(\"Please also give us the artist of that song: \")\n",
    "        try:\n",
    "            result = sp.search(q=\"track:\"+Songinput+\" artist:\"+artist,limit=1) #> get a json objects\n",
    "            my_dict = sp.audio_features(result[\"tracks\"][\"items\"][0][\"uri\"])[0]\n",
    "            my_dict_2 = { key: [my_dict[key]] for key in list(my_dict.keys()) }\n",
    "            df_1 = pd.DataFrame(my_dict_2)\n",
    "            df_2 = df_1.drop(['type', 'id', 'uri', 'track_href','analysis_url', 'duration_ms', 'time_signature'], axis=1)\n",
    "            df_2_prep = scaler.transform(df_2)\n",
    "            clusters_1 = kmeans.predict(df_2_prep)\n",
    "            recomm = Spotify_df[Spotify_df['cluster'] == clusters_1[0]].sample()\n",
    "            print('Songrecommendation: ' + recomm.iloc[0,0] + \" by \" + recomm.iloc[0,1])\n",
    "        except IndexError:\n",
    "            print('Sorry, this song seems to be not existent.')\n"
   ]
  },
  {
   "cell_type": "code",
   "execution_count": null,
   "metadata": {
    "hidden": true
   },
   "outputs": [],
   "source": []
  },
  {
   "cell_type": "markdown",
   "metadata": {},
   "source": [
    "# App"
   ]
  },
  {
   "cell_type": "code",
   "execution_count": null,
   "metadata": {},
   "outputs": [],
   "source": [
    "Recommendation()"
   ]
  },
  {
   "cell_type": "code",
   "execution_count": null,
   "metadata": {},
   "outputs": [],
   "source": [
    "Recommendation()"
   ]
  },
  {
   "cell_type": "code",
   "execution_count": null,
   "metadata": {},
   "outputs": [],
   "source": []
  }
 ],
 "metadata": {
  "kernelspec": {
   "display_name": "Python 3",
   "language": "python",
   "name": "python3"
  },
  "language_info": {
   "codemirror_mode": {
    "name": "ipython",
    "version": 3
   },
   "file_extension": ".py",
   "mimetype": "text/x-python",
   "name": "python",
   "nbconvert_exporter": "python",
   "pygments_lexer": "ipython3",
   "version": "3.8.5"
  },
  "toc": {
   "base_numbering": 1,
   "nav_menu": {},
   "number_sections": true,
   "sideBar": true,
   "skip_h1_title": false,
   "title_cell": "Table of Contents",
   "title_sidebar": "Contents",
   "toc_cell": false,
   "toc_position": {},
   "toc_section_display": true,
   "toc_window_display": false
  },
  "varInspector": {
   "cols": {
    "lenName": 16,
    "lenType": 16,
    "lenVar": 40
   },
   "kernels_config": {
    "python": {
     "delete_cmd_postfix": "",
     "delete_cmd_prefix": "del ",
     "library": "var_list.py",
     "varRefreshCmd": "print(var_dic_list())"
    },
    "r": {
     "delete_cmd_postfix": ") ",
     "delete_cmd_prefix": "rm(",
     "library": "var_list.r",
     "varRefreshCmd": "cat(var_dic_list()) "
    }
   },
   "types_to_exclude": [
    "module",
    "function",
    "builtin_function_or_method",
    "instance",
    "_Feature"
   ],
   "window_display": false
  }
 },
 "nbformat": 4,
 "nbformat_minor": 4
}
