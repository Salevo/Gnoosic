{
 "cells": [
  {
   "cell_type": "markdown",
   "metadata": {},
   "source": [
    "# Setup"
   ]
  },
  {
   "cell_type": "code",
   "execution_count": 18,
   "metadata": {},
   "outputs": [],
   "source": [
    "# Import libraries\n",
    "import requests # to download html code\n",
    "from bs4 import BeautifulSoup # to navigate through the html code\n",
    "import pandas as pd\n",
    "import numpy as np\n",
    "import re # for cleanup"
   ]
  },
  {
   "cell_type": "markdown",
   "metadata": {
    "heading_collapsed": true
   },
   "source": [
    "## Top 100"
   ]
  },
  {
   "cell_type": "code",
   "execution_count": 3,
   "metadata": {
    "hidden": true
   },
   "outputs": [],
   "source": [
    "# url used for top100\n",
    "url = \"https://www.billboard.com/charts/hot-100\""
   ]
  },
  {
   "cell_type": "code",
   "execution_count": 4,
   "metadata": {
    "hidden": true
   },
   "outputs": [
    {
     "name": "stdout",
     "output_type": "stream",
     "text": [
      "200\n"
     ]
    }
   ],
   "source": [
    "# Download html\n",
    "response = requests.get(url)\n",
    "# 200 status code means OK! response.status_code\n",
    "print(response.status_code)"
   ]
  },
  {
   "cell_type": "code",
   "execution_count": 5,
   "metadata": {
    "hidden": true
   },
   "outputs": [],
   "source": [
    "# Parse html\n",
    "soup = BeautifulSoup(response.text, 'html.parser')\n",
    "# Check up\n",
    "# soup"
   ]
  },
  {
   "cell_type": "code",
   "execution_count": 6,
   "metadata": {
    "hidden": true
   },
   "outputs": [
    {
     "data": {
      "text/plain": [
       "'Montero (Call Me By Your Name)'"
      ]
     },
     "execution_count": 6,
     "metadata": {},
     "output_type": "execute_result"
    }
   ],
   "source": [
    "songnametext = soup.select(\"span.chart-element__information__song\")[0].get_text()\n",
    "songnametext"
   ]
  },
  {
   "cell_type": "code",
   "execution_count": 7,
   "metadata": {
    "hidden": true
   },
   "outputs": [],
   "source": [
    "Songnames = []\n",
    "for elem in soup.select(\"span.chart-element__information__song\"):\n",
    "    Songnames.append(elem.get_text())\n"
   ]
  },
  {
   "cell_type": "code",
   "execution_count": 8,
   "metadata": {
    "hidden": true
   },
   "outputs": [
    {
     "data": {
      "text/plain": [
       "'Lil Nas X'"
      ]
     },
     "execution_count": 8,
     "metadata": {},
     "output_type": "execute_result"
    }
   ],
   "source": [
    "artisttext = soup.select(\"span.chart-element__information__artist\")[0].get_text()\n",
    "artisttext"
   ]
  },
  {
   "cell_type": "code",
   "execution_count": 9,
   "metadata": {
    "hidden": true
   },
   "outputs": [],
   "source": [
    "Artists = []\n",
    "for elem in soup.select(\"span.chart-element__information__artist\"):\n",
    "    Artists.append(elem.get_text())"
   ]
  },
  {
   "cell_type": "code",
   "execution_count": 11,
   "metadata": {
    "hidden": true
   },
   "outputs": [
    {
     "data": {
      "text/html": [
       "<div>\n",
       "<style scoped>\n",
       "    .dataframe tbody tr th:only-of-type {\n",
       "        vertical-align: middle;\n",
       "    }\n",
       "\n",
       "    .dataframe tbody tr th {\n",
       "        vertical-align: top;\n",
       "    }\n",
       "\n",
       "    .dataframe thead th {\n",
       "        text-align: right;\n",
       "    }\n",
       "</style>\n",
       "<table border=\"1\" class=\"dataframe\">\n",
       "  <thead>\n",
       "    <tr style=\"text-align: right;\">\n",
       "      <th></th>\n",
       "      <th>Songtitle</th>\n",
       "      <th>Artist(s)</th>\n",
       "    </tr>\n",
       "  </thead>\n",
       "  <tbody>\n",
       "    <tr>\n",
       "      <th>0</th>\n",
       "      <td>Montero (Call Me By Your Name)</td>\n",
       "      <td>Lil Nas X</td>\n",
       "    </tr>\n",
       "    <tr>\n",
       "      <th>1</th>\n",
       "      <td>Peaches</td>\n",
       "      <td>Justin Bieber Featuring Daniel Caesar &amp; Giveon</td>\n",
       "    </tr>\n",
       "    <tr>\n",
       "      <th>2</th>\n",
       "      <td>Leave The Door Open</td>\n",
       "      <td>Silk Sonic (Bruno Mars &amp; Anderson .Paak)</td>\n",
       "    </tr>\n",
       "    <tr>\n",
       "      <th>3</th>\n",
       "      <td>Up</td>\n",
       "      <td>Cardi B</td>\n",
       "    </tr>\n",
       "    <tr>\n",
       "      <th>4</th>\n",
       "      <td>Drivers License</td>\n",
       "      <td>Olivia Rodrigo</td>\n",
       "    </tr>\n",
       "    <tr>\n",
       "      <th>...</th>\n",
       "      <td>...</td>\n",
       "      <td>...</td>\n",
       "    </tr>\n",
       "    <tr>\n",
       "      <th>95</th>\n",
       "      <td>Shock Da World</td>\n",
       "      <td>Rod Wave</td>\n",
       "    </tr>\n",
       "    <tr>\n",
       "      <th>96</th>\n",
       "      <td>You Got It</td>\n",
       "      <td>VEDO</td>\n",
       "    </tr>\n",
       "    <tr>\n",
       "      <th>97</th>\n",
       "      <td>Sneaky Links</td>\n",
       "      <td>Rod Wave</td>\n",
       "    </tr>\n",
       "    <tr>\n",
       "      <th>98</th>\n",
       "      <td>Nobody</td>\n",
       "      <td>Dylan Scott</td>\n",
       "    </tr>\n",
       "    <tr>\n",
       "      <th>99</th>\n",
       "      <td>Girl Like Me</td>\n",
       "      <td>Black Eyed Peas X Shakira</td>\n",
       "    </tr>\n",
       "  </tbody>\n",
       "</table>\n",
       "<p>100 rows × 2 columns</p>\n",
       "</div>"
      ],
      "text/plain": [
       "                         Songtitle  \\\n",
       "0   Montero (Call Me By Your Name)   \n",
       "1                          Peaches   \n",
       "2              Leave The Door Open   \n",
       "3                               Up   \n",
       "4                  Drivers License   \n",
       "..                             ...   \n",
       "95                  Shock Da World   \n",
       "96                      You Got It   \n",
       "97                    Sneaky Links   \n",
       "98                          Nobody   \n",
       "99                    Girl Like Me   \n",
       "\n",
       "                                         Artist(s)  \n",
       "0                                        Lil Nas X  \n",
       "1   Justin Bieber Featuring Daniel Caesar & Giveon  \n",
       "2         Silk Sonic (Bruno Mars & Anderson .Paak)  \n",
       "3                                          Cardi B  \n",
       "4                                   Olivia Rodrigo  \n",
       "..                                             ...  \n",
       "95                                        Rod Wave  \n",
       "96                                            VEDO  \n",
       "97                                        Rod Wave  \n",
       "98                                     Dylan Scott  \n",
       "99                       Black Eyed Peas X Shakira  \n",
       "\n",
       "[100 rows x 2 columns]"
      ]
     },
     "execution_count": 11,
     "metadata": {},
     "output_type": "execute_result"
    }
   ],
   "source": [
    "Top_100 = pd.DataFrame({'Songtitle': Songnames, 'Artist(s)': Artists})\n",
    "Top_100"
   ]
  },
  {
   "cell_type": "markdown",
   "metadata": {},
   "source": [
    "## Spotify"
   ]
  },
  {
   "cell_type": "code",
   "execution_count": 19,
   "metadata": {},
   "outputs": [
    {
     "data": {
      "text/html": [
       "<div>\n",
       "<style scoped>\n",
       "    .dataframe tbody tr th:only-of-type {\n",
       "        vertical-align: middle;\n",
       "    }\n",
       "\n",
       "    .dataframe tbody tr th {\n",
       "        vertical-align: top;\n",
       "    }\n",
       "\n",
       "    .dataframe thead th {\n",
       "        text-align: right;\n",
       "    }\n",
       "</style>\n",
       "<table border=\"1\" class=\"dataframe\">\n",
       "  <thead>\n",
       "    <tr style=\"text-align: right;\">\n",
       "      <th></th>\n",
       "      <th>Songtitle</th>\n",
       "      <th>Artist(s)</th>\n",
       "      <th>uri</th>\n",
       "      <th>danceability</th>\n",
       "      <th>energy</th>\n",
       "      <th>key</th>\n",
       "      <th>loudness</th>\n",
       "      <th>mode</th>\n",
       "      <th>speechiness</th>\n",
       "      <th>acousticness</th>\n",
       "      <th>instrumentalness</th>\n",
       "      <th>liveness</th>\n",
       "      <th>valence</th>\n",
       "      <th>tempo</th>\n",
       "    </tr>\n",
       "  </thead>\n",
       "  <tbody>\n",
       "    <tr>\n",
       "      <th>0</th>\n",
       "      <td>beverly</td>\n",
       "      <td>['Koi']</td>\n",
       "      <td>spotify:track:2pTW1GkqQ6dPTBOff2ZqQc</td>\n",
       "      <td>0.735</td>\n",
       "      <td>0.491</td>\n",
       "      <td>0</td>\n",
       "      <td>-7.766</td>\n",
       "      <td>0</td>\n",
       "      <td>0.0427</td>\n",
       "      <td>0.15700</td>\n",
       "      <td>0.000060</td>\n",
       "      <td>0.121</td>\n",
       "      <td>0.5740</td>\n",
       "      <td>167.130</td>\n",
       "    </tr>\n",
       "    <tr>\n",
       "      <th>1</th>\n",
       "      <td>Titanium (feat. Sia)</td>\n",
       "      <td>['David Guetta', 'Sia']</td>\n",
       "      <td>spotify:track:47Z5890IcjSed81ldeLgqc</td>\n",
       "      <td>0.602</td>\n",
       "      <td>0.796</td>\n",
       "      <td>0</td>\n",
       "      <td>-3.657</td>\n",
       "      <td>0</td>\n",
       "      <td>0.1030</td>\n",
       "      <td>0.06820</td>\n",
       "      <td>0.120000</td>\n",
       "      <td>0.150</td>\n",
       "      <td>0.2650</td>\n",
       "      <td>126.060</td>\n",
       "    </tr>\n",
       "    <tr>\n",
       "      <th>2</th>\n",
       "      <td>LOVE. FEAT. ZACARI.</td>\n",
       "      <td>['Kendrick Lamar', 'Zacari']</td>\n",
       "      <td>spotify:track:6PGoSes0D9eUDeeAafB2As</td>\n",
       "      <td>0.800</td>\n",
       "      <td>0.585</td>\n",
       "      <td>10</td>\n",
       "      <td>-7.343</td>\n",
       "      <td>1</td>\n",
       "      <td>0.0924</td>\n",
       "      <td>0.26400</td>\n",
       "      <td>0.000000</td>\n",
       "      <td>0.153</td>\n",
       "      <td>0.7790</td>\n",
       "      <td>126.058</td>\n",
       "    </tr>\n",
       "    <tr>\n",
       "      <th>3</th>\n",
       "      <td>do re mi</td>\n",
       "      <td>['blackbear']</td>\n",
       "      <td>spotify:track:3sTCfUmYXSVWDacTd6uMbQ</td>\n",
       "      <td>0.747</td>\n",
       "      <td>0.592</td>\n",
       "      <td>8</td>\n",
       "      <td>-6.334</td>\n",
       "      <td>1</td>\n",
       "      <td>0.0457</td>\n",
       "      <td>0.00517</td>\n",
       "      <td>0.000015</td>\n",
       "      <td>0.124</td>\n",
       "      <td>0.1760</td>\n",
       "      <td>110.991</td>\n",
       "    </tr>\n",
       "    <tr>\n",
       "      <th>4</th>\n",
       "      <td>Lord Of The Rings: The Fellowship Of The Ring ...</td>\n",
       "      <td>['Raine', 'The City of Prague Philharmonic Orc...</td>\n",
       "      <td>spotify:track:2Twe7p278J2GxzjQZWJZWM</td>\n",
       "      <td>0.341</td>\n",
       "      <td>0.193</td>\n",
       "      <td>2</td>\n",
       "      <td>-16.915</td>\n",
       "      <td>1</td>\n",
       "      <td>0.0364</td>\n",
       "      <td>0.84800</td>\n",
       "      <td>0.923000</td>\n",
       "      <td>0.131</td>\n",
       "      <td>0.0749</td>\n",
       "      <td>104.448</td>\n",
       "    </tr>\n",
       "  </tbody>\n",
       "</table>\n",
       "</div>"
      ],
      "text/plain": [
       "                                           Songtitle  \\\n",
       "0                                            beverly   \n",
       "1                               Titanium (feat. Sia)   \n",
       "2                                LOVE. FEAT. ZACARI.   \n",
       "3                                           do re mi   \n",
       "4  Lord Of The Rings: The Fellowship Of The Ring ...   \n",
       "\n",
       "                                           Artist(s)  \\\n",
       "0                                            ['Koi']   \n",
       "1                            ['David Guetta', 'Sia']   \n",
       "2                       ['Kendrick Lamar', 'Zacari']   \n",
       "3                                      ['blackbear']   \n",
       "4  ['Raine', 'The City of Prague Philharmonic Orc...   \n",
       "\n",
       "                                    uri  danceability  energy  key  loudness  \\\n",
       "0  spotify:track:2pTW1GkqQ6dPTBOff2ZqQc         0.735   0.491    0    -7.766   \n",
       "1  spotify:track:47Z5890IcjSed81ldeLgqc         0.602   0.796    0    -3.657   \n",
       "2  spotify:track:6PGoSes0D9eUDeeAafB2As         0.800   0.585   10    -7.343   \n",
       "3  spotify:track:3sTCfUmYXSVWDacTd6uMbQ         0.747   0.592    8    -6.334   \n",
       "4  spotify:track:2Twe7p278J2GxzjQZWJZWM         0.341   0.193    2   -16.915   \n",
       "\n",
       "   mode  speechiness  acousticness  instrumentalness  liveness  valence  \\\n",
       "0     0       0.0427       0.15700          0.000060     0.121   0.5740   \n",
       "1     0       0.1030       0.06820          0.120000     0.150   0.2650   \n",
       "2     1       0.0924       0.26400          0.000000     0.153   0.7790   \n",
       "3     1       0.0457       0.00517          0.000015     0.124   0.1760   \n",
       "4     1       0.0364       0.84800          0.923000     0.131   0.0749   \n",
       "\n",
       "     tempo  \n",
       "0  167.130  \n",
       "1  126.060  \n",
       "2  126.058  \n",
       "3  110.991  \n",
       "4  104.448  "
      ]
     },
     "execution_count": 19,
     "metadata": {},
     "output_type": "execute_result"
    }
   ],
   "source": [
    "path = '../Gnoosic/Spotify.csv'\n",
    "Spotify =  pd.read_csv(path)\n",
    "Spotify.head()"
   ]
  },
  {
   "cell_type": "code",
   "execution_count": 20,
   "metadata": {},
   "outputs": [
    {
     "data": {
      "text/plain": [
       "18857"
      ]
     },
     "execution_count": 20,
     "metadata": {},
     "output_type": "execute_result"
    }
   ],
   "source": [
    "len(Spotify)"
   ]
  },
  {
   "cell_type": "markdown",
   "metadata": {
    "heading_collapsed": true
   },
   "source": [
    "# Prototype"
   ]
  },
  {
   "cell_type": "markdown",
   "metadata": {
    "hidden": true
   },
   "source": [
    "Pseudocode:\n",
    "User inputs song (not lower/uppercase sensitive)\n",
    "Is the song in the Top 100?\n",
    "    NO: Prototype 2\n",
    "    YES: Recommend another Song from the Top 100 list"
   ]
  },
  {
   "cell_type": "code",
   "execution_count": 12,
   "metadata": {
    "hidden": true
   },
   "outputs": [],
   "source": [
    "# Songinput (not lower/uppercase sensitive)\n",
    "# Songinput = input(\"To teach Gnod what you are like, please type in 1 Song that you already know and like: \").lower()"
   ]
  },
  {
   "cell_type": "code",
   "execution_count": 13,
   "metadata": {
    "hidden": true
   },
   "outputs": [],
   "source": [
    "# Functions\n",
    "\n",
    "# Check if it is in the top 100\n",
    "# Top_100.loc[Top_100['Songtitle'].str.lower() == Songinput]\n",
    "\n",
    "# Songrecommendation\n",
    "\n",
    "def song_recommendation():\n",
    "    Recommendation = Top_100.sample()\n",
    "    return print(\"Songrecommendation: \" + Recommendation.iloc[0,0] + \" by \" + Recommendation.iloc[0,1])\n",
    "\n",
    "\n",
    "# Recommendation\n",
    "\n",
    "def Recommendation():\n",
    "    Match = (Top_100.loc[Top_100['Songtitle'].str.lower() == Songinput])\n",
    "    if Match.shape[0] == 1:\n",
    "        song_recommendation()\n",
    "    else:\n",
    "        print(\"Prototype 2 filler\")\n",
    "\n",
    "# how to get Match\n",
    "# Match = (Top_100.loc[Top_100['Songtitle'].str.lower() == Songinput])\n",
    "# print(Match) > if its's a match it will show 1\n",
    "# Match.shape[0] > so this will be 1 also ergo if Match.shape[0] is not 1 it is not a match"
   ]
  },
  {
   "cell_type": "code",
   "execution_count": null,
   "metadata": {
    "hidden": true
   },
   "outputs": [],
   "source": []
  },
  {
   "cell_type": "markdown",
   "metadata": {
    "heading_collapsed": true
   },
   "source": [
    "# App"
   ]
  },
  {
   "cell_type": "code",
   "execution_count": 15,
   "metadata": {
    "hidden": true
   },
   "outputs": [
    {
     "name": "stdout",
     "output_type": "stream",
     "text": [
      "To teach Gnod what you are like, please type in 1 Song that you already know and like: nakhsv\n",
      "Prototype 2 filler\n"
     ]
    }
   ],
   "source": [
    "Songinput  = input(\"To teach Gnod what you are like, please type in 1 Song that you already know and like: \").lower()\n",
    "Recommendation()"
   ]
  },
  {
   "cell_type": "code",
   "execution_count": null,
   "metadata": {
    "hidden": true
   },
   "outputs": [],
   "source": []
  }
 ],
 "metadata": {
  "kernelspec": {
   "display_name": "Python 3",
   "language": "python",
   "name": "python3"
  },
  "language_info": {
   "codemirror_mode": {
    "name": "ipython",
    "version": 3
   },
   "file_extension": ".py",
   "mimetype": "text/x-python",
   "name": "python",
   "nbconvert_exporter": "python",
   "pygments_lexer": "ipython3",
   "version": "3.8.5"
  },
  "toc": {
   "base_numbering": 1,
   "nav_menu": {},
   "number_sections": true,
   "sideBar": true,
   "skip_h1_title": false,
   "title_cell": "Table of Contents",
   "title_sidebar": "Contents",
   "toc_cell": false,
   "toc_position": {},
   "toc_section_display": true,
   "toc_window_display": false
  },
  "varInspector": {
   "cols": {
    "lenName": 16,
    "lenType": 16,
    "lenVar": 40
   },
   "kernels_config": {
    "python": {
     "delete_cmd_postfix": "",
     "delete_cmd_prefix": "del ",
     "library": "var_list.py",
     "varRefreshCmd": "print(var_dic_list())"
    },
    "r": {
     "delete_cmd_postfix": ") ",
     "delete_cmd_prefix": "rm(",
     "library": "var_list.r",
     "varRefreshCmd": "cat(var_dic_list()) "
    }
   },
   "types_to_exclude": [
    "module",
    "function",
    "builtin_function_or_method",
    "instance",
    "_Feature"
   ],
   "window_display": false
  }
 },
 "nbformat": 4,
 "nbformat_minor": 4
}
