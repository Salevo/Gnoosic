{
 "cells": [
  {
   "cell_type": "markdown",
   "metadata": {},
   "source": [
    "## Web Scraping Lab 1:\n",
    "\n",
    "\n",
    "### Prepare your project:\n",
    "\n",
    "#### Business goal:\n",
    "\n",
    "Make sure you've understood the big picture of your project: the goal of the company (Gnod), their current product (Gnoosic), their strategy, and how your project fits into this context. Re-read the business case and the e-mail from the CTO, take a look at the flowchart and create an initial Trello board with the tasks you think you'll have to acomplish.\n",
    "\n",
    "#### Scraping popular songs:\n",
    "\n",
    "Your product will take a song as an input from the user and will output another song (the recommendation). In most cases, the recommended song will have to be similar to the inputed song, but the CTO thinks that if the song is on the top charts at the moment, the user will enjoy more a recommendation of a song that's also popular at the moment.\n",
    "\n",
    "You have find data on the internet about currently popular songs. Billboard mantains a weekly Top 100 of \"hot\" songs here: https://www.billboard.com/charts/hot-100. \n",
    "\n",
    "It's a good place to start! Scrape the current top 100 songs and their respective artists, and put the information into a pandas dataframe."
   ]
  },
  {
   "cell_type": "markdown",
   "metadata": {},
   "source": [
    "# Setup"
   ]
  },
  {
   "cell_type": "code",
   "execution_count": 51,
   "metadata": {},
   "outputs": [],
   "source": [
    "# Import libraries\n",
    "import requests # to download html code\n",
    "from bs4 import BeautifulSoup # to navigate through the html code\n",
    "import pandas as pd\n",
    "import numpy as np\n",
    "import re # for cleanup\n",
    "import spotipy\n",
    "from config import *\n",
    "import json\n",
    "from spotipy.oauth2 import SpotifyClientCredentials"
   ]
  },
  {
   "cell_type": "code",
   "execution_count": 52,
   "metadata": {},
   "outputs": [],
   "source": [
    "sp = spotipy.Spotify(auth_manager=SpotifyClientCredentials(client_id= Client_ID, client_secret=Client_Secret))"
   ]
  },
  {
   "cell_type": "code",
   "execution_count": 53,
   "metadata": {},
   "outputs": [],
   "source": [
    "# url used for top100\n",
    "url = \"https://www.billboard.com/charts/hot-100\""
   ]
  },
  {
   "cell_type": "code",
   "execution_count": 54,
   "metadata": {},
   "outputs": [
    {
     "name": "stdout",
     "output_type": "stream",
     "text": [
      "200\n"
     ]
    }
   ],
   "source": [
    "# Download html\n",
    "response = requests.get(url)\n",
    "# 200 status code means OK! response.status_code\n",
    "print(response.status_code)"
   ]
  },
  {
   "cell_type": "code",
   "execution_count": 55,
   "metadata": {},
   "outputs": [],
   "source": [
    "# Parse html\n",
    "soup = BeautifulSoup(response.text, 'html.parser')\n",
    "# Check up\n",
    "# soup"
   ]
  },
  {
   "cell_type": "markdown",
   "metadata": {},
   "source": [
    "# Scraping"
   ]
  },
  {
   "cell_type": "markdown",
   "metadata": {
    "heading_collapsed": true
   },
   "source": [
    "## Top 100"
   ]
  },
  {
   "cell_type": "markdown",
   "metadata": {
    "heading_collapsed": true,
    "hidden": true
   },
   "source": [
    "### Songname"
   ]
  },
  {
   "cell_type": "code",
   "execution_count": 56,
   "metadata": {
    "hidden": true
   },
   "outputs": [],
   "source": [
    "# charts > div > div.chart-list__wrapper > div > ol > li:nth-child(1) > button > span.chart-element__information > span.chart-element__information__song.text--truncate.color--primary"
   ]
  },
  {
   "cell_type": "code",
   "execution_count": 57,
   "metadata": {
    "hidden": true
   },
   "outputs": [
    {
     "data": {
      "text/plain": [
       "'Montero (Call Me By Your Name)'"
      ]
     },
     "execution_count": 57,
     "metadata": {},
     "output_type": "execute_result"
    }
   ],
   "source": [
    "songnametext = soup.select(\"span.chart-element__information__song\")[0].get_text()\n",
    "songnametext"
   ]
  },
  {
   "cell_type": "code",
   "execution_count": 58,
   "metadata": {
    "hidden": true
   },
   "outputs": [
    {
     "name": "stdout",
     "output_type": "stream",
     "text": [
      "['Montero (Call Me By Your Name)', 'Peaches', 'Leave The Door Open', 'Up', 'Drivers License', 'Save Your Tears', 'Levitating', 'Blinding Lights', 'Mood', 'What You Know Bout Love', 'Tombstone', 'Astronaut In The Ocean', \"What's Next\", '34+35', 'Go Crazy', 'Street Runner', 'Best Friend', 'Calling My Phone', 'Therefore I Am', 'Back In Blood', 'You Broke Me First.', 'Richer', \"You're Mines Still\", 'Beat Box', 'Positions', 'On Me', 'Dakiti', 'Heartbreak Anniversary', \"My Ex's Best Friend\", 'Dynamite', 'Without You', 'The Good Ones', 'Beautiful Mistakes', 'Wants And Needs', 'Streets', 'Anyone', 'For The Night', 'Whoopty', 'No More Parties', 'Good Days', 'Starting Over', \"What's Your Country Song\", 'Put Your Records On', 'Cry Baby', 'Long Live', 'Hold On', 'Track Star', \"We're Good\", 'Hard For The Next', 'Heat Waves', \"You All Over Me (Taylor's Version) (From The Vault)\", 'Lady', 'Telepatia', 'Forever After All', 'SoulFly', 'Goosebumps', 'My Head And My Heart', 'Time Today', 'Willow', 'Just The Way', 'Gone Till November', \"Momma's House\", \"Don't Forget\", 'Damage', 'Blame On You', 'Somebody Like That', 'Hell Of A View', 'Headshot', 'Big Purr (Prrdd)', 'Lemon Pepper Freestyle', 'All I Got', 'As I Am', \"Breaking Up Was Easy In The 90's\", 'Down To One', 'Made For You', 'Hellcats & Trackhawks', 'Masterpiece', 'La Noche de Anoche', 'Wasted On You', 'Monsters', 'Body', 'Real As It Gets', 'Quicksand', 'Pick Up Your Feelings', 'Pills & Billz', 'The Business', 'Buss It', 'How The Game Go', 'OMDB', 'Settling Down', 'Almost Maybes', 'Glad You Exist', 'Clouds', \"What's Love??\", 'One Too Many', 'Shock Da World', 'You Got It', 'Sneaky Links', 'Nobody', 'Girl Like Me']\n"
     ]
    }
   ],
   "source": [
    "Songnames = []\n",
    "for elem in soup.select(\"span.chart-element__information__song\"):\n",
    "    Songnames.append(elem.get_text())\n",
    "\n",
    "print(Songnames)"
   ]
  },
  {
   "cell_type": "markdown",
   "metadata": {
    "heading_collapsed": true,
    "hidden": true
   },
   "source": [
    "### Artist"
   ]
  },
  {
   "cell_type": "code",
   "execution_count": 59,
   "metadata": {
    "hidden": true
   },
   "outputs": [],
   "source": [
    "# charts > div > div.chart-list__wrapper > div > ol > li:nth-child(1) > button > span.chart-element__information > span.chart-element__information__artist.text--truncate.color--secondary"
   ]
  },
  {
   "cell_type": "code",
   "execution_count": 60,
   "metadata": {
    "hidden": true
   },
   "outputs": [
    {
     "data": {
      "text/plain": [
       "'Lil Nas X'"
      ]
     },
     "execution_count": 60,
     "metadata": {},
     "output_type": "execute_result"
    }
   ],
   "source": [
    "artisttext = soup.select(\"span.chart-element__information__artist\")[0].get_text()\n",
    "artisttext"
   ]
  },
  {
   "cell_type": "code",
   "execution_count": 61,
   "metadata": {
    "hidden": true
   },
   "outputs": [
    {
     "name": "stdout",
     "output_type": "stream",
     "text": [
      "['Lil Nas X', 'Justin Bieber Featuring Daniel Caesar & Giveon', 'Silk Sonic (Bruno Mars & Anderson .Paak)', 'Cardi B', 'Olivia Rodrigo', 'The Weeknd', 'Dua Lipa Featuring DaBaby', 'The Weeknd', '24kGoldn Featuring iann dior', 'Pop Smoke', 'Rod Wave', 'Masked Wolf', 'Drake', 'Ariana Grande', 'Chris Brown & Young Thug', 'Rod Wave', 'Saweetie Featuring Doja Cat', 'Lil Tjay Featuring 6LACK', 'Billie Eilish', 'Pooh Shiesty Featuring Lil Durk', 'Tate McRae', 'Rod Wave Featuring Polo G', 'Yung Bleu Featuring Drake', 'SpotemGottem Featuring Pooh Shiesty Or DaBaby', 'Ariana Grande', 'Lil Baby', 'Bad Bunny & Jhay Cortez', 'Giveon', 'Machine Gun Kelly X blackbear', 'BTS', 'The Kid LAROI', 'Gabby Barrett', 'Maroon 5 Featuring Megan Thee Stallion', 'Drake Featuring Lil Baby', 'Doja Cat', 'Justin Bieber', 'Pop Smoke Featuring Lil Baby & DaBaby', 'CJ', 'Coi Leray Featuring Lil Durk', 'SZA', 'Chris Stapleton', 'Thomas Rhett', 'Ritt Momney', 'Megan Thee Stallion Featuring DaBaby', 'Florida Georgia Line', 'Justin Bieber', 'Mooski', 'Dua Lipa', 'Moneybagg Yo & Future', 'Glass Animals', 'Taylor Swift Featuring Maren Morris', 'Brett Young', 'Kali Uchis', 'Luke Combs', 'Rod Wave', 'Travis Scott & HVME', 'Ava Max', 'Moneybagg Yo', 'Taylor Swift', 'Parmalee x Blanco Brown', 'Rod Wave', 'Dustin Lynch', 'Rod Wave', 'H.E.R.', 'Rod Wave', 'Tenille Arts', 'Eric Church', 'Lil Tjay, Polo G & Fivio Foreign', 'Coi Leray & Pooh Shiesty', 'Drake Featuring Rick Ross', 'Rod Wave', 'Justin Bieber Featuring Khalid', 'Sam Hunt', 'Luke Bryan', 'Jake Owen', 'Lil Durk', 'DaBaby', 'Bad Bunny & Rosalia', 'Morgan Wallen', 'All Time Low Featuring Demi Lovato & blackbear ', 'Megan Thee Stallion', 'Lil Baby Featuring EST Gee', 'Morray', 'Jazmine Sullivan', 'Rod Wave', 'Tiesto', 'Erica Banks', 'Rod Wave', 'Rod Wave', 'Miranda Lambert', 'Jordan Davis', 'Dan + Shay', 'NF', 'Rod Wave', 'Keith Urban Duet With P!nk', 'Rod Wave', 'VEDO', 'Rod Wave', 'Dylan Scott', 'Black Eyed Peas X Shakira']\n"
     ]
    }
   ],
   "source": [
    "Artists = []\n",
    "for elem in soup.select(\"span.chart-element__information__artist\"):\n",
    "    Artists.append(elem.get_text())\n",
    "\n",
    "print(Artists)"
   ]
  },
  {
   "cell_type": "markdown",
   "metadata": {},
   "source": [
    "## Spotify"
   ]
  },
  {
   "cell_type": "markdown",
   "metadata": {},
   "source": [
    "### Playlist 1"
   ]
  },
  {
   "cell_type": "code",
   "execution_count": 62,
   "metadata": {},
   "outputs": [],
   "source": [
    "# https://open.spotify.com/playlist/1Ien12ACUL1Q2V2xIra3WO\n",
    "playlist_1 = sp.user_playlist_tracks(\"spotify\", \"1Ien12ACUL1Q2V2xIra3WO\")"
   ]
  },
  {
   "cell_type": "code",
   "execution_count": 63,
   "metadata": {},
   "outputs": [
    {
     "data": {
      "text/plain": [
       "dict"
      ]
     },
     "execution_count": 63,
     "metadata": {},
     "output_type": "execute_result"
    }
   ],
   "source": [
    "type(playlist_1)"
   ]
  },
  {
   "cell_type": "code",
   "execution_count": 64,
   "metadata": {},
   "outputs": [
    {
     "name": "stdout",
     "output_type": "stream",
     "text": [
      "['href', 'items', 'limit', 'next', 'offset', 'previous', 'total']\n",
      "Total number of songs in the playlist:  8846\n"
     ]
    },
    {
     "data": {
      "text/plain": [
       "100"
      ]
     },
     "execution_count": 64,
     "metadata": {},
     "output_type": "execute_result"
    }
   ],
   "source": [
    "print(list(playlist_1.keys())) # items and total songs\n",
    "print(\"Total number of songs in the playlist: \",playlist_1[\"total\"]) \n",
    "len(playlist_1[\"items\"]) # It is limited to 100 tracks, we will have to fix it:"
   ]
  },
  {
   "cell_type": "code",
   "execution_count": 65,
   "metadata": {},
   "outputs": [],
   "source": [
    "def get_playlist_tracks(username, playlist_id):\n",
    "    results = sp.user_playlist_tracks(username,playlist_id)\n",
    "    tracks = results['items']\n",
    "    while results['next']:\n",
    "        results = sp.next(results)\n",
    "        tracks.extend(results['items'])\n",
    "    return tracks\n"
   ]
  },
  {
   "cell_type": "code",
   "execution_count": 66,
   "metadata": {},
   "outputs": [],
   "source": [
    "playlist = get_playlist_tracks(\"spotify\", \"1Ien12ACUL1Q2V2xIra3WO\")\n"
   ]
  },
  {
   "cell_type": "code",
   "execution_count": 67,
   "metadata": {},
   "outputs": [
    {
     "data": {
      "text/plain": [
       "8846"
      ]
     },
     "execution_count": 67,
     "metadata": {},
     "output_type": "execute_result"
    }
   ],
   "source": [
    "len(playlist)"
   ]
  },
  {
   "cell_type": "code",
   "execution_count": 68,
   "metadata": {},
   "outputs": [],
   "source": [
    "# playlist"
   ]
  },
  {
   "cell_type": "code",
   "execution_count": 69,
   "metadata": {},
   "outputs": [
    {
     "data": {
      "text/plain": [
       "'beverly'"
      ]
     },
     "execution_count": 69,
     "metadata": {},
     "output_type": "execute_result"
    }
   ],
   "source": [
    "playlist[0]['track']['name'] #songname"
   ]
  },
  {
   "cell_type": "code",
   "execution_count": 70,
   "metadata": {},
   "outputs": [
    {
     "name": "stdout",
     "output_type": "stream",
     "text": [
      "Koi\n"
     ]
    }
   ],
   "source": [
    "for artist in playlist[0]['track']['artists']: #artists name (can be more than 1)\n",
    "    print(artist['name'])"
   ]
  },
  {
   "cell_type": "code",
   "execution_count": 71,
   "metadata": {},
   "outputs": [
    {
     "data": {
      "text/plain": [
       "'spotify:track:2pTW1GkqQ6dPTBOff2ZqQc'"
      ]
     },
     "execution_count": 71,
     "metadata": {},
     "output_type": "execute_result"
    }
   ],
   "source": [
    "playlist[0]['track']['uri'] #uri for audio features"
   ]
  },
  {
   "cell_type": "code",
   "execution_count": 72,
   "metadata": {},
   "outputs": [],
   "source": [
    "song_names = []\n",
    "song_uri = []\n",
    "artist_names = []\n",
    "audio_features = []\n",
    "counter = 0\n",
    "song_uri_total = []\n",
    "\n",
    "for item in playlist:\n",
    "    if item[\"is_local\"] == False:   # is_local == True is stored locally?/duplicates\n",
    "        counter = counter +1\n",
    "    \n",
    "        song_names.append(item['track']['name'])\n",
    "        song_uri_total.append(item['track'] ['uri'])\n",
    "        song_uri.append(item['track']['uri'])\n",
    "    \n",
    "        tempo_artists = []\n",
    "        for artist in item['track']['artists']:\n",
    "            tempo_artists.append(artist['name'])\n",
    "        \n",
    "        artist_names.append(\", \".join(tempo_artists))\n",
    "    \n",
    "        if counter == 100:\n",
    "            audio_features.append(sp.audio_features(song_uri))\n",
    "            counter = 0\n",
    "            song_uri = []      \n",
    "      \n",
    "audio_features.append(sp.audio_features(song_uri))  "
   ]
  },
  {
   "cell_type": "code",
   "execution_count": 73,
   "metadata": {},
   "outputs": [],
   "source": [
    "audio_features_total = [subitem for item in audio_features for subitem in item]"
   ]
  },
  {
   "cell_type": "code",
   "execution_count": 74,
   "metadata": {},
   "outputs": [
    {
     "data": {
      "text/plain": [
       "8845"
      ]
     },
     "execution_count": 74,
     "metadata": {},
     "output_type": "execute_result"
    }
   ],
   "source": [
    "len (song_names)"
   ]
  },
  {
   "cell_type": "code",
   "execution_count": 75,
   "metadata": {},
   "outputs": [
    {
     "data": {
      "text/plain": [
       "8845"
      ]
     },
     "execution_count": 75,
     "metadata": {},
     "output_type": "execute_result"
    }
   ],
   "source": [
    "len(audio_features_total)"
   ]
  },
  {
   "cell_type": "code",
   "execution_count": 76,
   "metadata": {},
   "outputs": [
    {
     "data": {
      "text/html": [
       "<div>\n",
       "<style scoped>\n",
       "    .dataframe tbody tr th:only-of-type {\n",
       "        vertical-align: middle;\n",
       "    }\n",
       "\n",
       "    .dataframe tbody tr th {\n",
       "        vertical-align: top;\n",
       "    }\n",
       "\n",
       "    .dataframe thead th {\n",
       "        text-align: right;\n",
       "    }\n",
       "</style>\n",
       "<table border=\"1\" class=\"dataframe\">\n",
       "  <thead>\n",
       "    <tr style=\"text-align: right;\">\n",
       "      <th></th>\n",
       "      <th>danceability</th>\n",
       "      <th>energy</th>\n",
       "      <th>key</th>\n",
       "      <th>loudness</th>\n",
       "      <th>mode</th>\n",
       "      <th>speechiness</th>\n",
       "      <th>acousticness</th>\n",
       "      <th>instrumentalness</th>\n",
       "      <th>liveness</th>\n",
       "      <th>valence</th>\n",
       "      <th>tempo</th>\n",
       "      <th>type</th>\n",
       "      <th>id</th>\n",
       "      <th>uri</th>\n",
       "      <th>track_href</th>\n",
       "      <th>analysis_url</th>\n",
       "      <th>duration_ms</th>\n",
       "      <th>time_signature</th>\n",
       "    </tr>\n",
       "  </thead>\n",
       "  <tbody>\n",
       "    <tr>\n",
       "      <th>0</th>\n",
       "      <td>0.735</td>\n",
       "      <td>0.491</td>\n",
       "      <td>0</td>\n",
       "      <td>-7.766</td>\n",
       "      <td>0</td>\n",
       "      <td>0.0427</td>\n",
       "      <td>0.15700</td>\n",
       "      <td>0.000060</td>\n",
       "      <td>0.121</td>\n",
       "      <td>0.5740</td>\n",
       "      <td>167.130</td>\n",
       "      <td>audio_features</td>\n",
       "      <td>2pTW1GkqQ6dPTBOff2ZqQc</td>\n",
       "      <td>spotify:track:2pTW1GkqQ6dPTBOff2ZqQc</td>\n",
       "      <td>https://api.spotify.com/v1/tracks/2pTW1GkqQ6dP...</td>\n",
       "      <td>https://api.spotify.com/v1/audio-analysis/2pTW...</td>\n",
       "      <td>103473</td>\n",
       "      <td>4</td>\n",
       "    </tr>\n",
       "    <tr>\n",
       "      <th>1</th>\n",
       "      <td>0.602</td>\n",
       "      <td>0.796</td>\n",
       "      <td>0</td>\n",
       "      <td>-3.657</td>\n",
       "      <td>0</td>\n",
       "      <td>0.1030</td>\n",
       "      <td>0.06820</td>\n",
       "      <td>0.120000</td>\n",
       "      <td>0.150</td>\n",
       "      <td>0.2650</td>\n",
       "      <td>126.060</td>\n",
       "      <td>audio_features</td>\n",
       "      <td>47Z5890IcjSed81ldeLgqc</td>\n",
       "      <td>spotify:track:47Z5890IcjSed81ldeLgqc</td>\n",
       "      <td>https://api.spotify.com/v1/tracks/47Z5890IcjSe...</td>\n",
       "      <td>https://api.spotify.com/v1/audio-analysis/47Z5...</td>\n",
       "      <td>245053</td>\n",
       "      <td>4</td>\n",
       "    </tr>\n",
       "    <tr>\n",
       "      <th>2</th>\n",
       "      <td>0.800</td>\n",
       "      <td>0.585</td>\n",
       "      <td>10</td>\n",
       "      <td>-7.343</td>\n",
       "      <td>1</td>\n",
       "      <td>0.0924</td>\n",
       "      <td>0.26400</td>\n",
       "      <td>0.000000</td>\n",
       "      <td>0.153</td>\n",
       "      <td>0.7790</td>\n",
       "      <td>126.058</td>\n",
       "      <td>audio_features</td>\n",
       "      <td>6PGoSes0D9eUDeeAafB2As</td>\n",
       "      <td>spotify:track:6PGoSes0D9eUDeeAafB2As</td>\n",
       "      <td>https://api.spotify.com/v1/tracks/6PGoSes0D9eU...</td>\n",
       "      <td>https://api.spotify.com/v1/audio-analysis/6PGo...</td>\n",
       "      <td>213400</td>\n",
       "      <td>4</td>\n",
       "    </tr>\n",
       "    <tr>\n",
       "      <th>3</th>\n",
       "      <td>0.747</td>\n",
       "      <td>0.592</td>\n",
       "      <td>8</td>\n",
       "      <td>-6.334</td>\n",
       "      <td>1</td>\n",
       "      <td>0.0457</td>\n",
       "      <td>0.00517</td>\n",
       "      <td>0.000015</td>\n",
       "      <td>0.124</td>\n",
       "      <td>0.1760</td>\n",
       "      <td>110.991</td>\n",
       "      <td>audio_features</td>\n",
       "      <td>3sTCfUmYXSVWDacTd6uMbQ</td>\n",
       "      <td>spotify:track:3sTCfUmYXSVWDacTd6uMbQ</td>\n",
       "      <td>https://api.spotify.com/v1/tracks/3sTCfUmYXSVW...</td>\n",
       "      <td>https://api.spotify.com/v1/audio-analysis/3sTC...</td>\n",
       "      <td>212027</td>\n",
       "      <td>3</td>\n",
       "    </tr>\n",
       "    <tr>\n",
       "      <th>4</th>\n",
       "      <td>0.341</td>\n",
       "      <td>0.193</td>\n",
       "      <td>2</td>\n",
       "      <td>-16.915</td>\n",
       "      <td>1</td>\n",
       "      <td>0.0364</td>\n",
       "      <td>0.84800</td>\n",
       "      <td>0.923000</td>\n",
       "      <td>0.131</td>\n",
       "      <td>0.0749</td>\n",
       "      <td>104.448</td>\n",
       "      <td>audio_features</td>\n",
       "      <td>2Twe7p278J2GxzjQZWJZWM</td>\n",
       "      <td>spotify:track:2Twe7p278J2GxzjQZWJZWM</td>\n",
       "      <td>https://api.spotify.com/v1/tracks/2Twe7p278J2G...</td>\n",
       "      <td>https://api.spotify.com/v1/audio-analysis/2Twe...</td>\n",
       "      <td>164107</td>\n",
       "      <td>4</td>\n",
       "    </tr>\n",
       "  </tbody>\n",
       "</table>\n",
       "</div>"
      ],
      "text/plain": [
       "   danceability  energy  key  loudness  mode  speechiness  acousticness  \\\n",
       "0         0.735   0.491    0    -7.766     0       0.0427       0.15700   \n",
       "1         0.602   0.796    0    -3.657     0       0.1030       0.06820   \n",
       "2         0.800   0.585   10    -7.343     1       0.0924       0.26400   \n",
       "3         0.747   0.592    8    -6.334     1       0.0457       0.00517   \n",
       "4         0.341   0.193    2   -16.915     1       0.0364       0.84800   \n",
       "\n",
       "   instrumentalness  liveness  valence    tempo            type  \\\n",
       "0          0.000060     0.121   0.5740  167.130  audio_features   \n",
       "1          0.120000     0.150   0.2650  126.060  audio_features   \n",
       "2          0.000000     0.153   0.7790  126.058  audio_features   \n",
       "3          0.000015     0.124   0.1760  110.991  audio_features   \n",
       "4          0.923000     0.131   0.0749  104.448  audio_features   \n",
       "\n",
       "                       id                                   uri  \\\n",
       "0  2pTW1GkqQ6dPTBOff2ZqQc  spotify:track:2pTW1GkqQ6dPTBOff2ZqQc   \n",
       "1  47Z5890IcjSed81ldeLgqc  spotify:track:47Z5890IcjSed81ldeLgqc   \n",
       "2  6PGoSes0D9eUDeeAafB2As  spotify:track:6PGoSes0D9eUDeeAafB2As   \n",
       "3  3sTCfUmYXSVWDacTd6uMbQ  spotify:track:3sTCfUmYXSVWDacTd6uMbQ   \n",
       "4  2Twe7p278J2GxzjQZWJZWM  spotify:track:2Twe7p278J2GxzjQZWJZWM   \n",
       "\n",
       "                                          track_href  \\\n",
       "0  https://api.spotify.com/v1/tracks/2pTW1GkqQ6dP...   \n",
       "1  https://api.spotify.com/v1/tracks/47Z5890IcjSe...   \n",
       "2  https://api.spotify.com/v1/tracks/6PGoSes0D9eU...   \n",
       "3  https://api.spotify.com/v1/tracks/3sTCfUmYXSVW...   \n",
       "4  https://api.spotify.com/v1/tracks/2Twe7p278J2G...   \n",
       "\n",
       "                                        analysis_url  duration_ms  \\\n",
       "0  https://api.spotify.com/v1/audio-analysis/2pTW...       103473   \n",
       "1  https://api.spotify.com/v1/audio-analysis/47Z5...       245053   \n",
       "2  https://api.spotify.com/v1/audio-analysis/6PGo...       213400   \n",
       "3  https://api.spotify.com/v1/audio-analysis/3sTC...       212027   \n",
       "4  https://api.spotify.com/v1/audio-analysis/2Twe...       164107   \n",
       "\n",
       "   time_signature  \n",
       "0               4  \n",
       "1               4  \n",
       "2               4  \n",
       "3               3  \n",
       "4               4  "
      ]
     },
     "execution_count": 76,
     "metadata": {},
     "output_type": "execute_result"
    }
   ],
   "source": [
    "audi_features_df = pd.DataFrame(audio_features_total)\n",
    "audi_features_df.head()"
   ]
  },
  {
   "cell_type": "code",
   "execution_count": 77,
   "metadata": {},
   "outputs": [],
   "source": [
    "audi_features_df = audi_features_df.drop(columns=['type', 'id', 'track_href', 'analysis_url', 'duration_ms', 'time_signature'])"
   ]
  },
  {
   "cell_type": "code",
   "execution_count": 78,
   "metadata": {},
   "outputs": [
    {
     "data": {
      "text/html": [
       "<div>\n",
       "<style scoped>\n",
       "    .dataframe tbody tr th:only-of-type {\n",
       "        vertical-align: middle;\n",
       "    }\n",
       "\n",
       "    .dataframe tbody tr th {\n",
       "        vertical-align: top;\n",
       "    }\n",
       "\n",
       "    .dataframe thead th {\n",
       "        text-align: right;\n",
       "    }\n",
       "</style>\n",
       "<table border=\"1\" class=\"dataframe\">\n",
       "  <thead>\n",
       "    <tr style=\"text-align: right;\">\n",
       "      <th></th>\n",
       "      <th>danceability</th>\n",
       "      <th>energy</th>\n",
       "      <th>key</th>\n",
       "      <th>loudness</th>\n",
       "      <th>mode</th>\n",
       "      <th>speechiness</th>\n",
       "      <th>acousticness</th>\n",
       "      <th>instrumentalness</th>\n",
       "      <th>liveness</th>\n",
       "      <th>valence</th>\n",
       "      <th>tempo</th>\n",
       "      <th>uri</th>\n",
       "    </tr>\n",
       "  </thead>\n",
       "  <tbody>\n",
       "    <tr>\n",
       "      <th>0</th>\n",
       "      <td>0.735</td>\n",
       "      <td>0.491</td>\n",
       "      <td>0</td>\n",
       "      <td>-7.766</td>\n",
       "      <td>0</td>\n",
       "      <td>0.0427</td>\n",
       "      <td>0.15700</td>\n",
       "      <td>0.000060</td>\n",
       "      <td>0.121</td>\n",
       "      <td>0.5740</td>\n",
       "      <td>167.130</td>\n",
       "      <td>spotify:track:2pTW1GkqQ6dPTBOff2ZqQc</td>\n",
       "    </tr>\n",
       "    <tr>\n",
       "      <th>1</th>\n",
       "      <td>0.602</td>\n",
       "      <td>0.796</td>\n",
       "      <td>0</td>\n",
       "      <td>-3.657</td>\n",
       "      <td>0</td>\n",
       "      <td>0.1030</td>\n",
       "      <td>0.06820</td>\n",
       "      <td>0.120000</td>\n",
       "      <td>0.150</td>\n",
       "      <td>0.2650</td>\n",
       "      <td>126.060</td>\n",
       "      <td>spotify:track:47Z5890IcjSed81ldeLgqc</td>\n",
       "    </tr>\n",
       "    <tr>\n",
       "      <th>2</th>\n",
       "      <td>0.800</td>\n",
       "      <td>0.585</td>\n",
       "      <td>10</td>\n",
       "      <td>-7.343</td>\n",
       "      <td>1</td>\n",
       "      <td>0.0924</td>\n",
       "      <td>0.26400</td>\n",
       "      <td>0.000000</td>\n",
       "      <td>0.153</td>\n",
       "      <td>0.7790</td>\n",
       "      <td>126.058</td>\n",
       "      <td>spotify:track:6PGoSes0D9eUDeeAafB2As</td>\n",
       "    </tr>\n",
       "    <tr>\n",
       "      <th>3</th>\n",
       "      <td>0.747</td>\n",
       "      <td>0.592</td>\n",
       "      <td>8</td>\n",
       "      <td>-6.334</td>\n",
       "      <td>1</td>\n",
       "      <td>0.0457</td>\n",
       "      <td>0.00517</td>\n",
       "      <td>0.000015</td>\n",
       "      <td>0.124</td>\n",
       "      <td>0.1760</td>\n",
       "      <td>110.991</td>\n",
       "      <td>spotify:track:3sTCfUmYXSVWDacTd6uMbQ</td>\n",
       "    </tr>\n",
       "    <tr>\n",
       "      <th>4</th>\n",
       "      <td>0.341</td>\n",
       "      <td>0.193</td>\n",
       "      <td>2</td>\n",
       "      <td>-16.915</td>\n",
       "      <td>1</td>\n",
       "      <td>0.0364</td>\n",
       "      <td>0.84800</td>\n",
       "      <td>0.923000</td>\n",
       "      <td>0.131</td>\n",
       "      <td>0.0749</td>\n",
       "      <td>104.448</td>\n",
       "      <td>spotify:track:2Twe7p278J2GxzjQZWJZWM</td>\n",
       "    </tr>\n",
       "  </tbody>\n",
       "</table>\n",
       "</div>"
      ],
      "text/plain": [
       "   danceability  energy  key  loudness  mode  speechiness  acousticness  \\\n",
       "0         0.735   0.491    0    -7.766     0       0.0427       0.15700   \n",
       "1         0.602   0.796    0    -3.657     0       0.1030       0.06820   \n",
       "2         0.800   0.585   10    -7.343     1       0.0924       0.26400   \n",
       "3         0.747   0.592    8    -6.334     1       0.0457       0.00517   \n",
       "4         0.341   0.193    2   -16.915     1       0.0364       0.84800   \n",
       "\n",
       "   instrumentalness  liveness  valence    tempo  \\\n",
       "0          0.000060     0.121   0.5740  167.130   \n",
       "1          0.120000     0.150   0.2650  126.060   \n",
       "2          0.000000     0.153   0.7790  126.058   \n",
       "3          0.000015     0.124   0.1760  110.991   \n",
       "4          0.923000     0.131   0.0749  104.448   \n",
       "\n",
       "                                    uri  \n",
       "0  spotify:track:2pTW1GkqQ6dPTBOff2ZqQc  \n",
       "1  spotify:track:47Z5890IcjSed81ldeLgqc  \n",
       "2  spotify:track:6PGoSes0D9eUDeeAafB2As  \n",
       "3  spotify:track:3sTCfUmYXSVWDacTd6uMbQ  \n",
       "4  spotify:track:2Twe7p278J2GxzjQZWJZWM  "
      ]
     },
     "execution_count": 78,
     "metadata": {},
     "output_type": "execute_result"
    }
   ],
   "source": [
    "audi_features_df.head()"
   ]
  },
  {
   "cell_type": "code",
   "execution_count": 79,
   "metadata": {},
   "outputs": [],
   "source": [
    "spotify_names = pd.DataFrame({'Songtitle': song_names, 'Artist(s)': artist_names, 'uri': song_uri_total})"
   ]
  },
  {
   "cell_type": "code",
   "execution_count": 80,
   "metadata": {},
   "outputs": [
    {
     "data": {
      "text/html": [
       "<div>\n",
       "<style scoped>\n",
       "    .dataframe tbody tr th:only-of-type {\n",
       "        vertical-align: middle;\n",
       "    }\n",
       "\n",
       "    .dataframe tbody tr th {\n",
       "        vertical-align: top;\n",
       "    }\n",
       "\n",
       "    .dataframe thead th {\n",
       "        text-align: right;\n",
       "    }\n",
       "</style>\n",
       "<table border=\"1\" class=\"dataframe\">\n",
       "  <thead>\n",
       "    <tr style=\"text-align: right;\">\n",
       "      <th></th>\n",
       "      <th>Songtitle</th>\n",
       "      <th>Artist(s)</th>\n",
       "      <th>uri</th>\n",
       "    </tr>\n",
       "  </thead>\n",
       "  <tbody>\n",
       "    <tr>\n",
       "      <th>0</th>\n",
       "      <td>beverly</td>\n",
       "      <td>Koi</td>\n",
       "      <td>spotify:track:2pTW1GkqQ6dPTBOff2ZqQc</td>\n",
       "    </tr>\n",
       "    <tr>\n",
       "      <th>1</th>\n",
       "      <td>Titanium (feat. Sia)</td>\n",
       "      <td>David Guetta, Sia</td>\n",
       "      <td>spotify:track:47Z5890IcjSed81ldeLgqc</td>\n",
       "    </tr>\n",
       "    <tr>\n",
       "      <th>2</th>\n",
       "      <td>LOVE. FEAT. ZACARI.</td>\n",
       "      <td>Kendrick Lamar, Zacari</td>\n",
       "      <td>spotify:track:6PGoSes0D9eUDeeAafB2As</td>\n",
       "    </tr>\n",
       "    <tr>\n",
       "      <th>3</th>\n",
       "      <td>do re mi</td>\n",
       "      <td>blackbear</td>\n",
       "      <td>spotify:track:3sTCfUmYXSVWDacTd6uMbQ</td>\n",
       "    </tr>\n",
       "    <tr>\n",
       "      <th>4</th>\n",
       "      <td>Lord Of The Rings: The Fellowship Of The Ring ...</td>\n",
       "      <td>Raine, The City of Prague Philharmonic Orchest...</td>\n",
       "      <td>spotify:track:2Twe7p278J2GxzjQZWJZWM</td>\n",
       "    </tr>\n",
       "    <tr>\n",
       "      <th>...</th>\n",
       "      <td>...</td>\n",
       "      <td>...</td>\n",
       "      <td>...</td>\n",
       "    </tr>\n",
       "    <tr>\n",
       "      <th>8840</th>\n",
       "      <td>Disco Man</td>\n",
       "      <td>Remi Wolf</td>\n",
       "      <td>spotify:track:0T7aTl1t15HKHfwep4nANV</td>\n",
       "    </tr>\n",
       "    <tr>\n",
       "      <th>8841</th>\n",
       "      <td>Chillin Vibe (Feat. Chaboom, kitsyojii, Wonjja...</td>\n",
       "      <td>YoBoy, Chaboom, kitsyojii, 원쨩, Leebido, 오아이, k...</td>\n",
       "      <td>spotify:track:6wXNvp1ZAm13IHAsU0AxsH</td>\n",
       "    </tr>\n",
       "    <tr>\n",
       "      <th>8842</th>\n",
       "      <td>Run It Up (feat. Offset &amp; Moneybagg Yo)</td>\n",
       "      <td>Lil Tjay, Offset, Moneybagg Yo</td>\n",
       "      <td>spotify:track:5pmvv42h1bcK3frE8CEblt</td>\n",
       "    </tr>\n",
       "    <tr>\n",
       "      <th>8843</th>\n",
       "      <td>Headshot (feat. Polo G &amp; Fivio Foreign)</td>\n",
       "      <td>Lil Tjay, Polo G, Fivio Foreign</td>\n",
       "      <td>spotify:track:05bcw8n2kOlB7jpaXC41zo</td>\n",
       "    </tr>\n",
       "    <tr>\n",
       "      <th>8844</th>\n",
       "      <td>Break it off</td>\n",
       "      <td>PinkPantheress</td>\n",
       "      <td>spotify:track:5892YX6q8y3Rs9OysF08kv</td>\n",
       "    </tr>\n",
       "  </tbody>\n",
       "</table>\n",
       "<p>8845 rows × 3 columns</p>\n",
       "</div>"
      ],
      "text/plain": [
       "                                              Songtitle  \\\n",
       "0                                               beverly   \n",
       "1                                  Titanium (feat. Sia)   \n",
       "2                                   LOVE. FEAT. ZACARI.   \n",
       "3                                              do re mi   \n",
       "4     Lord Of The Rings: The Fellowship Of The Ring ...   \n",
       "...                                                 ...   \n",
       "8840                                          Disco Man   \n",
       "8841  Chillin Vibe (Feat. Chaboom, kitsyojii, Wonjja...   \n",
       "8842            Run It Up (feat. Offset & Moneybagg Yo)   \n",
       "8843            Headshot (feat. Polo G & Fivio Foreign)   \n",
       "8844                                       Break it off   \n",
       "\n",
       "                                              Artist(s)  \\\n",
       "0                                                   Koi   \n",
       "1                                     David Guetta, Sia   \n",
       "2                                Kendrick Lamar, Zacari   \n",
       "3                                             blackbear   \n",
       "4     Raine, The City of Prague Philharmonic Orchest...   \n",
       "...                                                 ...   \n",
       "8840                                          Remi Wolf   \n",
       "8841  YoBoy, Chaboom, kitsyojii, 원쨩, Leebido, 오아이, k...   \n",
       "8842                     Lil Tjay, Offset, Moneybagg Yo   \n",
       "8843                    Lil Tjay, Polo G, Fivio Foreign   \n",
       "8844                                     PinkPantheress   \n",
       "\n",
       "                                       uri  \n",
       "0     spotify:track:2pTW1GkqQ6dPTBOff2ZqQc  \n",
       "1     spotify:track:47Z5890IcjSed81ldeLgqc  \n",
       "2     spotify:track:6PGoSes0D9eUDeeAafB2As  \n",
       "3     spotify:track:3sTCfUmYXSVWDacTd6uMbQ  \n",
       "4     spotify:track:2Twe7p278J2GxzjQZWJZWM  \n",
       "...                                    ...  \n",
       "8840  spotify:track:0T7aTl1t15HKHfwep4nANV  \n",
       "8841  spotify:track:6wXNvp1ZAm13IHAsU0AxsH  \n",
       "8842  spotify:track:5pmvv42h1bcK3frE8CEblt  \n",
       "8843  spotify:track:05bcw8n2kOlB7jpaXC41zo  \n",
       "8844  spotify:track:5892YX6q8y3Rs9OysF08kv  \n",
       "\n",
       "[8845 rows x 3 columns]"
      ]
     },
     "execution_count": 80,
     "metadata": {},
     "output_type": "execute_result"
    }
   ],
   "source": [
    "spotify_names"
   ]
  },
  {
   "cell_type": "markdown",
   "metadata": {},
   "source": [
    "### Playlist 2"
   ]
  },
  {
   "cell_type": "code",
   "execution_count": 81,
   "metadata": {},
   "outputs": [],
   "source": [
    " # https://open.spotify.com/playlist/081RobLq4ExzALJVAWLmkk\n",
    "playlist_2 = sp.user_playlist_tracks(\"spotify\", \"081RobLq4ExzALJVAWLmkk\")"
   ]
  },
  {
   "cell_type": "code",
   "execution_count": 82,
   "metadata": {},
   "outputs": [
    {
     "name": "stdout",
     "output_type": "stream",
     "text": [
      "['href', 'items', 'limit', 'next', 'offset', 'previous', 'total']\n",
      "Total number of songs in the playlist:  9983\n"
     ]
    },
    {
     "data": {
      "text/plain": [
       "100"
      ]
     },
     "execution_count": 82,
     "metadata": {},
     "output_type": "execute_result"
    }
   ],
   "source": [
    "print(list(playlist_2.keys())) # items and total songs\n",
    "print(\"Total number of songs in the playlist: \",playlist_2[\"total\"]) \n",
    "len(playlist_2[\"items\"]) # It is limited to 100 tracks, we will have to fix it:"
   ]
  },
  {
   "cell_type": "code",
   "execution_count": 83,
   "metadata": {},
   "outputs": [],
   "source": [
    "playlist_2 = get_playlist_tracks(\"spotify\", \"081RobLq4ExzALJVAWLmkk\")"
   ]
  },
  {
   "cell_type": "code",
   "execution_count": 84,
   "metadata": {},
   "outputs": [
    {
     "data": {
      "text/plain": [
       "9983"
      ]
     },
     "execution_count": 84,
     "metadata": {},
     "output_type": "execute_result"
    }
   ],
   "source": [
    "len(playlist_2)"
   ]
  },
  {
   "cell_type": "code",
   "execution_count": 85,
   "metadata": {},
   "outputs": [],
   "source": [
    "song_names = []\n",
    "song_uri = []\n",
    "artist_names = []\n",
    "audio_features = []\n",
    "counter = 0\n",
    "song_uri_total = []\n",
    "\n",
    "for item in playlist_2:\n",
    "    if item[\"is_local\"] == False:   # is_local == True is stored locally?/duplicates\n",
    "        counter = counter +1\n",
    "    \n",
    "        song_names.append(item['track']['name'])\n",
    "        song_uri_total.append(item['track'] ['uri'])\n",
    "        song_uri.append(item['track']['uri'])\n",
    "    \n",
    "        tempo_artists = []\n",
    "        for artist in item['track']['artists']:\n",
    "            tempo_artists.append(artist['name'])\n",
    "        \n",
    "        artist_names.append(\", \".join(tempo_artists))\n",
    "    \n",
    "        if counter == 100:\n",
    "            audio_features.append(sp.audio_features(song_uri))\n",
    "            counter = 0\n",
    "            song_uri = []      \n",
    "      \n",
    "audio_features.append(sp.audio_features(song_uri))  "
   ]
  },
  {
   "cell_type": "code",
   "execution_count": 86,
   "metadata": {},
   "outputs": [],
   "source": [
    "audio_features_total = [subitem for item in audio_features for subitem in item]"
   ]
  },
  {
   "cell_type": "code",
   "execution_count": 87,
   "metadata": {},
   "outputs": [
    {
     "data": {
      "text/plain": [
       "9983"
      ]
     },
     "execution_count": 87,
     "metadata": {},
     "output_type": "execute_result"
    }
   ],
   "source": [
    "len (song_names)"
   ]
  },
  {
   "cell_type": "code",
   "execution_count": 88,
   "metadata": {},
   "outputs": [
    {
     "data": {
      "text/plain": [
       "9983"
      ]
     },
     "execution_count": 88,
     "metadata": {},
     "output_type": "execute_result"
    }
   ],
   "source": [
    "len(audio_features_total)"
   ]
  },
  {
   "cell_type": "code",
   "execution_count": 89,
   "metadata": {},
   "outputs": [
    {
     "data": {
      "text/html": [
       "<div>\n",
       "<style scoped>\n",
       "    .dataframe tbody tr th:only-of-type {\n",
       "        vertical-align: middle;\n",
       "    }\n",
       "\n",
       "    .dataframe tbody tr th {\n",
       "        vertical-align: top;\n",
       "    }\n",
       "\n",
       "    .dataframe thead th {\n",
       "        text-align: right;\n",
       "    }\n",
       "</style>\n",
       "<table border=\"1\" class=\"dataframe\">\n",
       "  <thead>\n",
       "    <tr style=\"text-align: right;\">\n",
       "      <th></th>\n",
       "      <th>danceability</th>\n",
       "      <th>energy</th>\n",
       "      <th>key</th>\n",
       "      <th>loudness</th>\n",
       "      <th>mode</th>\n",
       "      <th>speechiness</th>\n",
       "      <th>acousticness</th>\n",
       "      <th>instrumentalness</th>\n",
       "      <th>liveness</th>\n",
       "      <th>valence</th>\n",
       "      <th>tempo</th>\n",
       "      <th>type</th>\n",
       "      <th>id</th>\n",
       "      <th>uri</th>\n",
       "      <th>track_href</th>\n",
       "      <th>analysis_url</th>\n",
       "      <th>duration_ms</th>\n",
       "      <th>time_signature</th>\n",
       "    </tr>\n",
       "  </thead>\n",
       "  <tbody>\n",
       "    <tr>\n",
       "      <th>0</th>\n",
       "      <td>0.626</td>\n",
       "      <td>0.800</td>\n",
       "      <td>1</td>\n",
       "      <td>-3.988</td>\n",
       "      <td>0</td>\n",
       "      <td>0.0350</td>\n",
       "      <td>0.0267</td>\n",
       "      <td>0.000138</td>\n",
       "      <td>0.0623</td>\n",
       "      <td>0.258</td>\n",
       "      <td>127.966</td>\n",
       "      <td>audio_features</td>\n",
       "      <td>0DhkTGjEaIHaSxTfC14BFm</td>\n",
       "      <td>spotify:track:0DhkTGjEaIHaSxTfC14BFm</td>\n",
       "      <td>https://api.spotify.com/v1/tracks/0DhkTGjEaIHa...</td>\n",
       "      <td>https://api.spotify.com/v1/audio-analysis/0Dhk...</td>\n",
       "      <td>160184</td>\n",
       "      <td>4</td>\n",
       "    </tr>\n",
       "    <tr>\n",
       "      <th>1</th>\n",
       "      <td>0.691</td>\n",
       "      <td>0.509</td>\n",
       "      <td>6</td>\n",
       "      <td>-9.353</td>\n",
       "      <td>1</td>\n",
       "      <td>0.0459</td>\n",
       "      <td>0.4610</td>\n",
       "      <td>0.000003</td>\n",
       "      <td>0.1460</td>\n",
       "      <td>0.268</td>\n",
       "      <td>86.101</td>\n",
       "      <td>audio_features</td>\n",
       "      <td>74lxmxZDGDr21dKyXU0rcr</td>\n",
       "      <td>spotify:track:74lxmxZDGDr21dKyXU0rcr</td>\n",
       "      <td>https://api.spotify.com/v1/tracks/74lxmxZDGDr2...</td>\n",
       "      <td>https://api.spotify.com/v1/audio-analysis/74lx...</td>\n",
       "      <td>215200</td>\n",
       "      <td>4</td>\n",
       "    </tr>\n",
       "    <tr>\n",
       "      <th>2</th>\n",
       "      <td>0.756</td>\n",
       "      <td>0.743</td>\n",
       "      <td>5</td>\n",
       "      <td>-6.915</td>\n",
       "      <td>1</td>\n",
       "      <td>0.0968</td>\n",
       "      <td>0.0925</td>\n",
       "      <td>0.000290</td>\n",
       "      <td>0.0616</td>\n",
       "      <td>0.413</td>\n",
       "      <td>105.010</td>\n",
       "      <td>audio_features</td>\n",
       "      <td>5wmlyNmVGwE3Y3TKKPFNpF</td>\n",
       "      <td>spotify:track:5wmlyNmVGwE3Y3TKKPFNpF</td>\n",
       "      <td>https://api.spotify.com/v1/tracks/5wmlyNmVGwE3...</td>\n",
       "      <td>https://api.spotify.com/v1/audio-analysis/5wml...</td>\n",
       "      <td>208065</td>\n",
       "      <td>4</td>\n",
       "    </tr>\n",
       "    <tr>\n",
       "      <th>3</th>\n",
       "      <td>0.555</td>\n",
       "      <td>0.137</td>\n",
       "      <td>4</td>\n",
       "      <td>-13.874</td>\n",
       "      <td>0</td>\n",
       "      <td>0.0445</td>\n",
       "      <td>0.9630</td>\n",
       "      <td>0.000010</td>\n",
       "      <td>0.1210</td>\n",
       "      <td>0.205</td>\n",
       "      <td>137.798</td>\n",
       "      <td>audio_features</td>\n",
       "      <td>3aN15iceA1SfExPEs6kfLj</td>\n",
       "      <td>spotify:track:3aN15iceA1SfExPEs6kfLj</td>\n",
       "      <td>https://api.spotify.com/v1/tracks/3aN15iceA1Sf...</td>\n",
       "      <td>https://api.spotify.com/v1/audio-analysis/3aN1...</td>\n",
       "      <td>238708</td>\n",
       "      <td>4</td>\n",
       "    </tr>\n",
       "    <tr>\n",
       "      <th>4</th>\n",
       "      <td>0.486</td>\n",
       "      <td>0.854</td>\n",
       "      <td>0</td>\n",
       "      <td>-4.859</td>\n",
       "      <td>1</td>\n",
       "      <td>0.0569</td>\n",
       "      <td>0.0739</td>\n",
       "      <td>0.000011</td>\n",
       "      <td>0.3580</td>\n",
       "      <td>0.469</td>\n",
       "      <td>123.942</td>\n",
       "      <td>audio_features</td>\n",
       "      <td>38tGRxFP5NkWbtOWsXbQ0L</td>\n",
       "      <td>spotify:track:38tGRxFP5NkWbtOWsXbQ0L</td>\n",
       "      <td>https://api.spotify.com/v1/tracks/38tGRxFP5NkW...</td>\n",
       "      <td>https://api.spotify.com/v1/audio-analysis/38tG...</td>\n",
       "      <td>208548</td>\n",
       "      <td>4</td>\n",
       "    </tr>\n",
       "  </tbody>\n",
       "</table>\n",
       "</div>"
      ],
      "text/plain": [
       "   danceability  energy  key  loudness  mode  speechiness  acousticness  \\\n",
       "0         0.626   0.800    1    -3.988     0       0.0350        0.0267   \n",
       "1         0.691   0.509    6    -9.353     1       0.0459        0.4610   \n",
       "2         0.756   0.743    5    -6.915     1       0.0968        0.0925   \n",
       "3         0.555   0.137    4   -13.874     0       0.0445        0.9630   \n",
       "4         0.486   0.854    0    -4.859     1       0.0569        0.0739   \n",
       "\n",
       "   instrumentalness  liveness  valence    tempo            type  \\\n",
       "0          0.000138    0.0623    0.258  127.966  audio_features   \n",
       "1          0.000003    0.1460    0.268   86.101  audio_features   \n",
       "2          0.000290    0.0616    0.413  105.010  audio_features   \n",
       "3          0.000010    0.1210    0.205  137.798  audio_features   \n",
       "4          0.000011    0.3580    0.469  123.942  audio_features   \n",
       "\n",
       "                       id                                   uri  \\\n",
       "0  0DhkTGjEaIHaSxTfC14BFm  spotify:track:0DhkTGjEaIHaSxTfC14BFm   \n",
       "1  74lxmxZDGDr21dKyXU0rcr  spotify:track:74lxmxZDGDr21dKyXU0rcr   \n",
       "2  5wmlyNmVGwE3Y3TKKPFNpF  spotify:track:5wmlyNmVGwE3Y3TKKPFNpF   \n",
       "3  3aN15iceA1SfExPEs6kfLj  spotify:track:3aN15iceA1SfExPEs6kfLj   \n",
       "4  38tGRxFP5NkWbtOWsXbQ0L  spotify:track:38tGRxFP5NkWbtOWsXbQ0L   \n",
       "\n",
       "                                          track_href  \\\n",
       "0  https://api.spotify.com/v1/tracks/0DhkTGjEaIHa...   \n",
       "1  https://api.spotify.com/v1/tracks/74lxmxZDGDr2...   \n",
       "2  https://api.spotify.com/v1/tracks/5wmlyNmVGwE3...   \n",
       "3  https://api.spotify.com/v1/tracks/3aN15iceA1Sf...   \n",
       "4  https://api.spotify.com/v1/tracks/38tGRxFP5NkW...   \n",
       "\n",
       "                                        analysis_url  duration_ms  \\\n",
       "0  https://api.spotify.com/v1/audio-analysis/0Dhk...       160184   \n",
       "1  https://api.spotify.com/v1/audio-analysis/74lx...       215200   \n",
       "2  https://api.spotify.com/v1/audio-analysis/5wml...       208065   \n",
       "3  https://api.spotify.com/v1/audio-analysis/3aN1...       238708   \n",
       "4  https://api.spotify.com/v1/audio-analysis/38tG...       208548   \n",
       "\n",
       "   time_signature  \n",
       "0               4  \n",
       "1               4  \n",
       "2               4  \n",
       "3               4  \n",
       "4               4  "
      ]
     },
     "execution_count": 89,
     "metadata": {},
     "output_type": "execute_result"
    }
   ],
   "source": [
    "audi_features_df_2 = pd.DataFrame(audio_features_total)\n",
    "audi_features_df_2.head()"
   ]
  },
  {
   "cell_type": "code",
   "execution_count": 90,
   "metadata": {},
   "outputs": [],
   "source": [
    "audi_features_df_2 = audi_features_df_2.drop(columns=['type', 'id', 'track_href', 'analysis_url', 'duration_ms', 'time_signature'])"
   ]
  },
  {
   "cell_type": "code",
   "execution_count": 91,
   "metadata": {},
   "outputs": [
    {
     "data": {
      "text/html": [
       "<div>\n",
       "<style scoped>\n",
       "    .dataframe tbody tr th:only-of-type {\n",
       "        vertical-align: middle;\n",
       "    }\n",
       "\n",
       "    .dataframe tbody tr th {\n",
       "        vertical-align: top;\n",
       "    }\n",
       "\n",
       "    .dataframe thead th {\n",
       "        text-align: right;\n",
       "    }\n",
       "</style>\n",
       "<table border=\"1\" class=\"dataframe\">\n",
       "  <thead>\n",
       "    <tr style=\"text-align: right;\">\n",
       "      <th></th>\n",
       "      <th>danceability</th>\n",
       "      <th>energy</th>\n",
       "      <th>key</th>\n",
       "      <th>loudness</th>\n",
       "      <th>mode</th>\n",
       "      <th>speechiness</th>\n",
       "      <th>acousticness</th>\n",
       "      <th>instrumentalness</th>\n",
       "      <th>liveness</th>\n",
       "      <th>valence</th>\n",
       "      <th>tempo</th>\n",
       "      <th>uri</th>\n",
       "    </tr>\n",
       "  </thead>\n",
       "  <tbody>\n",
       "    <tr>\n",
       "      <th>0</th>\n",
       "      <td>0.626</td>\n",
       "      <td>0.800</td>\n",
       "      <td>1</td>\n",
       "      <td>-3.988</td>\n",
       "      <td>0</td>\n",
       "      <td>0.0350</td>\n",
       "      <td>0.0267</td>\n",
       "      <td>0.000138</td>\n",
       "      <td>0.0623</td>\n",
       "      <td>0.258</td>\n",
       "      <td>127.966</td>\n",
       "      <td>spotify:track:0DhkTGjEaIHaSxTfC14BFm</td>\n",
       "    </tr>\n",
       "    <tr>\n",
       "      <th>1</th>\n",
       "      <td>0.691</td>\n",
       "      <td>0.509</td>\n",
       "      <td>6</td>\n",
       "      <td>-9.353</td>\n",
       "      <td>1</td>\n",
       "      <td>0.0459</td>\n",
       "      <td>0.4610</td>\n",
       "      <td>0.000003</td>\n",
       "      <td>0.1460</td>\n",
       "      <td>0.268</td>\n",
       "      <td>86.101</td>\n",
       "      <td>spotify:track:74lxmxZDGDr21dKyXU0rcr</td>\n",
       "    </tr>\n",
       "    <tr>\n",
       "      <th>2</th>\n",
       "      <td>0.756</td>\n",
       "      <td>0.743</td>\n",
       "      <td>5</td>\n",
       "      <td>-6.915</td>\n",
       "      <td>1</td>\n",
       "      <td>0.0968</td>\n",
       "      <td>0.0925</td>\n",
       "      <td>0.000290</td>\n",
       "      <td>0.0616</td>\n",
       "      <td>0.413</td>\n",
       "      <td>105.010</td>\n",
       "      <td>spotify:track:5wmlyNmVGwE3Y3TKKPFNpF</td>\n",
       "    </tr>\n",
       "    <tr>\n",
       "      <th>3</th>\n",
       "      <td>0.555</td>\n",
       "      <td>0.137</td>\n",
       "      <td>4</td>\n",
       "      <td>-13.874</td>\n",
       "      <td>0</td>\n",
       "      <td>0.0445</td>\n",
       "      <td>0.9630</td>\n",
       "      <td>0.000010</td>\n",
       "      <td>0.1210</td>\n",
       "      <td>0.205</td>\n",
       "      <td>137.798</td>\n",
       "      <td>spotify:track:3aN15iceA1SfExPEs6kfLj</td>\n",
       "    </tr>\n",
       "    <tr>\n",
       "      <th>4</th>\n",
       "      <td>0.486</td>\n",
       "      <td>0.854</td>\n",
       "      <td>0</td>\n",
       "      <td>-4.859</td>\n",
       "      <td>1</td>\n",
       "      <td>0.0569</td>\n",
       "      <td>0.0739</td>\n",
       "      <td>0.000011</td>\n",
       "      <td>0.3580</td>\n",
       "      <td>0.469</td>\n",
       "      <td>123.942</td>\n",
       "      <td>spotify:track:38tGRxFP5NkWbtOWsXbQ0L</td>\n",
       "    </tr>\n",
       "  </tbody>\n",
       "</table>\n",
       "</div>"
      ],
      "text/plain": [
       "   danceability  energy  key  loudness  mode  speechiness  acousticness  \\\n",
       "0         0.626   0.800    1    -3.988     0       0.0350        0.0267   \n",
       "1         0.691   0.509    6    -9.353     1       0.0459        0.4610   \n",
       "2         0.756   0.743    5    -6.915     1       0.0968        0.0925   \n",
       "3         0.555   0.137    4   -13.874     0       0.0445        0.9630   \n",
       "4         0.486   0.854    0    -4.859     1       0.0569        0.0739   \n",
       "\n",
       "   instrumentalness  liveness  valence    tempo  \\\n",
       "0          0.000138    0.0623    0.258  127.966   \n",
       "1          0.000003    0.1460    0.268   86.101   \n",
       "2          0.000290    0.0616    0.413  105.010   \n",
       "3          0.000010    0.1210    0.205  137.798   \n",
       "4          0.000011    0.3580    0.469  123.942   \n",
       "\n",
       "                                    uri  \n",
       "0  spotify:track:0DhkTGjEaIHaSxTfC14BFm  \n",
       "1  spotify:track:74lxmxZDGDr21dKyXU0rcr  \n",
       "2  spotify:track:5wmlyNmVGwE3Y3TKKPFNpF  \n",
       "3  spotify:track:3aN15iceA1SfExPEs6kfLj  \n",
       "4  spotify:track:38tGRxFP5NkWbtOWsXbQ0L  "
      ]
     },
     "execution_count": 91,
     "metadata": {},
     "output_type": "execute_result"
    }
   ],
   "source": [
    "audi_features_df_2.head()"
   ]
  },
  {
   "cell_type": "code",
   "execution_count": 92,
   "metadata": {},
   "outputs": [],
   "source": [
    "spotify_names_2 = pd.DataFrame({'Songtitle': song_names, 'Artist(s)': artist_names, 'uri': song_uri_total})"
   ]
  },
  {
   "cell_type": "code",
   "execution_count": 93,
   "metadata": {},
   "outputs": [
    {
     "data": {
      "text/html": [
       "<div>\n",
       "<style scoped>\n",
       "    .dataframe tbody tr th:only-of-type {\n",
       "        vertical-align: middle;\n",
       "    }\n",
       "\n",
       "    .dataframe tbody tr th {\n",
       "        vertical-align: top;\n",
       "    }\n",
       "\n",
       "    .dataframe thead th {\n",
       "        text-align: right;\n",
       "    }\n",
       "</style>\n",
       "<table border=\"1\" class=\"dataframe\">\n",
       "  <thead>\n",
       "    <tr style=\"text-align: right;\">\n",
       "      <th></th>\n",
       "      <th>Songtitle</th>\n",
       "      <th>Artist(s)</th>\n",
       "      <th>uri</th>\n",
       "    </tr>\n",
       "  </thead>\n",
       "  <tbody>\n",
       "    <tr>\n",
       "      <th>0</th>\n",
       "      <td>Lullaby</td>\n",
       "      <td>R3HAB, Mike Williams</td>\n",
       "      <td>spotify:track:0DhkTGjEaIHaSxTfC14BFm</td>\n",
       "    </tr>\n",
       "    <tr>\n",
       "      <th>1</th>\n",
       "      <td>Che vuoi che sia</td>\n",
       "      <td>Irama</td>\n",
       "      <td>spotify:track:74lxmxZDGDr21dKyXU0rcr</td>\n",
       "    </tr>\n",
       "    <tr>\n",
       "      <th>2</th>\n",
       "      <td>Din Krigare</td>\n",
       "      <td>Cluee, Rabih</td>\n",
       "      <td>spotify:track:5wmlyNmVGwE3Y3TKKPFNpF</td>\n",
       "    </tr>\n",
       "    <tr>\n",
       "      <th>3</th>\n",
       "      <td>Lullaby</td>\n",
       "      <td>Sara Mancuso</td>\n",
       "      <td>spotify:track:3aN15iceA1SfExPEs6kfLj</td>\n",
       "    </tr>\n",
       "    <tr>\n",
       "      <th>4</th>\n",
       "      <td>Old Guitar</td>\n",
       "      <td>BUNT.</td>\n",
       "      <td>spotify:track:38tGRxFP5NkWbtOWsXbQ0L</td>\n",
       "    </tr>\n",
       "    <tr>\n",
       "      <th>...</th>\n",
       "      <td>...</td>\n",
       "      <td>...</td>\n",
       "      <td>...</td>\n",
       "    </tr>\n",
       "    <tr>\n",
       "      <th>9978</th>\n",
       "      <td>Make It Right</td>\n",
       "      <td>Denvre</td>\n",
       "      <td>spotify:track:071xJT5GV6CCyWKXQpGx9B</td>\n",
       "    </tr>\n",
       "    <tr>\n",
       "      <th>9979</th>\n",
       "      <td>Hometown</td>\n",
       "      <td>Cailee Rae</td>\n",
       "      <td>spotify:track:7KhfYu171bETqDqV262jwE</td>\n",
       "    </tr>\n",
       "    <tr>\n",
       "      <th>9980</th>\n",
       "      <td>waves</td>\n",
       "      <td>renforshort</td>\n",
       "      <td>spotify:track:76gK9am1WZ3BwO73xnAOcf</td>\n",
       "    </tr>\n",
       "    <tr>\n",
       "      <th>9981</th>\n",
       "      <td>SAVIOR</td>\n",
       "      <td>Elley Duhé</td>\n",
       "      <td>spotify:track:60uwjx3zc93kVyUtNxVOsi</td>\n",
       "    </tr>\n",
       "    <tr>\n",
       "      <th>9982</th>\n",
       "      <td>I Wish It Was Me</td>\n",
       "      <td>Etham</td>\n",
       "      <td>spotify:track:5pu1NHwlPjOZVx6tP6IyL0</td>\n",
       "    </tr>\n",
       "  </tbody>\n",
       "</table>\n",
       "<p>9983 rows × 3 columns</p>\n",
       "</div>"
      ],
      "text/plain": [
       "             Songtitle             Artist(s)  \\\n",
       "0              Lullaby  R3HAB, Mike Williams   \n",
       "1     Che vuoi che sia                 Irama   \n",
       "2          Din Krigare          Cluee, Rabih   \n",
       "3              Lullaby          Sara Mancuso   \n",
       "4           Old Guitar                 BUNT.   \n",
       "...                ...                   ...   \n",
       "9978     Make It Right                Denvre   \n",
       "9979          Hometown            Cailee Rae   \n",
       "9980             waves           renforshort   \n",
       "9981            SAVIOR            Elley Duhé   \n",
       "9982  I Wish It Was Me                 Etham   \n",
       "\n",
       "                                       uri  \n",
       "0     spotify:track:0DhkTGjEaIHaSxTfC14BFm  \n",
       "1     spotify:track:74lxmxZDGDr21dKyXU0rcr  \n",
       "2     spotify:track:5wmlyNmVGwE3Y3TKKPFNpF  \n",
       "3     spotify:track:3aN15iceA1SfExPEs6kfLj  \n",
       "4     spotify:track:38tGRxFP5NkWbtOWsXbQ0L  \n",
       "...                                    ...  \n",
       "9978  spotify:track:071xJT5GV6CCyWKXQpGx9B  \n",
       "9979  spotify:track:7KhfYu171bETqDqV262jwE  \n",
       "9980  spotify:track:76gK9am1WZ3BwO73xnAOcf  \n",
       "9981  spotify:track:60uwjx3zc93kVyUtNxVOsi  \n",
       "9982  spotify:track:5pu1NHwlPjOZVx6tP6IyL0  \n",
       "\n",
       "[9983 rows x 3 columns]"
      ]
     },
     "execution_count": 93,
     "metadata": {},
     "output_type": "execute_result"
    }
   ],
   "source": [
    "spotify_names_2"
   ]
  },
  {
   "cell_type": "code",
   "execution_count": null,
   "metadata": {},
   "outputs": [],
   "source": []
  },
  {
   "cell_type": "code",
   "execution_count": null,
   "metadata": {},
   "outputs": [],
   "source": []
  },
  {
   "cell_type": "markdown",
   "metadata": {},
   "source": [
    "# Dataframe"
   ]
  },
  {
   "cell_type": "markdown",
   "metadata": {
    "heading_collapsed": true
   },
   "source": [
    "## Top 100"
   ]
  },
  {
   "cell_type": "code",
   "execution_count": 94,
   "metadata": {
    "hidden": true
   },
   "outputs": [
    {
     "data": {
      "text/html": [
       "<div>\n",
       "<style scoped>\n",
       "    .dataframe tbody tr th:only-of-type {\n",
       "        vertical-align: middle;\n",
       "    }\n",
       "\n",
       "    .dataframe tbody tr th {\n",
       "        vertical-align: top;\n",
       "    }\n",
       "\n",
       "    .dataframe thead th {\n",
       "        text-align: right;\n",
       "    }\n",
       "</style>\n",
       "<table border=\"1\" class=\"dataframe\">\n",
       "  <thead>\n",
       "    <tr style=\"text-align: right;\">\n",
       "      <th></th>\n",
       "      <th>Songtitle</th>\n",
       "      <th>Artist(s)</th>\n",
       "    </tr>\n",
       "  </thead>\n",
       "  <tbody>\n",
       "    <tr>\n",
       "      <th>0</th>\n",
       "      <td>Montero (Call Me By Your Name)</td>\n",
       "      <td>Lil Nas X</td>\n",
       "    </tr>\n",
       "    <tr>\n",
       "      <th>1</th>\n",
       "      <td>Peaches</td>\n",
       "      <td>Justin Bieber Featuring Daniel Caesar &amp; Giveon</td>\n",
       "    </tr>\n",
       "    <tr>\n",
       "      <th>2</th>\n",
       "      <td>Leave The Door Open</td>\n",
       "      <td>Silk Sonic (Bruno Mars &amp; Anderson .Paak)</td>\n",
       "    </tr>\n",
       "    <tr>\n",
       "      <th>3</th>\n",
       "      <td>Up</td>\n",
       "      <td>Cardi B</td>\n",
       "    </tr>\n",
       "    <tr>\n",
       "      <th>4</th>\n",
       "      <td>Drivers License</td>\n",
       "      <td>Olivia Rodrigo</td>\n",
       "    </tr>\n",
       "    <tr>\n",
       "      <th>...</th>\n",
       "      <td>...</td>\n",
       "      <td>...</td>\n",
       "    </tr>\n",
       "    <tr>\n",
       "      <th>95</th>\n",
       "      <td>Shock Da World</td>\n",
       "      <td>Rod Wave</td>\n",
       "    </tr>\n",
       "    <tr>\n",
       "      <th>96</th>\n",
       "      <td>You Got It</td>\n",
       "      <td>VEDO</td>\n",
       "    </tr>\n",
       "    <tr>\n",
       "      <th>97</th>\n",
       "      <td>Sneaky Links</td>\n",
       "      <td>Rod Wave</td>\n",
       "    </tr>\n",
       "    <tr>\n",
       "      <th>98</th>\n",
       "      <td>Nobody</td>\n",
       "      <td>Dylan Scott</td>\n",
       "    </tr>\n",
       "    <tr>\n",
       "      <th>99</th>\n",
       "      <td>Girl Like Me</td>\n",
       "      <td>Black Eyed Peas X Shakira</td>\n",
       "    </tr>\n",
       "  </tbody>\n",
       "</table>\n",
       "<p>100 rows × 2 columns</p>\n",
       "</div>"
      ],
      "text/plain": [
       "                         Songtitle  \\\n",
       "0   Montero (Call Me By Your Name)   \n",
       "1                          Peaches   \n",
       "2              Leave The Door Open   \n",
       "3                               Up   \n",
       "4                  Drivers License   \n",
       "..                             ...   \n",
       "95                  Shock Da World   \n",
       "96                      You Got It   \n",
       "97                    Sneaky Links   \n",
       "98                          Nobody   \n",
       "99                    Girl Like Me   \n",
       "\n",
       "                                         Artist(s)  \n",
       "0                                        Lil Nas X  \n",
       "1   Justin Bieber Featuring Daniel Caesar & Giveon  \n",
       "2         Silk Sonic (Bruno Mars & Anderson .Paak)  \n",
       "3                                          Cardi B  \n",
       "4                                   Olivia Rodrigo  \n",
       "..                                             ...  \n",
       "95                                        Rod Wave  \n",
       "96                                            VEDO  \n",
       "97                                        Rod Wave  \n",
       "98                                     Dylan Scott  \n",
       "99                       Black Eyed Peas X Shakira  \n",
       "\n",
       "[100 rows x 2 columns]"
      ]
     },
     "execution_count": 94,
     "metadata": {},
     "output_type": "execute_result"
    }
   ],
   "source": [
    "Top_100 = pd.DataFrame({'Songtitle': Songnames, 'Artist(s)': Artists})\n",
    "Top_100"
   ]
  },
  {
   "cell_type": "markdown",
   "metadata": {},
   "source": [
    "## Spotify"
   ]
  },
  {
   "cell_type": "code",
   "execution_count": 95,
   "metadata": {},
   "outputs": [
    {
     "data": {
      "text/html": [
       "<div>\n",
       "<style scoped>\n",
       "    .dataframe tbody tr th:only-of-type {\n",
       "        vertical-align: middle;\n",
       "    }\n",
       "\n",
       "    .dataframe tbody tr th {\n",
       "        vertical-align: top;\n",
       "    }\n",
       "\n",
       "    .dataframe thead th {\n",
       "        text-align: right;\n",
       "    }\n",
       "</style>\n",
       "<table border=\"1\" class=\"dataframe\">\n",
       "  <thead>\n",
       "    <tr style=\"text-align: right;\">\n",
       "      <th></th>\n",
       "      <th>danceability</th>\n",
       "      <th>energy</th>\n",
       "      <th>key</th>\n",
       "      <th>loudness</th>\n",
       "      <th>mode</th>\n",
       "      <th>speechiness</th>\n",
       "      <th>acousticness</th>\n",
       "      <th>instrumentalness</th>\n",
       "      <th>liveness</th>\n",
       "      <th>valence</th>\n",
       "      <th>tempo</th>\n",
       "      <th>uri</th>\n",
       "    </tr>\n",
       "  </thead>\n",
       "  <tbody>\n",
       "    <tr>\n",
       "      <th>0</th>\n",
       "      <td>0.735</td>\n",
       "      <td>0.491</td>\n",
       "      <td>0</td>\n",
       "      <td>-7.766</td>\n",
       "      <td>0</td>\n",
       "      <td>0.0427</td>\n",
       "      <td>0.15700</td>\n",
       "      <td>0.000060</td>\n",
       "      <td>0.121</td>\n",
       "      <td>0.5740</td>\n",
       "      <td>167.130</td>\n",
       "      <td>spotify:track:2pTW1GkqQ6dPTBOff2ZqQc</td>\n",
       "    </tr>\n",
       "    <tr>\n",
       "      <th>1</th>\n",
       "      <td>0.602</td>\n",
       "      <td>0.796</td>\n",
       "      <td>0</td>\n",
       "      <td>-3.657</td>\n",
       "      <td>0</td>\n",
       "      <td>0.1030</td>\n",
       "      <td>0.06820</td>\n",
       "      <td>0.120000</td>\n",
       "      <td>0.150</td>\n",
       "      <td>0.2650</td>\n",
       "      <td>126.060</td>\n",
       "      <td>spotify:track:47Z5890IcjSed81ldeLgqc</td>\n",
       "    </tr>\n",
       "    <tr>\n",
       "      <th>2</th>\n",
       "      <td>0.800</td>\n",
       "      <td>0.585</td>\n",
       "      <td>10</td>\n",
       "      <td>-7.343</td>\n",
       "      <td>1</td>\n",
       "      <td>0.0924</td>\n",
       "      <td>0.26400</td>\n",
       "      <td>0.000000</td>\n",
       "      <td>0.153</td>\n",
       "      <td>0.7790</td>\n",
       "      <td>126.058</td>\n",
       "      <td>spotify:track:6PGoSes0D9eUDeeAafB2As</td>\n",
       "    </tr>\n",
       "    <tr>\n",
       "      <th>3</th>\n",
       "      <td>0.747</td>\n",
       "      <td>0.592</td>\n",
       "      <td>8</td>\n",
       "      <td>-6.334</td>\n",
       "      <td>1</td>\n",
       "      <td>0.0457</td>\n",
       "      <td>0.00517</td>\n",
       "      <td>0.000015</td>\n",
       "      <td>0.124</td>\n",
       "      <td>0.1760</td>\n",
       "      <td>110.991</td>\n",
       "      <td>spotify:track:3sTCfUmYXSVWDacTd6uMbQ</td>\n",
       "    </tr>\n",
       "    <tr>\n",
       "      <th>4</th>\n",
       "      <td>0.341</td>\n",
       "      <td>0.193</td>\n",
       "      <td>2</td>\n",
       "      <td>-16.915</td>\n",
       "      <td>1</td>\n",
       "      <td>0.0364</td>\n",
       "      <td>0.84800</td>\n",
       "      <td>0.923000</td>\n",
       "      <td>0.131</td>\n",
       "      <td>0.0749</td>\n",
       "      <td>104.448</td>\n",
       "      <td>spotify:track:2Twe7p278J2GxzjQZWJZWM</td>\n",
       "    </tr>\n",
       "  </tbody>\n",
       "</table>\n",
       "</div>"
      ],
      "text/plain": [
       "   danceability  energy  key  loudness  mode  speechiness  acousticness  \\\n",
       "0         0.735   0.491    0    -7.766     0       0.0427       0.15700   \n",
       "1         0.602   0.796    0    -3.657     0       0.1030       0.06820   \n",
       "2         0.800   0.585   10    -7.343     1       0.0924       0.26400   \n",
       "3         0.747   0.592    8    -6.334     1       0.0457       0.00517   \n",
       "4         0.341   0.193    2   -16.915     1       0.0364       0.84800   \n",
       "\n",
       "   instrumentalness  liveness  valence    tempo  \\\n",
       "0          0.000060     0.121   0.5740  167.130   \n",
       "1          0.120000     0.150   0.2650  126.060   \n",
       "2          0.000000     0.153   0.7790  126.058   \n",
       "3          0.000015     0.124   0.1760  110.991   \n",
       "4          0.923000     0.131   0.0749  104.448   \n",
       "\n",
       "                                    uri  \n",
       "0  spotify:track:2pTW1GkqQ6dPTBOff2ZqQc  \n",
       "1  spotify:track:47Z5890IcjSed81ldeLgqc  \n",
       "2  spotify:track:6PGoSes0D9eUDeeAafB2As  \n",
       "3  spotify:track:3sTCfUmYXSVWDacTd6uMbQ  \n",
       "4  spotify:track:2Twe7p278J2GxzjQZWJZWM  "
      ]
     },
     "execution_count": 95,
     "metadata": {},
     "output_type": "execute_result"
    }
   ],
   "source": [
    "audi_features_df.head()"
   ]
  },
  {
   "cell_type": "code",
   "execution_count": 96,
   "metadata": {},
   "outputs": [
    {
     "data": {
      "text/html": [
       "<div>\n",
       "<style scoped>\n",
       "    .dataframe tbody tr th:only-of-type {\n",
       "        vertical-align: middle;\n",
       "    }\n",
       "\n",
       "    .dataframe tbody tr th {\n",
       "        vertical-align: top;\n",
       "    }\n",
       "\n",
       "    .dataframe thead th {\n",
       "        text-align: right;\n",
       "    }\n",
       "</style>\n",
       "<table border=\"1\" class=\"dataframe\">\n",
       "  <thead>\n",
       "    <tr style=\"text-align: right;\">\n",
       "      <th></th>\n",
       "      <th>Songtitle</th>\n",
       "      <th>Artist(s)</th>\n",
       "      <th>uri</th>\n",
       "    </tr>\n",
       "  </thead>\n",
       "  <tbody>\n",
       "    <tr>\n",
       "      <th>0</th>\n",
       "      <td>beverly</td>\n",
       "      <td>Koi</td>\n",
       "      <td>spotify:track:2pTW1GkqQ6dPTBOff2ZqQc</td>\n",
       "    </tr>\n",
       "    <tr>\n",
       "      <th>1</th>\n",
       "      <td>Titanium (feat. Sia)</td>\n",
       "      <td>David Guetta, Sia</td>\n",
       "      <td>spotify:track:47Z5890IcjSed81ldeLgqc</td>\n",
       "    </tr>\n",
       "    <tr>\n",
       "      <th>2</th>\n",
       "      <td>LOVE. FEAT. ZACARI.</td>\n",
       "      <td>Kendrick Lamar, Zacari</td>\n",
       "      <td>spotify:track:6PGoSes0D9eUDeeAafB2As</td>\n",
       "    </tr>\n",
       "    <tr>\n",
       "      <th>3</th>\n",
       "      <td>do re mi</td>\n",
       "      <td>blackbear</td>\n",
       "      <td>spotify:track:3sTCfUmYXSVWDacTd6uMbQ</td>\n",
       "    </tr>\n",
       "    <tr>\n",
       "      <th>4</th>\n",
       "      <td>Lord Of The Rings: The Fellowship Of The Ring ...</td>\n",
       "      <td>Raine, The City of Prague Philharmonic Orchest...</td>\n",
       "      <td>spotify:track:2Twe7p278J2GxzjQZWJZWM</td>\n",
       "    </tr>\n",
       "  </tbody>\n",
       "</table>\n",
       "</div>"
      ],
      "text/plain": [
       "                                           Songtitle  \\\n",
       "0                                            beverly   \n",
       "1                               Titanium (feat. Sia)   \n",
       "2                                LOVE. FEAT. ZACARI.   \n",
       "3                                           do re mi   \n",
       "4  Lord Of The Rings: The Fellowship Of The Ring ...   \n",
       "\n",
       "                                           Artist(s)  \\\n",
       "0                                                Koi   \n",
       "1                                  David Guetta, Sia   \n",
       "2                             Kendrick Lamar, Zacari   \n",
       "3                                          blackbear   \n",
       "4  Raine, The City of Prague Philharmonic Orchest...   \n",
       "\n",
       "                                    uri  \n",
       "0  spotify:track:2pTW1GkqQ6dPTBOff2ZqQc  \n",
       "1  spotify:track:47Z5890IcjSed81ldeLgqc  \n",
       "2  spotify:track:6PGoSes0D9eUDeeAafB2As  \n",
       "3  spotify:track:3sTCfUmYXSVWDacTd6uMbQ  \n",
       "4  spotify:track:2Twe7p278J2GxzjQZWJZWM  "
      ]
     },
     "execution_count": 96,
     "metadata": {},
     "output_type": "execute_result"
    }
   ],
   "source": [
    "spotify_names.head()"
   ]
  },
  {
   "cell_type": "code",
   "execution_count": 97,
   "metadata": {},
   "outputs": [],
   "source": [
    "Spotify_df = pd.merge(spotify_names, audi_features_df, how=\"inner\", on=[\"uri\", \"uri\"])"
   ]
  },
  {
   "cell_type": "code",
   "execution_count": 98,
   "metadata": {},
   "outputs": [
    {
     "data": {
      "text/html": [
       "<div>\n",
       "<style scoped>\n",
       "    .dataframe tbody tr th:only-of-type {\n",
       "        vertical-align: middle;\n",
       "    }\n",
       "\n",
       "    .dataframe tbody tr th {\n",
       "        vertical-align: top;\n",
       "    }\n",
       "\n",
       "    .dataframe thead th {\n",
       "        text-align: right;\n",
       "    }\n",
       "</style>\n",
       "<table border=\"1\" class=\"dataframe\">\n",
       "  <thead>\n",
       "    <tr style=\"text-align: right;\">\n",
       "      <th></th>\n",
       "      <th>Songtitle</th>\n",
       "      <th>Artist(s)</th>\n",
       "      <th>uri</th>\n",
       "      <th>danceability</th>\n",
       "      <th>energy</th>\n",
       "      <th>key</th>\n",
       "      <th>loudness</th>\n",
       "      <th>mode</th>\n",
       "      <th>speechiness</th>\n",
       "      <th>acousticness</th>\n",
       "      <th>instrumentalness</th>\n",
       "      <th>liveness</th>\n",
       "      <th>valence</th>\n",
       "      <th>tempo</th>\n",
       "    </tr>\n",
       "  </thead>\n",
       "  <tbody>\n",
       "    <tr>\n",
       "      <th>0</th>\n",
       "      <td>beverly</td>\n",
       "      <td>Koi</td>\n",
       "      <td>spotify:track:2pTW1GkqQ6dPTBOff2ZqQc</td>\n",
       "      <td>0.735</td>\n",
       "      <td>0.491</td>\n",
       "      <td>0</td>\n",
       "      <td>-7.766</td>\n",
       "      <td>0</td>\n",
       "      <td>0.0427</td>\n",
       "      <td>0.15700</td>\n",
       "      <td>0.000060</td>\n",
       "      <td>0.121</td>\n",
       "      <td>0.5740</td>\n",
       "      <td>167.130</td>\n",
       "    </tr>\n",
       "    <tr>\n",
       "      <th>1</th>\n",
       "      <td>Titanium (feat. Sia)</td>\n",
       "      <td>David Guetta, Sia</td>\n",
       "      <td>spotify:track:47Z5890IcjSed81ldeLgqc</td>\n",
       "      <td>0.602</td>\n",
       "      <td>0.796</td>\n",
       "      <td>0</td>\n",
       "      <td>-3.657</td>\n",
       "      <td>0</td>\n",
       "      <td>0.1030</td>\n",
       "      <td>0.06820</td>\n",
       "      <td>0.120000</td>\n",
       "      <td>0.150</td>\n",
       "      <td>0.2650</td>\n",
       "      <td>126.060</td>\n",
       "    </tr>\n",
       "    <tr>\n",
       "      <th>2</th>\n",
       "      <td>LOVE. FEAT. ZACARI.</td>\n",
       "      <td>Kendrick Lamar, Zacari</td>\n",
       "      <td>spotify:track:6PGoSes0D9eUDeeAafB2As</td>\n",
       "      <td>0.800</td>\n",
       "      <td>0.585</td>\n",
       "      <td>10</td>\n",
       "      <td>-7.343</td>\n",
       "      <td>1</td>\n",
       "      <td>0.0924</td>\n",
       "      <td>0.26400</td>\n",
       "      <td>0.000000</td>\n",
       "      <td>0.153</td>\n",
       "      <td>0.7790</td>\n",
       "      <td>126.058</td>\n",
       "    </tr>\n",
       "    <tr>\n",
       "      <th>3</th>\n",
       "      <td>do re mi</td>\n",
       "      <td>blackbear</td>\n",
       "      <td>spotify:track:3sTCfUmYXSVWDacTd6uMbQ</td>\n",
       "      <td>0.747</td>\n",
       "      <td>0.592</td>\n",
       "      <td>8</td>\n",
       "      <td>-6.334</td>\n",
       "      <td>1</td>\n",
       "      <td>0.0457</td>\n",
       "      <td>0.00517</td>\n",
       "      <td>0.000015</td>\n",
       "      <td>0.124</td>\n",
       "      <td>0.1760</td>\n",
       "      <td>110.991</td>\n",
       "    </tr>\n",
       "    <tr>\n",
       "      <th>4</th>\n",
       "      <td>Lord Of The Rings: The Fellowship Of The Ring ...</td>\n",
       "      <td>Raine, The City of Prague Philharmonic Orchest...</td>\n",
       "      <td>spotify:track:2Twe7p278J2GxzjQZWJZWM</td>\n",
       "      <td>0.341</td>\n",
       "      <td>0.193</td>\n",
       "      <td>2</td>\n",
       "      <td>-16.915</td>\n",
       "      <td>1</td>\n",
       "      <td>0.0364</td>\n",
       "      <td>0.84800</td>\n",
       "      <td>0.923000</td>\n",
       "      <td>0.131</td>\n",
       "      <td>0.0749</td>\n",
       "      <td>104.448</td>\n",
       "    </tr>\n",
       "  </tbody>\n",
       "</table>\n",
       "</div>"
      ],
      "text/plain": [
       "                                           Songtitle  \\\n",
       "0                                            beverly   \n",
       "1                               Titanium (feat. Sia)   \n",
       "2                                LOVE. FEAT. ZACARI.   \n",
       "3                                           do re mi   \n",
       "4  Lord Of The Rings: The Fellowship Of The Ring ...   \n",
       "\n",
       "                                           Artist(s)  \\\n",
       "0                                                Koi   \n",
       "1                                  David Guetta, Sia   \n",
       "2                             Kendrick Lamar, Zacari   \n",
       "3                                          blackbear   \n",
       "4  Raine, The City of Prague Philharmonic Orchest...   \n",
       "\n",
       "                                    uri  danceability  energy  key  loudness  \\\n",
       "0  spotify:track:2pTW1GkqQ6dPTBOff2ZqQc         0.735   0.491    0    -7.766   \n",
       "1  spotify:track:47Z5890IcjSed81ldeLgqc         0.602   0.796    0    -3.657   \n",
       "2  spotify:track:6PGoSes0D9eUDeeAafB2As         0.800   0.585   10    -7.343   \n",
       "3  spotify:track:3sTCfUmYXSVWDacTd6uMbQ         0.747   0.592    8    -6.334   \n",
       "4  spotify:track:2Twe7p278J2GxzjQZWJZWM         0.341   0.193    2   -16.915   \n",
       "\n",
       "   mode  speechiness  acousticness  instrumentalness  liveness  valence  \\\n",
       "0     0       0.0427       0.15700          0.000060     0.121   0.5740   \n",
       "1     0       0.1030       0.06820          0.120000     0.150   0.2650   \n",
       "2     1       0.0924       0.26400          0.000000     0.153   0.7790   \n",
       "3     1       0.0457       0.00517          0.000015     0.124   0.1760   \n",
       "4     1       0.0364       0.84800          0.923000     0.131   0.0749   \n",
       "\n",
       "     tempo  \n",
       "0  167.130  \n",
       "1  126.060  \n",
       "2  126.058  \n",
       "3  110.991  \n",
       "4  104.448  "
      ]
     },
     "execution_count": 98,
     "metadata": {},
     "output_type": "execute_result"
    }
   ],
   "source": [
    "Spotify_df.head()"
   ]
  },
  {
   "cell_type": "code",
   "execution_count": 99,
   "metadata": {},
   "outputs": [],
   "source": [
    "Spotify_2_df = pd.merge(spotify_names_2, audi_features_df_2, how=\"inner\", on=[\"uri\", \"uri\"])"
   ]
  },
  {
   "cell_type": "code",
   "execution_count": 100,
   "metadata": {},
   "outputs": [
    {
     "data": {
      "text/html": [
       "<div>\n",
       "<style scoped>\n",
       "    .dataframe tbody tr th:only-of-type {\n",
       "        vertical-align: middle;\n",
       "    }\n",
       "\n",
       "    .dataframe tbody tr th {\n",
       "        vertical-align: top;\n",
       "    }\n",
       "\n",
       "    .dataframe thead th {\n",
       "        text-align: right;\n",
       "    }\n",
       "</style>\n",
       "<table border=\"1\" class=\"dataframe\">\n",
       "  <thead>\n",
       "    <tr style=\"text-align: right;\">\n",
       "      <th></th>\n",
       "      <th>Songtitle</th>\n",
       "      <th>Artist(s)</th>\n",
       "      <th>uri</th>\n",
       "      <th>danceability</th>\n",
       "      <th>energy</th>\n",
       "      <th>key</th>\n",
       "      <th>loudness</th>\n",
       "      <th>mode</th>\n",
       "      <th>speechiness</th>\n",
       "      <th>acousticness</th>\n",
       "      <th>instrumentalness</th>\n",
       "      <th>liveness</th>\n",
       "      <th>valence</th>\n",
       "      <th>tempo</th>\n",
       "    </tr>\n",
       "  </thead>\n",
       "  <tbody>\n",
       "    <tr>\n",
       "      <th>0</th>\n",
       "      <td>Lullaby</td>\n",
       "      <td>R3HAB, Mike Williams</td>\n",
       "      <td>spotify:track:0DhkTGjEaIHaSxTfC14BFm</td>\n",
       "      <td>0.626</td>\n",
       "      <td>0.800</td>\n",
       "      <td>1</td>\n",
       "      <td>-3.988</td>\n",
       "      <td>0</td>\n",
       "      <td>0.0350</td>\n",
       "      <td>0.0267</td>\n",
       "      <td>0.000138</td>\n",
       "      <td>0.0623</td>\n",
       "      <td>0.258</td>\n",
       "      <td>127.966</td>\n",
       "    </tr>\n",
       "    <tr>\n",
       "      <th>1</th>\n",
       "      <td>Che vuoi che sia</td>\n",
       "      <td>Irama</td>\n",
       "      <td>spotify:track:74lxmxZDGDr21dKyXU0rcr</td>\n",
       "      <td>0.691</td>\n",
       "      <td>0.509</td>\n",
       "      <td>6</td>\n",
       "      <td>-9.353</td>\n",
       "      <td>1</td>\n",
       "      <td>0.0459</td>\n",
       "      <td>0.4610</td>\n",
       "      <td>0.000003</td>\n",
       "      <td>0.1460</td>\n",
       "      <td>0.268</td>\n",
       "      <td>86.101</td>\n",
       "    </tr>\n",
       "    <tr>\n",
       "      <th>2</th>\n",
       "      <td>Din Krigare</td>\n",
       "      <td>Cluee, Rabih</td>\n",
       "      <td>spotify:track:5wmlyNmVGwE3Y3TKKPFNpF</td>\n",
       "      <td>0.756</td>\n",
       "      <td>0.743</td>\n",
       "      <td>5</td>\n",
       "      <td>-6.915</td>\n",
       "      <td>1</td>\n",
       "      <td>0.0968</td>\n",
       "      <td>0.0925</td>\n",
       "      <td>0.000290</td>\n",
       "      <td>0.0616</td>\n",
       "      <td>0.413</td>\n",
       "      <td>105.010</td>\n",
       "    </tr>\n",
       "    <tr>\n",
       "      <th>3</th>\n",
       "      <td>Lullaby</td>\n",
       "      <td>Sara Mancuso</td>\n",
       "      <td>spotify:track:3aN15iceA1SfExPEs6kfLj</td>\n",
       "      <td>0.555</td>\n",
       "      <td>0.137</td>\n",
       "      <td>4</td>\n",
       "      <td>-13.874</td>\n",
       "      <td>0</td>\n",
       "      <td>0.0445</td>\n",
       "      <td>0.9630</td>\n",
       "      <td>0.000010</td>\n",
       "      <td>0.1210</td>\n",
       "      <td>0.205</td>\n",
       "      <td>137.798</td>\n",
       "    </tr>\n",
       "    <tr>\n",
       "      <th>4</th>\n",
       "      <td>Old Guitar</td>\n",
       "      <td>BUNT.</td>\n",
       "      <td>spotify:track:38tGRxFP5NkWbtOWsXbQ0L</td>\n",
       "      <td>0.486</td>\n",
       "      <td>0.854</td>\n",
       "      <td>0</td>\n",
       "      <td>-4.859</td>\n",
       "      <td>1</td>\n",
       "      <td>0.0569</td>\n",
       "      <td>0.0739</td>\n",
       "      <td>0.000011</td>\n",
       "      <td>0.3580</td>\n",
       "      <td>0.469</td>\n",
       "      <td>123.942</td>\n",
       "    </tr>\n",
       "  </tbody>\n",
       "</table>\n",
       "</div>"
      ],
      "text/plain": [
       "          Songtitle             Artist(s)  \\\n",
       "0           Lullaby  R3HAB, Mike Williams   \n",
       "1  Che vuoi che sia                 Irama   \n",
       "2       Din Krigare          Cluee, Rabih   \n",
       "3           Lullaby          Sara Mancuso   \n",
       "4        Old Guitar                 BUNT.   \n",
       "\n",
       "                                    uri  danceability  energy  key  loudness  \\\n",
       "0  spotify:track:0DhkTGjEaIHaSxTfC14BFm         0.626   0.800    1    -3.988   \n",
       "1  spotify:track:74lxmxZDGDr21dKyXU0rcr         0.691   0.509    6    -9.353   \n",
       "2  spotify:track:5wmlyNmVGwE3Y3TKKPFNpF         0.756   0.743    5    -6.915   \n",
       "3  spotify:track:3aN15iceA1SfExPEs6kfLj         0.555   0.137    4   -13.874   \n",
       "4  spotify:track:38tGRxFP5NkWbtOWsXbQ0L         0.486   0.854    0    -4.859   \n",
       "\n",
       "   mode  speechiness  acousticness  instrumentalness  liveness  valence  \\\n",
       "0     0       0.0350        0.0267          0.000138    0.0623    0.258   \n",
       "1     1       0.0459        0.4610          0.000003    0.1460    0.268   \n",
       "2     1       0.0968        0.0925          0.000290    0.0616    0.413   \n",
       "3     0       0.0445        0.9630          0.000010    0.1210    0.205   \n",
       "4     1       0.0569        0.0739          0.000011    0.3580    0.469   \n",
       "\n",
       "     tempo  \n",
       "0  127.966  \n",
       "1   86.101  \n",
       "2  105.010  \n",
       "3  137.798  \n",
       "4  123.942  "
      ]
     },
     "execution_count": 100,
     "metadata": {},
     "output_type": "execute_result"
    }
   ],
   "source": [
    "Spotify_2_df.head()"
   ]
  },
  {
   "cell_type": "code",
   "execution_count": 101,
   "metadata": {},
   "outputs": [],
   "source": [
    "result = Spotify_df.append(Spotify_2_df, sort=False)"
   ]
  },
  {
   "cell_type": "code",
   "execution_count": null,
   "metadata": {},
   "outputs": [],
   "source": [
    "result.to_csv(r'../Gnoosic/Spotify.csv', sep=',', index=False)"
   ]
  },
  {
   "cell_type": "code",
   "execution_count": null,
   "metadata": {},
   "outputs": [],
   "source": []
  }
 ],
 "metadata": {
  "kernelspec": {
   "display_name": "Python 3",
   "language": "python",
   "name": "python3"
  },
  "language_info": {
   "codemirror_mode": {
    "name": "ipython",
    "version": 3
   },
   "file_extension": ".py",
   "mimetype": "text/x-python",
   "name": "python",
   "nbconvert_exporter": "python",
   "pygments_lexer": "ipython3",
   "version": "3.8.5"
  },
  "toc": {
   "base_numbering": 1,
   "nav_menu": {},
   "number_sections": true,
   "sideBar": true,
   "skip_h1_title": false,
   "title_cell": "Table of Contents",
   "title_sidebar": "Contents",
   "toc_cell": false,
   "toc_position": {},
   "toc_section_display": true,
   "toc_window_display": false
  },
  "varInspector": {
   "cols": {
    "lenName": 16,
    "lenType": 16,
    "lenVar": 40
   },
   "kernels_config": {
    "python": {
     "delete_cmd_postfix": "",
     "delete_cmd_prefix": "del ",
     "library": "var_list.py",
     "varRefreshCmd": "print(var_dic_list())"
    },
    "r": {
     "delete_cmd_postfix": ") ",
     "delete_cmd_prefix": "rm(",
     "library": "var_list.r",
     "varRefreshCmd": "cat(var_dic_list()) "
    }
   },
   "types_to_exclude": [
    "module",
    "function",
    "builtin_function_or_method",
    "instance",
    "_Feature"
   ],
   "window_display": false
  }
 },
 "nbformat": 4,
 "nbformat_minor": 4
}
